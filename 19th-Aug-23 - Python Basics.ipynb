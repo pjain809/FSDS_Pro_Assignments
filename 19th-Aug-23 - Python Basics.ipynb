{
 "cells": [
  {
   "cell_type": "markdown",
   "id": "b283b7fb-9124-4e2c-9903-7375457b61aa",
   "metadata": {},
   "source": [
    "**TOPIC: PYTHON BASICS VARIABLE**"
   ]
  },
  {
   "cell_type": "markdown",
   "id": "ddfd6b42-0bd1-49b6-9b8d-d2d3da97a5b5",
   "metadata": {},
   "source": [
    "Declare two variables, `x` and `y`, and assign them integer values. Swap the\n",
    "values of these variables without using any temporary variable."
   ]
  },
  {
   "cell_type": "code",
   "execution_count": 1,
   "id": "a415ce2f-2933-422a-baa8-d1dbe5dd493f",
   "metadata": {},
   "outputs": [],
   "source": [
    "x = 14\n",
    "y = 19"
   ]
  },
  {
   "cell_type": "code",
   "execution_count": 2,
   "id": "74ef50fa-f0f9-4fd5-ba8e-7604a404879e",
   "metadata": {},
   "outputs": [
    {
     "data": {
      "text/plain": [
       "(14, 19)"
      ]
     },
     "execution_count": 2,
     "metadata": {},
     "output_type": "execute_result"
    }
   ],
   "source": [
    "x, y"
   ]
  },
  {
   "cell_type": "code",
   "execution_count": 3,
   "id": "13e0d4df-f931-480d-9a6e-c7369b28f5c5",
   "metadata": {},
   "outputs": [],
   "source": [
    "x = x + y\n",
    "y = x - y\n",
    "x = x - y"
   ]
  },
  {
   "cell_type": "code",
   "execution_count": 4,
   "id": "34ae09e4-edc0-4660-b88b-63a5be912049",
   "metadata": {},
   "outputs": [
    {
     "data": {
      "text/plain": [
       "(19, 14)"
      ]
     },
     "execution_count": 4,
     "metadata": {},
     "output_type": "execute_result"
    }
   ],
   "source": [
    "x, y"
   ]
  },
  {
   "cell_type": "markdown",
   "id": "ddbf39ca-4ffd-4b8e-ae62-e4595bc4d5de",
   "metadata": {},
   "source": [
    "Create a program that calculates the area of a rectangle. Take the length and width as inputs from the user and store them in variables. Calculate and\n",
    "display the area.\n"
   ]
  },
  {
   "cell_type": "code",
   "execution_count": 1,
   "id": "5205494f-f3e3-4d38-8211-faa4e36374c6",
   "metadata": {},
   "outputs": [
    {
     "name": "stdin",
     "output_type": "stream",
     "text": [
      "Enter the length of the rectangle:  16\n",
      "Enter the width of the rectangle:  44\n"
     ]
    },
    {
     "name": "stdout",
     "output_type": "stream",
     "text": [
      "Area of Rectangle: 704\n"
     ]
    }
   ],
   "source": [
    "length = int(input(\"Enter the length of the rectangle: \"))\n",
    "width = int(input(\"Enter the width of the rectangle: \"))\n",
    "\n",
    "area = length * width\n",
    "print(f\"Area of Rectangle: {area}\")"
   ]
  },
  {
   "cell_type": "markdown",
   "id": "01d8bb77-3a22-4177-a995-372c858a008c",
   "metadata": {},
   "source": [
    "Write a Python program that converts temperatures from Celsius to Fahrenheit. Take the temperature in Celsius as input, store it in a variable,\n",
    "convert it to Fahrenheit, and display the result."
   ]
  },
  {
   "cell_type": "code",
   "execution_count": 4,
   "id": "fa41aade-b87e-469b-8058-e80e6d8fc90b",
   "metadata": {},
   "outputs": [
    {
     "name": "stdin",
     "output_type": "stream",
     "text": [
      "Enter the current temperature (in celsius):  2\n"
     ]
    },
    {
     "name": "stdout",
     "output_type": "stream",
     "text": [
      "Equivalent Temperature (In Farenheit): 35.6 F\n"
     ]
    }
   ],
   "source": [
    "temp_in_c = int(input(\"Enter the current temperature (in celsius): \"))\n",
    "temp_in_f = temp_in_c * (9/5) + 32\n",
    "\n",
    "print(f\"Equivalent Temperature (In Farenheit): {temp_in_f} F\")"
   ]
  },
  {
   "cell_type": "markdown",
   "id": "a9562fb7-2301-45dc-85f3-86f5a8d1e0ae",
   "metadata": {},
   "source": [
    "**TOPIC: STRING BASED QUESTIONS**"
   ]
  },
  {
   "cell_type": "markdown",
   "id": "b89f65eb-a2ca-4d57-9805-2f027f30fbb1",
   "metadata": {},
   "source": [
    "Write a Python program that takes a string as input and prints the length of the string."
   ]
  },
  {
   "cell_type": "code",
   "execution_count": 6,
   "id": "94903899-7275-430d-9c91-037b12797996",
   "metadata": {},
   "outputs": [
    {
     "name": "stdin",
     "output_type": "stream",
     "text": [
      "Enter a String:  Paras Jain\n"
     ]
    },
    {
     "name": "stdout",
     "output_type": "stream",
     "text": [
      "10\n"
     ]
    }
   ],
   "source": [
    "string = input(\"Enter a String: \")\n",
    "print(len(string))"
   ]
  },
  {
   "cell_type": "markdown",
   "id": "7bd62fc8-89d7-4237-be3f-2b323e239f9a",
   "metadata": {},
   "source": [
    "Create a program that takes a sentence from the user and counts the number of vowels (a, e, i, o, u) in the string."
   ]
  },
  {
   "cell_type": "code",
   "execution_count": 7,
   "id": "cdb12b94-6637-47b6-9158-4314018014cc",
   "metadata": {},
   "outputs": [
    {
     "name": "stdin",
     "output_type": "stream",
     "text": [
      "Enter a Sentence:  I am learning a course from PW Skills.\n"
     ]
    },
    {
     "name": "stdout",
     "output_type": "stream",
     "text": [
      "10\n"
     ]
    }
   ],
   "source": [
    "sentence = input(\"Enter a Sentence: \")\n",
    "print(sentence.count('a') + sentence.count('e') + sentence.count('i') + sentence.count('o') + sentence.count('u'))"
   ]
  },
  {
   "cell_type": "markdown",
   "id": "9ef1326e-9b69-4955-877a-d8e6505ae2cf",
   "metadata": {},
   "source": [
    "Given a string, reverse the order of characters using string slicing and print the reversed string."
   ]
  },
  {
   "cell_type": "code",
   "execution_count": 9,
   "id": "f59d7ee3-1990-4f6d-bd88-578b4c435baf",
   "metadata": {},
   "outputs": [
    {
     "name": "stdin",
     "output_type": "stream",
     "text": [
      "Enter a String:  Have a good day to you, sir!\n"
     ]
    },
    {
     "name": "stdout",
     "output_type": "stream",
     "text": [
      "!ris ,uoy ot yad doog a evaH\n"
     ]
    }
   ],
   "source": [
    "string_org = input(\"Enter a String: \")\n",
    "print(string_org[::-1])"
   ]
  },
  {
   "cell_type": "markdown",
   "id": "6cdbd5e9-148b-4f7d-bebe-17a55872cc8a",
   "metadata": {},
   "source": [
    "Write a program that takes a string as input and checks if it is a palindrome (reads the same forwards and backwards)."
   ]
  },
  {
   "cell_type": "code",
   "execution_count": 11,
   "id": "6d310437-0298-437b-9543-4c1fef2652cb",
   "metadata": {},
   "outputs": [
    {
     "name": "stdin",
     "output_type": "stream",
     "text": [
      "Enter a String:  Naman\n"
     ]
    },
    {
     "name": "stdout",
     "output_type": "stream",
     "text": [
      "String is a Palindrome.\n"
     ]
    }
   ],
   "source": [
    "string_org_1 = input(\"Enter a String: \")\n",
    "\n",
    "if string_org_1.lower() == string_org_1[::-1].lower():\n",
    "    print(\"String is a Palindrome.\")\n",
    "else:\n",
    "    print(\"Not a Palindrome.\")"
   ]
  },
  {
   "cell_type": "markdown",
   "id": "78c00c0c-207e-4da7-9be9-9d9c3dc26872",
   "metadata": {},
   "source": [
    "Create a program that takes a string as input and removes all the spaces from it. Print the modified string without spaces."
   ]
  },
  {
   "cell_type": "code",
   "execution_count": 14,
   "id": "58c64cdf-e671-4584-9c19-f6a92617948c",
   "metadata": {},
   "outputs": [
    {
     "name": "stdin",
     "output_type": "stream",
     "text": [
      "Enter a String:  Full Stack Data Science Pro\n"
     ]
    },
    {
     "name": "stdout",
     "output_type": "stream",
     "text": [
      "FullStackDataSciencePro\n"
     ]
    }
   ],
   "source": [
    "string_org_2 = input(\"Enter a String: \")\n",
    "\n",
    "print(string_org_2.replace(\" \", \"\"))"
   ]
  }
 ],
 "metadata": {
  "kernelspec": {
   "display_name": "Python 3 (ipykernel)",
   "language": "python",
   "name": "python3"
  },
  "language_info": {
   "codemirror_mode": {
    "name": "ipython",
    "version": 3
   },
   "file_extension": ".py",
   "mimetype": "text/x-python",
   "name": "python",
   "nbconvert_exporter": "python",
   "pygments_lexer": "ipython3",
   "version": "3.10.8"
  }
 },
 "nbformat": 4,
 "nbformat_minor": 5
}
