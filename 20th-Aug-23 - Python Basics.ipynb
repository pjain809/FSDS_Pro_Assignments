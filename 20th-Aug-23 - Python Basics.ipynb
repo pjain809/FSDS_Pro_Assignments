{
 "cells": [
  {
   "cell_type": "markdown",
   "id": "af6e26cb-60a7-4047-bd46-5e5fcd98e456",
   "metadata": {},
   "source": [
    "**TOPIC: STRING BASED ASSIGNMENT PROBLEM**"
   ]
  },
  {
   "cell_type": "markdown",
   "id": "484de681-3ee7-425b-94d8-c7fa884f3eb9",
   "metadata": {},
   "source": [
    "Q1. Write a program to reverse a string."
   ]
  },
  {
   "cell_type": "code",
   "execution_count": 3,
   "id": "05a96fa0-fa89-4130-a06a-aa88a0a76934",
   "metadata": {},
   "outputs": [
    {
     "name": "stdin",
     "output_type": "stream",
     "text": [
      "Please enter a string you wish to be reversed:  FSDS Pro Course\n"
     ]
    },
    {
     "name": "stdout",
     "output_type": "stream",
     "text": [
      "Reverse of the input string: esruoC orP SDSF\n"
     ]
    }
   ],
   "source": [
    "org_str = input(\"Please enter a string you wish to be reversed: \")\n",
    "\n",
    "rev_str = org_str[::-1]\n",
    "print(f\"Reverse of the input string: {rev_str}\")"
   ]
  },
  {
   "cell_type": "markdown",
   "id": "567f9fe1-0cd0-4705-a3dd-00f783d10585",
   "metadata": {},
   "source": [
    "Q2. Check if a string is a palindrome."
   ]
  },
  {
   "cell_type": "code",
   "execution_count": 6,
   "id": "29fe5390-b8b7-4d82-b6ac-415129308d23",
   "metadata": {},
   "outputs": [
    {
     "name": "stdin",
     "output_type": "stream",
     "text": [
      "Please enter a string to check for palindrome:  Naman\n"
     ]
    },
    {
     "name": "stdout",
     "output_type": "stream",
     "text": [
      "Input string is a Palindrome.\n"
     ]
    }
   ],
   "source": [
    "input_str = input(\"Please enter a string to check for palindrome: \")\n",
    "\n",
    "if input_str.lower() == input_str.lower()[::-1]:\n",
    "    print(\"Input string is a Palindrome.\")\n",
    "else:\n",
    "    print(\"Input string is not a Palindrome.\")    "
   ]
  },
  {
   "cell_type": "markdown",
   "id": "7f582cb9-220c-4de3-83e4-858d339c0bda",
   "metadata": {},
   "source": [
    "Q3. Convert a string to uppercase."
   ]
  },
  {
   "cell_type": "code",
   "execution_count": 7,
   "id": "fe1da8a2-179c-44d4-9f26-f5b52aaaf04c",
   "metadata": {},
   "outputs": [
    {
     "name": "stdin",
     "output_type": "stream",
     "text": [
      "Please enter a string to convert to uppercase:  data science\n"
     ]
    },
    {
     "name": "stdout",
     "output_type": "stream",
     "text": [
      "Uppercase of Input string: DATA SCIENCE\n"
     ]
    }
   ],
   "source": [
    "input_str = input(\"Please enter a string to convert to uppercase: \")\n",
    "\n",
    "print(f\"Uppercase of Input string: {input_str.upper()}\")"
   ]
  },
  {
   "cell_type": "markdown",
   "id": "89583084-812f-4093-95e0-4050f0df865a",
   "metadata": {},
   "source": [
    "Q4. Convert a string to lowercase."
   ]
  },
  {
   "cell_type": "code",
   "execution_count": 8,
   "id": "887ef74a-2916-4ae2-8a70-498fa50df7bf",
   "metadata": {},
   "outputs": [
    {
     "name": "stdin",
     "output_type": "stream",
     "text": [
      "Please enter a string to convert to lowercase:  DATA SCIEnce\n"
     ]
    },
    {
     "name": "stdout",
     "output_type": "stream",
     "text": [
      "Lowercase of Input string: data science\n"
     ]
    }
   ],
   "source": [
    "input_str = input(\"Please enter a string to convert to lowercase: \")\n",
    "\n",
    "print(f\"Lowercase of Input string: {input_str.lower()}\")"
   ]
  },
  {
   "cell_type": "markdown",
   "id": "7eb9aa21-1a25-4732-bc67-fcc38ee9fb73",
   "metadata": {},
   "source": [
    "Q5. Count the number of vowels in a string."
   ]
  },
  {
   "cell_type": "code",
   "execution_count": 13,
   "id": "adbb3559-070b-4400-9bee-2c017572d2e3",
   "metadata": {},
   "outputs": [
    {
     "name": "stdin",
     "output_type": "stream",
     "text": [
      "Please enter a string to count for vowels:  Machine Learning\n"
     ]
    },
    {
     "name": "stdout",
     "output_type": "stream",
     "text": [
      "Number of vowels in string: 6\n"
     ]
    }
   ],
   "source": [
    "input_str = input(\"Please enter a string to count for vowels: \")\n",
    "\n",
    "count = 0\n",
    "for char in input_str.lower():\n",
    "    if char in 'aeiou':\n",
    "        count += 1\n",
    "\n",
    "print(f\"Number of vowels in string: {count}\")"
   ]
  },
  {
   "cell_type": "markdown",
   "id": "e6124a01-37d6-4275-9761-6b87a302d34e",
   "metadata": {},
   "source": [
    "Q6. Count the number of consonants in a string."
   ]
  },
  {
   "cell_type": "code",
   "execution_count": 14,
   "id": "98b465d8-d9ce-4b2b-becd-0618ce2f0eec",
   "metadata": {},
   "outputs": [
    {
     "name": "stdin",
     "output_type": "stream",
     "text": [
      "Please enter a string to count for consonants:  Machine Learning\n"
     ]
    },
    {
     "name": "stdout",
     "output_type": "stream",
     "text": [
      "Number of consonants in string: 9\n"
     ]
    }
   ],
   "source": [
    "input_str = input(\"Please enter a string to count for consonants: \")\n",
    "\n",
    "count = 0\n",
    "for char in input_str.lower():\n",
    "    if char in 'bcdfghjklmnpqrstvwxyz':\n",
    "        count += 1\n",
    "\n",
    "print(f\"Number of consonants in string: {count}\")"
   ]
  },
  {
   "cell_type": "markdown",
   "id": "3348a858-7cec-4037-a2b9-7c25ba690d83",
   "metadata": {},
   "source": [
    "Q7. Remove all whitespaces from a string."
   ]
  },
  {
   "cell_type": "code",
   "execution_count": 17,
   "id": "b260b0b4-992e-45bf-a27a-d00580ecbe5e",
   "metadata": {},
   "outputs": [
    {
     "name": "stdin",
     "output_type": "stream",
     "text": [
      "Please enter a string to remove whitespaces:       Satur    day    \n"
     ]
    },
    {
     "name": "stdout",
     "output_type": "stream",
     "text": [
      "Result string after removing whitespaces: Saturday\n"
     ]
    }
   ],
   "source": [
    "input_str = input(\"Please enter a string to remove whitespaces: \")\n",
    "\n",
    "res_str = input_str.replace(' ', '')\n",
    "print(f\"Result string after removing whitespaces: {res_str}\")"
   ]
  },
  {
   "cell_type": "markdown",
   "id": "d06f76c1-eb61-42a0-b71b-28c219319000",
   "metadata": {},
   "source": [
    "Q8. Find the length of a string without using the `len()` function."
   ]
  },
  {
   "cell_type": "code",
   "execution_count": 18,
   "id": "53614c9c-d140-469a-9449-5b735bcb33b5",
   "metadata": {},
   "outputs": [
    {
     "name": "stdin",
     "output_type": "stream",
     "text": [
      "Please enter a string to calculate length:  Python Basics\n"
     ]
    },
    {
     "name": "stdout",
     "output_type": "stream",
     "text": [
      "Length of Input string: 13\n"
     ]
    }
   ],
   "source": [
    "input_str = input(\"Please enter a string to calculate length: \")\n",
    "\n",
    "count = 0\n",
    "for i in input_str:\n",
    "    count += 1\n",
    "\n",
    "print(f\"Length of Input string: {count}\")"
   ]
  },
  {
   "cell_type": "markdown",
   "id": "089c3d7a-62f3-4915-b327-5735948b2de4",
   "metadata": {},
   "source": [
    "Q9. Check if a string contains a specific word."
   ]
  },
  {
   "cell_type": "code",
   "execution_count": 23,
   "id": "fdd040e5-b15e-49c0-bbc5-9b8d4e0d409f",
   "metadata": {},
   "outputs": [
    {
     "name": "stdin",
     "output_type": "stream",
     "text": [
      "Enter the string:  We are learning python basics\n",
      "Enter the sub-string:  Python\n"
     ]
    },
    {
     "name": "stdout",
     "output_type": "stream",
     "text": [
      "\n",
      "'Python' is present in 'We are learning python basics'\n"
     ]
    }
   ],
   "source": [
    "org_str = input(\"Enter the string: \")\n",
    "sub_str = input(\"Enter the sub-string: \")\n",
    "\n",
    "if sub_str.lower() in org_str.lower():\n",
    "    print(f\"\\n'{sub_str}' is present in '{org_str}'\")\n",
    "else:\n",
    "    print(f\"\\n'{sub_str}' is not present in '{org_str}'\")"
   ]
  },
  {
   "cell_type": "markdown",
   "id": "bddd8d9c-0cc5-4732-ac96-ff446627a1cc",
   "metadata": {},
   "source": [
    "Q10. Replace a word in a string with another word."
   ]
  },
  {
   "cell_type": "code",
   "execution_count": 28,
   "id": "7d8000bf-27d5-417e-a7b8-854b8e437e0c",
   "metadata": {},
   "outputs": [
    {
     "name": "stdin",
     "output_type": "stream",
     "text": [
      "Enter the string:  We are learning Python basics.\n",
      "Enter the word to be replaced [case-sensitive]:  Python\n",
      "Enter the word to be replaced with:  SQL\n"
     ]
    },
    {
     "name": "stdout",
     "output_type": "stream",
     "text": [
      "\n",
      "Resulting string: We are learning SQL basics.\n"
     ]
    }
   ],
   "source": [
    "org_str = input(\"Enter the string: \")\n",
    "org_wrd = input(\"Enter the word to be replaced [case-sensitive]: \")\n",
    "rpl_wrd = input(\"Enter the word to be replaced with: \")\n",
    "\n",
    "if org_wrd in org_str:\n",
    "    print(f\"\\nResulting string: {org_str.replace(org_wrd, rpl_wrd)}\")\n",
    "else:\n",
    "    print(f\"\\nTarget word '{org_wrd}' not present in '{org_str}'\")"
   ]
  },
  {
   "cell_type": "markdown",
   "id": "12185722-1020-4fde-865e-cdecebb1e78a",
   "metadata": {},
   "source": [
    "Q11. Count the occurrences of a word in a string."
   ]
  },
  {
   "cell_type": "code",
   "execution_count": 34,
   "id": "03a53108-6e6f-4ca8-8108-391743f4f3a2",
   "metadata": {},
   "outputs": [
    {
     "name": "stdin",
     "output_type": "stream",
     "text": [
      "Enter the string:  in the waters, in the fire, in the cold, in the space.\n",
      "Enter the word to be counted [case-sensitive]:  in\n"
     ]
    },
    {
     "name": "stdout",
     "output_type": "stream",
     "text": [
      "\n",
      "'in' occured 4 times in 'in the waters, in the fire, in the cold, in the space.'\n"
     ]
    }
   ],
   "source": [
    "org_str = input(\"Enter the string: \")\n",
    "cnt_wrd = input(\"Enter the word to be counted [case-sensitive]: \")\n",
    "\n",
    "count = 0\n",
    "for word in org_str.split(\" \"):\n",
    "    if word == cnt_wrd:\n",
    "        count += 1\n",
    "        \n",
    "print(f\"\\n'{cnt_wrd}' occured {count} times in '{org_str}'\")"
   ]
  },
  {
   "cell_type": "markdown",
   "id": "64e048c4-d6b4-4f41-a872-bcc508215244",
   "metadata": {},
   "source": [
    "Q12. Find the first occurrence of a word in a string."
   ]
  },
  {
   "cell_type": "code",
   "execution_count": 43,
   "id": "5dc100e7-0c0a-47cd-b6d5-81489cf4ce2e",
   "metadata": {},
   "outputs": [
    {
     "name": "stdin",
     "output_type": "stream",
     "text": [
      "Enter the string:  in the waters, in the ocean.\n",
      "Enter the word:  in\n"
     ]
    },
    {
     "name": "stdout",
     "output_type": "stream",
     "text": [
      "\n",
      "First occurence of 'in' happens at index-0\n"
     ]
    }
   ],
   "source": [
    "orginl_str = input(\"Enter the string: \")\n",
    "f_ocur_wrd = input(\"Enter the word: \")\n",
    "\n",
    "print(f\"\\nFirst occurence of '{f_ocur_wrd}' happens at index-{orginl_str.lower().find(f_ocur_wrd.lower())}\")"
   ]
  },
  {
   "cell_type": "markdown",
   "id": "23b5abd8-3da0-4c0d-922d-98c72acf3be8",
   "metadata": {},
   "source": [
    "Q13. Find the last occurrence of a word in a string."
   ]
  },
  {
   "cell_type": "code",
   "execution_count": 44,
   "id": "8926be63-3f05-431e-8ae3-e66221f05452",
   "metadata": {},
   "outputs": [
    {
     "name": "stdin",
     "output_type": "stream",
     "text": [
      "Enter the string:  in the waters, in the ocean.\n",
      "Enter the word to be counted:  in\n"
     ]
    },
    {
     "name": "stdout",
     "output_type": "stream",
     "text": [
      "\n",
      "Last occurence of 'in' happens at index-15\n"
     ]
    }
   ],
   "source": [
    "orginl_str = input(\"Enter the string: \")\n",
    "l_ocur_wrd = input(\"Enter the word to be counted: \")\n",
    "\n",
    "print(f\"\\nLast occurence of '{l_ocur_wrd}' happens at index-{orginl_str.lower().rfind(l_ocur_wrd.lower())}\")"
   ]
  },
  {
   "cell_type": "markdown",
   "id": "def8eb08-fcdb-45a1-8091-4a922238136c",
   "metadata": {},
   "source": [
    "Q14. Split a string into a list of words."
   ]
  },
  {
   "cell_type": "code",
   "execution_count": 46,
   "id": "0e67e4e8-b8a6-4d55-8fdb-482bd3e63a1e",
   "metadata": {},
   "outputs": [
    {
     "name": "stdin",
     "output_type": "stream",
     "text": [
      "Enter the string:  This is my second assignment\n"
     ]
    },
    {
     "name": "stdout",
     "output_type": "stream",
     "text": [
      "\n",
      "List of words after splitting: ['This', 'is', 'my', 'second', 'assignment']\n"
     ]
    }
   ],
   "source": [
    "orig_str = input(\"Enter the string: \")\n",
    "\n",
    "print(f\"\\nList of words after splitting: {orig_str.split()}\")"
   ]
  },
  {
   "cell_type": "markdown",
   "id": "c11e98a7-6869-41a0-9f0b-891f7f744505",
   "metadata": {},
   "source": [
    "Q15. Join a list of words into a string."
   ]
  },
  {
   "cell_type": "code",
   "execution_count": 50,
   "id": "c75835d1-a95d-4c26-9b21-d1cb9feee5d1",
   "metadata": {},
   "outputs": [
    {
     "name": "stdin",
     "output_type": "stream",
     "text": [
      "Enter the first word to be added to the sentence:  India\n",
      "Enter the next word to be added to the sentence (Press 'n' to stop):  beat\n",
      "Enter the next word to be added to the sentence (Press 'n' to stop):  Pakistan\n",
      "Enter the next word to be added to the sentence (Press 'n' to stop):  with\n",
      "Enter the next word to be added to the sentence (Press 'n' to stop):  20\n",
      "Enter the next word to be added to the sentence (Press 'n' to stop):  overs\n",
      "Enter the next word to be added to the sentence (Press 'n' to stop):  remaining\n",
      "Enter the next word to be added to the sentence (Press 'n' to stop):  n\n"
     ]
    },
    {
     "name": "stdout",
     "output_type": "stream",
     "text": [
      "\n",
      "Final string after joining words: India beat Pakistan with 20 overs remaining\n"
     ]
    }
   ],
   "source": [
    "usrinput = input(\"Enter the first word to be added to the sentence: \")\n",
    "list_of_words = []\n",
    "\n",
    "while usrinput.lower() != 'n':\n",
    "    list_of_words.append(usrinput)\n",
    "    usrinput = input(\"Enter the next word to be added to the sentence (Press 'n' to stop): \")\n",
    "    \n",
    "print(f\"\\nFinal string after joining words: {' '.join(list_of_words)}\")"
   ]
  },
  {
   "cell_type": "markdown",
   "id": "7494a31e-de3e-41fd-b5b9-2a34ec77c4b8",
   "metadata": {},
   "source": [
    "Q16. Convert a string where words are separated by spaces to one where words are separated by underscores."
   ]
  },
  {
   "cell_type": "code",
   "execution_count": 51,
   "id": "e75302f7-e210-4bc1-bed3-e875f9d88d5f",
   "metadata": {},
   "outputs": [
    {
     "name": "stdin",
     "output_type": "stream",
     "text": [
      "Enter the string for replacing ' ' with '_':  FSDS Pro Course is a 12-months long education plan.\n"
     ]
    },
    {
     "name": "stdout",
     "output_type": "stream",
     "text": [
      "\n",
      "Resulting string would be FSDS_Pro_Course_is_a_12-months_long_education_plan.\n"
     ]
    }
   ],
   "source": [
    "org_str = input(\"Enter the string for replacing ' ' with '_': \")\n",
    "\n",
    "print(f\"\\nResulting string would be {org_str.replace(' ', '_')}\")"
   ]
  },
  {
   "cell_type": "markdown",
   "id": "14ce4055-270d-4b21-9ccf-90d3741e0e28",
   "metadata": {},
   "source": [
    "Q17. Check if a string starts with a specific word or phrase."
   ]
  },
  {
   "cell_type": "code",
   "execution_count": 55,
   "id": "c7e0aae9-9201-4ccd-ab29-b292ca108c0d",
   "metadata": {},
   "outputs": [
    {
     "name": "stdin",
     "output_type": "stream",
     "text": [
      "Enter a string:  We are going for camping this week.\n",
      "Enter a word/phrase for checking:  We are\n"
     ]
    },
    {
     "name": "stdout",
     "output_type": "stream",
     "text": [
      "\n",
      "'We are going for camping this week.' starts with 'We are'.\n"
     ]
    }
   ],
   "source": [
    "org_str = input(\"Enter a string: \")\n",
    "org_wrd = input(\"Enter a word/phrase for checking: \")\n",
    "\n",
    "if org_str.lower().startswith(org_wrd.lower()):\n",
    "    print(f\"\\n'{org_str}' starts with '{org_wrd}'.\")\n",
    "else:\n",
    "    print(f\"\\n'{org_str}' does not start with '{org_wrd}'.\")"
   ]
  },
  {
   "cell_type": "markdown",
   "id": "2d3bb363-b6d6-408f-bd48-4762c557e3e9",
   "metadata": {},
   "source": [
    "Q18. Check if a string ends with a specific word or phrase."
   ]
  },
  {
   "cell_type": "code",
   "execution_count": 58,
   "id": "646db11d-a5cd-4162-8de2-3b0ab964bf82",
   "metadata": {},
   "outputs": [
    {
     "name": "stdin",
     "output_type": "stream",
     "text": [
      "Enter a string:  We are going for camping this week\n",
      "Enter a word/phrase for checking:  this week\n"
     ]
    },
    {
     "name": "stdout",
     "output_type": "stream",
     "text": [
      "\n",
      "'We are going for camping this week' ends with 'this week'.\n"
     ]
    }
   ],
   "source": [
    "org_str = input(\"Enter a string: \")\n",
    "org_wrd = input(\"Enter a word/phrase for checking: \")\n",
    "\n",
    "if org_str.lower().endswith(org_wrd.lower()):\n",
    "    print(f\"\\n'{org_str}' ends with '{org_wrd}'.\")\n",
    "else:\n",
    "    print(f\"\\n'{org_str}' does not end with '{org_wrd}'.\")"
   ]
  },
  {
   "cell_type": "markdown",
   "id": "25b7fcd3-9561-4ae5-bb62-3af1bab07934",
   "metadata": {},
   "source": [
    "Q19. Convert a string to title case (e.g., \"hello world\" to \"Hello World\")."
   ]
  },
  {
   "cell_type": "code",
   "execution_count": 60,
   "id": "35cd3d3d-318e-4347-b81d-902022573dce",
   "metadata": {},
   "outputs": [
    {
     "name": "stdin",
     "output_type": "stream",
     "text": [
      "Enter the string:  hello world\n"
     ]
    },
    {
     "name": "stdout",
     "output_type": "stream",
     "text": [
      "\n",
      "The Title case version of string will be: Hello World\n"
     ]
    }
   ],
   "source": [
    "string = input(\"Enter the string: \")\n",
    "\n",
    "print(f\"\\nThe Title case version of string will be: {string.title()}\")"
   ]
  },
  {
   "cell_type": "markdown",
   "id": "05e28df9-e31e-448b-86d0-0cb63829f707",
   "metadata": {},
   "source": [
    "Q20. Find the longest word in a string."
   ]
  },
  {
   "cell_type": "code",
   "execution_count": 68,
   "id": "f2c57549-cf48-4560-8593-2b796facecee",
   "metadata": {},
   "outputs": [],
   "source": [
    "from functools import reduce"
   ]
  },
  {
   "cell_type": "code",
   "execution_count": 69,
   "id": "ee2d1e69-a8ab-4532-9774-f3b9f143d957",
   "metadata": {},
   "outputs": [
    {
     "name": "stdin",
     "output_type": "stream",
     "text": [
      "Enter the string:  I want to become a data science expert.\n"
     ]
    },
    {
     "name": "stdout",
     "output_type": "stream",
     "text": [
      "\n",
      "Longest word in string: science\n"
     ]
    }
   ],
   "source": [
    "string = input(\"Enter the string: \")\n",
    "\n",
    "print(f\"\\nLongest word in string: {reduce(lambda a, b: a if len(a)>=len(b) else b, string.split())}\")"
   ]
  },
  {
   "cell_type": "markdown",
   "id": "09b1f11c-3b93-4ca4-9252-1fc091f0454a",
   "metadata": {},
   "source": [
    "Q21. Find the shortest word in a string."
   ]
  },
  {
   "cell_type": "code",
   "execution_count": 72,
   "id": "f2e04d0c-61af-456a-8e32-d0a604b8d95e",
   "metadata": {},
   "outputs": [
    {
     "name": "stdin",
     "output_type": "stream",
     "text": [
      "Enter the string:  I want to become a data science expert.\n"
     ]
    },
    {
     "name": "stdout",
     "output_type": "stream",
     "text": [
      "\n",
      "Shortest word in string: I\n"
     ]
    }
   ],
   "source": [
    "string = input(\"Enter the string: \")\n",
    "\n",
    "print(f\"\\nShortest word in string: {reduce(lambda a, b: a if len(a)<=len(b) else b, string.split())}\")"
   ]
  },
  {
   "cell_type": "markdown",
   "id": "aac991aa-9897-4ba3-a6c6-bbf97976e9e3",
   "metadata": {},
   "source": [
    "Q22. Reverse the order of words in a string."
   ]
  },
  {
   "cell_type": "code",
   "execution_count": 74,
   "id": "3bfe3f46-7cca-40ab-b142-90e04b615191",
   "metadata": {},
   "outputs": [
    {
     "name": "stdin",
     "output_type": "stream",
     "text": [
      "Enter the string:  We will be going for camping again next week\n"
     ]
    },
    {
     "name": "stdout",
     "output_type": "stream",
     "text": [
      "\n",
      "Reversed order of string: week next again camping for going be will We\n"
     ]
    }
   ],
   "source": [
    "string = input(\"Enter the string: \")\n",
    "\n",
    "print(f\"\\nReversed order of string: {' '.join(string.split()[::-1])}\")"
   ]
  },
  {
   "cell_type": "markdown",
   "id": "5498030c-5557-42c1-a1ee-f1b9b7c2237d",
   "metadata": {},
   "source": [
    "Q23. Check if a string is alphanumeric."
   ]
  },
  {
   "cell_type": "code",
   "execution_count": 81,
   "id": "ac017aa7-d234-4205-a7b0-4be1f8c0e167",
   "metadata": {},
   "outputs": [
    {
     "name": "stdin",
     "output_type": "stream",
     "text": [
      "Enter the string:  Python3\n"
     ]
    },
    {
     "name": "stdout",
     "output_type": "stream",
     "text": [
      "\n",
      "Input string is alpha-numeric.\n"
     ]
    }
   ],
   "source": [
    "string = input(\"Enter the string: \")\n",
    "\n",
    "if string.isalnum():\n",
    "    print(\"\\nInput string is alpha-numeric.\")\n",
    "else:\n",
    "    print(\"\\nInput string is not alpha-numeric.\")"
   ]
  },
  {
   "cell_type": "markdown",
   "id": "aeaf8d38-c17e-4939-912e-e26ddc9b55f4",
   "metadata": {},
   "source": [
    "Q24. Extract all digits from a string."
   ]
  },
  {
   "cell_type": "code",
   "execution_count": 84,
   "id": "01cc5f54-a379-4831-9945-64be95e51d2a",
   "metadata": {},
   "outputs": [
    {
     "name": "stdin",
     "output_type": "stream",
     "text": [
      "Enter the string:  I am going shopping at 5. But John said to meet at 4.\n"
     ]
    },
    {
     "name": "stdout",
     "output_type": "stream",
     "text": [
      "Digits in string: [5, 4]\n"
     ]
    }
   ],
   "source": [
    "string = input(\"Enter the string: \")\n",
    "digits = []\n",
    "\n",
    "for char in string:\n",
    "    if char.isnumeric():\n",
    "         digits.append(int(char))\n",
    "\n",
    "print(f\"Digits in string: {digits}\")"
   ]
  },
  {
   "cell_type": "markdown",
   "id": "fc1c6687-1671-41ff-85c8-e50c00c418db",
   "metadata": {},
   "source": [
    "Q25. Extract all alphabets from a string."
   ]
  },
  {
   "cell_type": "code",
   "execution_count": 85,
   "id": "57c10bd4-e3ba-4556-be36-c368cc2586b7",
   "metadata": {},
   "outputs": [
    {
     "name": "stdin",
     "output_type": "stream",
     "text": [
      "Enter the string:  I am going shopping at 5.\n"
     ]
    },
    {
     "name": "stdout",
     "output_type": "stream",
     "text": [
      "Alphabets in string: ['I', 'a', 'm', 'g', 'o', 'i', 'n', 'g', 's', 'h', 'o', 'p', 'p', 'i', 'n', 'g', 'a', 't']\n"
     ]
    }
   ],
   "source": [
    "string = input(\"Enter the string: \")\n",
    "alphabets = []\n",
    "\n",
    "for char in string:\n",
    "    if char.isalpha():\n",
    "         alphabets.append(char)\n",
    "\n",
    "print(f\"Alphabets in string: {alphabets}\")"
   ]
  },
  {
   "cell_type": "markdown",
   "id": "2d74c9d2-3b45-43a1-b1b6-927a2c268945",
   "metadata": {},
   "source": [
    "Q26. Count the number of uppercase letters in a string."
   ]
  },
  {
   "cell_type": "code",
   "execution_count": 86,
   "id": "68901582-ecb4-416e-bbdd-e0cc1e2ccc8c",
   "metadata": {},
   "outputs": [
    {
     "name": "stdin",
     "output_type": "stream",
     "text": [
      "Enter the string:  Sudhanshu sir teaches us Python basics and SQL.\n"
     ]
    },
    {
     "name": "stdout",
     "output_type": "stream",
     "text": [
      "Number of uppercase alphabets in string: 5\n"
     ]
    }
   ],
   "source": [
    "string = input(\"Enter the string: \")\n",
    "count = 0\n",
    "\n",
    "for char in string:\n",
    "    if char.isupper():\n",
    "         count += 1\n",
    "\n",
    "print(f\"Number of uppercase alphabets in string: {count}\")"
   ]
  },
  {
   "cell_type": "markdown",
   "id": "225d3c1f-08e0-49db-ae46-fc5ded2ee32b",
   "metadata": {},
   "source": [
    "Q27. Count the number of lowercase letters in a string."
   ]
  },
  {
   "cell_type": "code",
   "execution_count": 87,
   "id": "c77a1d73-5f60-4bd7-93ff-4a858bd9cde2",
   "metadata": {},
   "outputs": [
    {
     "name": "stdin",
     "output_type": "stream",
     "text": [
      "Enter the string:  Sudhanshu sir teaches us Python basics and SQL.\n"
     ]
    },
    {
     "name": "stdout",
     "output_type": "stream",
     "text": [
      "Number of lowercase alphabets in string: 34\n"
     ]
    }
   ],
   "source": [
    "string = input(\"Enter the string: \")\n",
    "count = 0\n",
    "\n",
    "for char in string:\n",
    "    if char.islower():\n",
    "         count += 1\n",
    "\n",
    "print(f\"Number of lowercase alphabets in string: {count}\")"
   ]
  },
  {
   "cell_type": "markdown",
   "id": "6a7bfaeb-b96f-490f-ae61-c63da137f71c",
   "metadata": {},
   "source": [
    "Q28. Swap the case of each character in a string."
   ]
  },
  {
   "cell_type": "code",
   "execution_count": 4,
   "id": "9100f9fa-9715-4774-b371-7dc53ac9a18c",
   "metadata": {},
   "outputs": [
    {
     "name": "stdin",
     "output_type": "stream",
     "text": [
      "Enter the string:  Sudhanshu sir teaches us Python basics and SQL.\n"
     ]
    },
    {
     "name": "stdout",
     "output_type": "stream",
     "text": [
      "Final string after swapping cases: sUDHANSHU SIR TEACHES US pYTHON BASICS AND sql.\n"
     ]
    }
   ],
   "source": [
    "string = input(\"Enter the string: \")\n",
    "res_str = \"\"\n",
    "\n",
    "for char in string:\n",
    "    if char.islower():\n",
    "        res_str+=char.upper()\n",
    "    elif char.isupper():\n",
    "        res_str+=char.lower()\n",
    "    else:\n",
    "        res_str+=char\n",
    "    \n",
    "print(f\"Final string after swapping cases: {res_str}\")"
   ]
  },
  {
   "cell_type": "markdown",
   "id": "bfaae0ef-cac0-4c62-8cd7-7c5f4201ec09",
   "metadata": {},
   "source": [
    "Q29. Remove a specific word from a string."
   ]
  },
  {
   "cell_type": "code",
   "execution_count": 6,
   "id": "b838e805-e9fe-4af4-a3e3-c9260e94662e",
   "metadata": {},
   "outputs": [
    {
     "name": "stdin",
     "output_type": "stream",
     "text": [
      "Enter the string:  My name is Paras Jain\n",
      "Enter the word to be removed [case-sensitive]:  Jain\n"
     ]
    },
    {
     "name": "stdout",
     "output_type": "stream",
     "text": [
      "\n",
      "Final string after removing target word: My name is Paras \n"
     ]
    }
   ],
   "source": [
    "string = input(\"Enter the string: \")\n",
    "rem_wrd = input(\"Enter the word to be removed [case-sensitive]: \")\n",
    "\n",
    "if rem_wrd in string:\n",
    "    print(f\"\\nFinal string after removing target word: {string.replace(rem_wrd, '')}\")\n",
    "else:\n",
    "    print(f\"\\nTarget word '{rem_wrd}' not present in string.\")"
   ]
  },
  {
   "cell_type": "markdown",
   "id": "f781236b-313c-4139-8de0-fc8c4f77b778",
   "metadata": {},
   "source": [
    "Q30. Check if a string is a valid email address."
   ]
  },
  {
   "cell_type": "code",
   "execution_count": 4,
   "id": "62e21d99-a825-4d07-82c7-3c9b7e7e6bad",
   "metadata": {},
   "outputs": [
    {
     "name": "stdin",
     "output_type": "stream",
     "text": [
      "Enter your mail address:  paras.jain@eclerx.com\n"
     ]
    },
    {
     "name": "stdout",
     "output_type": "stream",
     "text": [
      "Email Id is valid.\n"
     ]
    }
   ],
   "source": [
    "mail_id = input(\"Enter your mail address: \")\n",
    "lst_domns = ['gmail', 'outlook', 'yahoo', 'protonmail', 'eclerx', 'apple']\n",
    "lst_tldmn = ['com', 'gov', 'org', 'net', 'biz', 'info']\n",
    "\n",
    "if \"@\" in mail_id and \".\" in mail_id and not any(char in mail_id for char in [' ','~','`','!','#','$','%','^','&','*','(',')','|','\\\\','{','}','[',']',':',';','\"',\"'\", '?','/','>','<','*','-','+']):\n",
    "    domain = mail_id[mail_id.find('@')+1: mail_id.rfind('.')]\n",
    "    tldomn = mail_id[mail_id.rfind('.')+1:]\n",
    "    if domain.lower() in lst_domns and tldomn.lower() in lst_tldmn:\n",
    "        valid = True\n",
    "    else:\n",
    "        valid = False\n",
    "else:\n",
    "    valid = False\n",
    "    \n",
    "if valid:\n",
    "    print(\"Email Id is valid.\")\n",
    "else:\n",
    "    print(\"Email Id is invalid.\")"
   ]
  },
  {
   "cell_type": "markdown",
   "id": "45e7893d-8032-42f7-a16a-554bb5194860",
   "metadata": {},
   "source": [
    "Q31. Extract the username from an email address string."
   ]
  },
  {
   "cell_type": "code",
   "execution_count": 5,
   "id": "d3694ff1-84d1-4007-a5c9-e0eb565eb6df",
   "metadata": {},
   "outputs": [
    {
     "name": "stdin",
     "output_type": "stream",
     "text": [
      "Enter your mail address:  parasjain043@gmailcom\n"
     ]
    },
    {
     "name": "stdout",
     "output_type": "stream",
     "text": [
      "\n",
      "Your username is: parasjain043\n"
     ]
    }
   ],
   "source": [
    "mail_id = input(\"Enter your mail address: \")\n",
    "\n",
    "print(f\"\\nYour username is: {mail_id[:mail_id.find('@')]}\")"
   ]
  },
  {
   "cell_type": "markdown",
   "id": "6f9eea20-5fbe-431d-8f0c-4f9cacb07698",
   "metadata": {},
   "source": [
    "Q32. Extract the domain name from an email address string."
   ]
  },
  {
   "cell_type": "code",
   "execution_count": 7,
   "id": "ead64b55-9686-4f0a-b582-b311fc28943e",
   "metadata": {},
   "outputs": [
    {
     "name": "stdin",
     "output_type": "stream",
     "text": [
      "Enter your mail address:  parasjain043@gmail.com\n"
     ]
    },
    {
     "name": "stdout",
     "output_type": "stream",
     "text": [
      "\n",
      "Your domain-name is: gmail\n"
     ]
    }
   ],
   "source": [
    "mail_id = input(\"Enter your mail address: \")\n",
    "\n",
    "print(f\"\\nYour domain-name is: {mail_id[mail_id.find('@')+1: mail_id.rfind('.')]}\")"
   ]
  },
  {
   "cell_type": "markdown",
   "id": "23cb6f8b-d789-4ce4-b032-2da344a7dc9a",
   "metadata": {},
   "source": [
    "Q33. Replace multiple spaces in a string with a single space."
   ]
  },
  {
   "cell_type": "code",
   "execution_count": 10,
   "id": "3b553719-b8ac-4e07-b684-d6c04e03729d",
   "metadata": {},
   "outputs": [
    {
     "name": "stdin",
     "output_type": "stream",
     "text": [
      "Enter a string:          My       name is      Paras       Jain\n"
     ]
    },
    {
     "name": "stdout",
     "output_type": "stream",
     "text": [
      "\n",
      "Post replacing multiple spaces with single space, resulting string: My name is Paras Jain\n"
     ]
    }
   ],
   "source": [
    "string = input(\"Enter a string: \")\n",
    "\n",
    "print(f\"\\nPost replacing multiple spaces with single space, resulting string: {' '.join(string.split())}\")"
   ]
  },
  {
   "cell_type": "markdown",
   "id": "93de3d27-77fa-47f6-972f-95df9a955b31",
   "metadata": {},
   "source": [
    "Q34. Check if a string is a valid URL."
   ]
  },
  {
   "cell_type": "code",
   "execution_count": 11,
   "id": "ef06c2cc-8df1-40a8-a632-3f0a9386c317",
   "metadata": {},
   "outputs": [
    {
     "name": "stdin",
     "output_type": "stream",
     "text": [
      "Enter a URL:  https://red-waiter-gqqqi.pwskills.app/lab/tree/work/20th-Aug-23%20-%20Python%20Basics.ipynb\n"
     ]
    },
    {
     "name": "stdout",
     "output_type": "stream",
     "text": [
      "URL is valid.\n"
     ]
    }
   ],
   "source": [
    "url = input(\"Enter a URL: \")\n",
    "\n",
    "if any(i in url for i in ('https', 'http')) and all(i in url for i in (':', '//')):\n",
    "    print(\"URL is valid.\")\n",
    "else:\n",
    "    print(\"URL is invalid.\")"
   ]
  },
  {
   "cell_type": "markdown",
   "id": "97458801-2dbc-429b-8c7c-4c98f7303543",
   "metadata": {},
   "source": [
    "Q35. Extract the protocol (http or https) from a URL string."
   ]
  },
  {
   "cell_type": "code",
   "execution_count": 13,
   "id": "46ed2dfa-e71f-4f21-acce-b6bf7dd6ef62",
   "metadata": {},
   "outputs": [
    {
     "name": "stdin",
     "output_type": "stream",
     "text": [
      "Enter a URL:  https://red-waiter-gqqqi.pwskills.app/lab/tree/work/20th-Aug-23%20-%20Python%20Basics.ipynb\n"
     ]
    },
    {
     "name": "stdout",
     "output_type": "stream",
     "text": [
      "Protocol for the given url is: https\n"
     ]
    }
   ],
   "source": [
    "url = input(\"Enter a URL: \")\n",
    "\n",
    "print(f\"Protocol for the given url is: {url[:url.find('://')]}\")"
   ]
  },
  {
   "cell_type": "markdown",
   "id": "483e6654-0c3d-4192-8fab-b3ed08fff9c3",
   "metadata": {},
   "source": [
    "Q36. Find the frequency of each character in a string."
   ]
  },
  {
   "cell_type": "code",
   "execution_count": 16,
   "id": "e4690234-79f6-4d3f-8f81-7aef26405395",
   "metadata": {},
   "outputs": [],
   "source": [
    "from pprint import pprint"
   ]
  },
  {
   "cell_type": "code",
   "execution_count": 17,
   "id": "677dfc12-1b1b-4c63-aefb-01eeb7e56546",
   "metadata": {},
   "outputs": [
    {
     "name": "stdin",
     "output_type": "stream",
     "text": [
      "Enter a string:  Sudhanshu sir teaches us Python basics and SQL.\n"
     ]
    },
    {
     "name": "stdout",
     "output_type": "stream",
     "text": [
      "{' ': 7,\n",
      " '.': 1,\n",
      " 'L': 1,\n",
      " 'P': 1,\n",
      " 'Q': 1,\n",
      " 'S': 2,\n",
      " 'a': 4,\n",
      " 'b': 1,\n",
      " 'c': 2,\n",
      " 'd': 2,\n",
      " 'e': 2,\n",
      " 'h': 4,\n",
      " 'i': 2,\n",
      " 'n': 3,\n",
      " 'o': 1,\n",
      " 'r': 1,\n",
      " 's': 6,\n",
      " 't': 2,\n",
      " 'u': 3,\n",
      " 'y': 1}\n"
     ]
    }
   ],
   "source": [
    "string = input(\"Enter a string: \")\n",
    "frequency = {}\n",
    "\n",
    "for char in string:\n",
    "    if char not in frequency:\n",
    "        frequency[char] = 1\n",
    "    else:\n",
    "        frequency[char] += 1\n",
    "        \n",
    "pprint(frequency)"
   ]
  },
  {
   "cell_type": "markdown",
   "id": "54d28ee9-8a5b-40b3-a6a4-26573074ef09",
   "metadata": {},
   "source": [
    "Q37. Remove all punctuation from a string."
   ]
  },
  {
   "cell_type": "code",
   "execution_count": 6,
   "id": "7dbaf8a8-e807-41c7-963f-1d48491e9dfc",
   "metadata": {},
   "outputs": [
    {
     "name": "stdin",
     "output_type": "stream",
     "text": [
      "Enter a string:  When Martin Luther King said “I have a dream…” he was talking about civil rights and an end to racism.\n"
     ]
    },
    {
     "name": "stdout",
     "output_type": "stream",
     "text": [
      "Resulting string: When Martin Luther King said I have a dream he was talking about civil rights and an end to racism\n"
     ]
    }
   ],
   "source": [
    "string = input(\"Enter a string: \")\n",
    "pnct_chars = ['.','?','!',',',':',';','-','—','{','}','[',']','(',')',\"'\",'”','“','…']\n",
    "res_str = \"\"\n",
    "\n",
    "for char in string:\n",
    "    if char not in pnct_chars:\n",
    "        res_str += char\n",
    "        \n",
    "print(f\"Resulting string: {res_str}\")"
   ]
  },
  {
   "cell_type": "markdown",
   "id": "45d2d5bd-5e83-46e4-a3b0-a813b6c21927",
   "metadata": {},
   "source": [
    "Q38. Check if a string contains only digits."
   ]
  },
  {
   "cell_type": "code",
   "execution_count": 7,
   "id": "45f0c3b9-a40d-489d-909f-99ccd3cb90d0",
   "metadata": {},
   "outputs": [
    {
     "name": "stdin",
     "output_type": "stream",
     "text": [
      "Enter a string:  9711126273\n"
     ]
    },
    {
     "name": "stdout",
     "output_type": "stream",
     "text": [
      "Provided string contains only digits.\n"
     ]
    }
   ],
   "source": [
    "string = input(\"Enter a string: \")\n",
    "flag = True\n",
    "\n",
    "for char in string:\n",
    "    if not char.isnumeric():\n",
    "        flag = False\n",
    "        break\n",
    "\n",
    "if flag:\n",
    "    print(\"Provided string contains only digits.\")\n",
    "else:\n",
    "    print(\"Provided string contains characters other than digits.\")"
   ]
  },
  {
   "cell_type": "markdown",
   "id": "2253e9e9-71bd-48ad-ba33-d788b196d406",
   "metadata": {},
   "source": [
    "Q39. Check if a string contains only alphabets."
   ]
  },
  {
   "cell_type": "code",
   "execution_count": 9,
   "id": "e1a11bc7-b0b8-4393-9abb-63e22b0cb31f",
   "metadata": {},
   "outputs": [
    {
     "name": "stdin",
     "output_type": "stream",
     "text": [
      "Enter a string:  Python3\n"
     ]
    },
    {
     "name": "stdout",
     "output_type": "stream",
     "text": [
      "Provided string contains characters other than alphabets.\n"
     ]
    }
   ],
   "source": [
    "string = input(\"Enter a string: \")\n",
    "flag = True\n",
    "\n",
    "for char in string:\n",
    "    if not char.isalpha():\n",
    "        flag = False\n",
    "        break\n",
    "\n",
    "if flag:\n",
    "    print(\"Provided string contains only alphabets.\")\n",
    "else:\n",
    "    print(\"Provided string contains characters other than alphabets.\")"
   ]
  },
  {
   "cell_type": "markdown",
   "id": "1f5436da-6e5d-4d4b-b100-5b030225e96f",
   "metadata": {},
   "source": [
    "Q40. Convert a string to a list of characters."
   ]
  },
  {
   "cell_type": "code",
   "execution_count": 14,
   "id": "1ed976a1-4d80-4171-ad02-ff9c7444425d",
   "metadata": {},
   "outputs": [
    {
     "name": "stdin",
     "output_type": "stream",
     "text": [
      "Enter a string:  Python Basics\n"
     ]
    },
    {
     "name": "stdout",
     "output_type": "stream",
     "text": [
      "\n",
      "List of characters: \n",
      "['P', 'y', 't', 'h', 'o', 'n', ' ', 'B', 'a', 's', 'i', 'c', 's']\n"
     ]
    }
   ],
   "source": [
    "string = input(\"Enter a string: \")\n",
    "\n",
    "print(f\"\\nList of characters: \\n{list(string)}\")"
   ]
  },
  {
   "cell_type": "markdown",
   "id": "c5b51d75-64d6-4609-a60f-589c5def258d",
   "metadata": {},
   "source": [
    "Q41. Check if two strings are anagrams."
   ]
  },
  {
   "cell_type": "code",
   "execution_count": 19,
   "id": "f22e0ea6-e420-4d91-8853-843eaab5eb8a",
   "metadata": {},
   "outputs": [
    {
     "name": "stdin",
     "output_type": "stream",
     "text": [
      "Please provide string 1:  Listen\n",
      "Please provide string 2:  Silent\n"
     ]
    },
    {
     "name": "stdout",
     "output_type": "stream",
     "text": [
      "\n",
      "Both strings are anagrams.\n"
     ]
    }
   ],
   "source": [
    "str1 = input(\"Please provide string 1: \")\n",
    "str2 = input(\"Please provide string 2: \")\n",
    "freq1 = {}\n",
    "freq2 = {}\n",
    "\n",
    "for char in str1.lower():\n",
    "    if char not in freq1:\n",
    "        freq1[char] = 1\n",
    "    else:\n",
    "        freq1[char] += 1\n",
    "        \n",
    "for char in str2.lower():\n",
    "    if char not in freq2:\n",
    "        freq2[char] = 1\n",
    "    else:\n",
    "        freq2[char] += 1\n",
    "        \n",
    "if freq1 == freq2:\n",
    "    print(\"\\nBoth strings are anagrams.\")\n",
    "else:\n",
    "    print(\"\\nBoth strings are not anagrams.\")"
   ]
  },
  {
   "cell_type": "markdown",
   "id": "e7799458-3f85-4c1a-acf9-493004727dbf",
   "metadata": {},
   "source": [
    "Q42. Encode a string using a Caesar cipher."
   ]
  },
  {
   "cell_type": "code",
   "execution_count": 3,
   "id": "1d9c0cb1-ed03-4f0a-8c04-95a3edac3070",
   "metadata": {},
   "outputs": [
    {
     "name": "stdin",
     "output_type": "stream",
     "text": [
      "Please provide a string:  Data Science\n",
      "Please provide the key to emcode string using `caesar cipher` [integer]:  -1\n"
     ]
    },
    {
     "name": "stdout",
     "output_type": "stream",
     "text": [
      "\n",
      "Encoded string using provided key: C`s`\u001fRbhdmbd\n"
     ]
    }
   ],
   "source": [
    "string = input(\"Please provide a string: \")\n",
    "key = int(input(\"Please provide the key to encode string using `caesar cipher` [integer]: \"))\n",
    "res_str = \"\"\n",
    "\n",
    "for char in string:\n",
    "    res_str += chr(ord(char)+key)\n",
    "    \n",
    "print(f\"\\nEncoded string using provided key: {res_str}\")"
   ]
  },
  {
   "cell_type": "markdown",
   "id": "85878a15-1771-48b3-a770-f9000440f34f",
   "metadata": {},
   "source": [
    "Q43. Decode a Caesar cipher encoded string."
   ]
  },
  {
   "cell_type": "code",
   "execution_count": 4,
   "id": "350ae234-4fb5-494d-aa56-7d9ad6dcc175",
   "metadata": {},
   "outputs": [
    {
     "name": "stdin",
     "output_type": "stream",
     "text": [
      "Please provide a string:  C`s`\u001fRbhdmbd\n",
      "Please provide the key to decode string [same used to encode] [integer]:  -1\n"
     ]
    },
    {
     "name": "stdout",
     "output_type": "stream",
     "text": [
      "\n",
      "Decoded string using provided key: Data Science\n"
     ]
    }
   ],
   "source": [
    "string = input(\"Please provide a string: \")\n",
    "key = int(input(\"Please provide the key to decode string [same used to encode] [integer]: \"))\n",
    "res_str = \"\"\n",
    "\n",
    "for char in string:\n",
    "    res_str += chr(ord(char)-key)\n",
    "    \n",
    "print(f\"\\nDecoded string using provided key: {res_str}\")"
   ]
  },
  {
   "cell_type": "markdown",
   "id": "96753dc1-fe26-402a-b2e2-84a8de1899da",
   "metadata": {},
   "source": [
    "Q44. Find the most frequent word in a string."
   ]
  },
  {
   "cell_type": "code",
   "execution_count": 12,
   "id": "8b4bc01e-bf7c-4728-80e5-b253a4642af8",
   "metadata": {},
   "outputs": [
    {
     "name": "stdin",
     "output_type": "stream",
     "text": [
      "Please provide a string [multiple words]:  in the waters, under the oceans, In the fire and In the mountains\n"
     ]
    },
    {
     "name": "stdout",
     "output_type": "stream",
     "text": [
      "\n",
      "Most frequent word in string: the\n"
     ]
    }
   ],
   "source": [
    "string = input(\"Please provide a string [multiple words]: \")\n",
    "freq = {}\n",
    "\n",
    "for word in string.lower().split():\n",
    "    if word not in freq:\n",
    "        freq[word] = 1\n",
    "    else:\n",
    "        freq[word] += 1\n",
    "        \n",
    "max_f = 0\n",
    "max_f_word = None\n",
    "for word in freq.keys():\n",
    "    if freq[word] > max_f:\n",
    "        max_f = freq[word]\n",
    "        max_f_word = word\n",
    "        \n",
    "print(f\"\\nMost frequent word in string: {max_f_word}\")"
   ]
  },
  {
   "cell_type": "markdown",
   "id": "c0616418-dbe0-4dac-a5dc-b07f9e24fe2e",
   "metadata": {},
   "source": [
    "Q45. Find all unique words in a string."
   ]
  },
  {
   "cell_type": "code",
   "execution_count": 14,
   "id": "bcc8e7a5-d99d-4571-9ffd-711bbabe5a52",
   "metadata": {},
   "outputs": [
    {
     "name": "stdin",
     "output_type": "stream",
     "text": [
      "Please provide a string [multiple words]:  in the waters, under the oceans, In the fire and In the mountains\n"
     ]
    },
    {
     "name": "stdout",
     "output_type": "stream",
     "text": [
      "\n",
      "List of unique words: \n",
      "['waters,', 'under', 'oceans,', 'fire', 'and', 'mountains']\n"
     ]
    }
   ],
   "source": [
    "string = input(\"Please provide a string [multiple words]: \")\n",
    "freq = {}\n",
    "\n",
    "for word in string.lower().split():\n",
    "    if word not in freq:\n",
    "        freq[word] = 1\n",
    "    else:\n",
    "        freq[word] += 1\n",
    "\n",
    "unique_chr = []\n",
    "for word in freq.keys():\n",
    "    if freq[word] == 1:\n",
    "        unique_chr.append(word)\n",
    "        \n",
    "print(f\"\\nList of unique words: \\n{unique_chr}\")"
   ]
  },
  {
   "cell_type": "markdown",
   "id": "12f49c0c-1c64-4132-829b-8054a1bc0fba",
   "metadata": {},
   "source": [
    "Q46. Count the number of syllables in a string."
   ]
  },
  {
   "cell_type": "code",
   "execution_count": 17,
   "id": "814c39ba-5e5f-4699-8840-be6fd61864e9",
   "metadata": {},
   "outputs": [
    {
     "name": "stdin",
     "output_type": "stream",
     "text": [
      "Enter a string:  Data Science\n"
     ]
    },
    {
     "name": "stdout",
     "output_type": "stream",
     "text": [
      "\n",
      "Number of syllabes in given word: 3\n"
     ]
    }
   ],
   "source": [
    "string = input(\"Enter a string: \")\n",
    "vowels = 'aeiouy'\n",
    "string = string.lower()\n",
    "count = 0\n",
    "\n",
    "if string[0] in vowels:\n",
    "    count += 1\n",
    "\n",
    "for i in range(1, len(string)):\n",
    "    if string[i] in vowels and string[i-1] not in vowels:\n",
    "        count += 1\n",
    "\n",
    "if string.endswith('e'):\n",
    "    count -= 1\n",
    "\n",
    "if count == 0:\n",
    "    count += 1\n",
    "    \n",
    "print(f\"\\nNumber of syllabes in given word: {count}\")"
   ]
  },
  {
   "cell_type": "markdown",
   "id": "1f3d1834-5885-4828-bc7e-27cab56c4d9a",
   "metadata": {},
   "source": [
    "Q47. Check if a string contains any special characters."
   ]
  },
  {
   "cell_type": "code",
   "execution_count": 19,
   "id": "5e825dee-7ce7-41ad-950f-0c766c961b71",
   "metadata": {},
   "outputs": [
    {
     "name": "stdin",
     "output_type": "stream",
     "text": [
      "Please enter a string:  I grabbed 85% in today's test\n"
     ]
    },
    {
     "name": "stdout",
     "output_type": "stream",
     "text": [
      "\n",
      "Given string contains special character/s.\n"
     ]
    }
   ],
   "source": [
    "string = input(\"Please enter a string: \")\n",
    "sp_chr = [' ',',','.','&','*','(',')','\\\\','{','}','[',']',';',\"'\",'/','-','+','=']\n",
    "flag = False\n",
    "\n",
    "for char in string:\n",
    "    if char in sp_chr:\n",
    "        flag = True\n",
    "        break\n",
    "        \n",
    "if flag:\n",
    "    print(\"\\nGiven string contains special character/s.\")\n",
    "else:\n",
    "    print(\"\\nGiven string does not contain any special character/s.\")"
   ]
  },
  {
   "cell_type": "markdown",
   "id": "fa35c55c-3766-443a-b723-6d871b790d0e",
   "metadata": {},
   "source": [
    "Q48. Remove the nth word from a string."
   ]
  },
  {
   "cell_type": "code",
   "execution_count": 25,
   "id": "4efa9bf6-b419-4848-9a86-26c929d38cda",
   "metadata": {},
   "outputs": [
    {
     "name": "stdin",
     "output_type": "stream",
     "text": [
      "Please provide string [multiple words]:  In the waters, under the oceans, In the fire and In the mountains\n",
      "Please provide the word num which is to removed [integer] [Eg. 1st word - Provide 1]:  4\n"
     ]
    },
    {
     "name": "stdout",
     "output_type": "stream",
     "text": [
      "\n",
      "Resulting string: In the waters, the oceans, In the fire and In the mountains\n"
     ]
    }
   ],
   "source": [
    "string = input(\"Please provide string [multiple words]: \")\n",
    "rm_wrd = int(input(\"Please provide the word position which is to removed [integer] [Eg. 1st word - Provide 1]: \"))\n",
    "wrd_lst = string.split(\" \")\n",
    "\n",
    "if rm_wrd <= 0 or rm_wrd > len(wrd_lst):\n",
    "    print(\"\\nPlease provide valid word num to be removed.\")\n",
    "else:\n",
    "    wrd_lst.pop(rm_wrd-1)\n",
    "    print(f\"\\nResulting string: {' '.join(wrd_lst)}\")"
   ]
  },
  {
   "cell_type": "markdown",
   "id": "5b4c36b7-7774-47f6-92ff-176a095c3e2f",
   "metadata": {},
   "source": [
    "Q49. Insert a word at the nth position in a string."
   ]
  },
  {
   "cell_type": "code",
   "execution_count": 27,
   "id": "830350de-bf0f-404a-85e2-f9cad3ec86c4",
   "metadata": {},
   "outputs": [
    {
     "name": "stdin",
     "output_type": "stream",
     "text": [
      "Please provide string [multiple words]:  My name is Paras\n",
      "Please provide word which is to be inserted:  Jain\n",
      "Please provide the position where word is to be inserted [integer] [Eg. 1st word - Provide 1]:  5\n"
     ]
    },
    {
     "name": "stdout",
     "output_type": "stream",
     "text": [
      "\n",
      "Resulting string: My name is Paras Jain\n"
     ]
    }
   ],
   "source": [
    "string = input(\"Please provide string [multiple words]: \")\n",
    "word = input(\"Please provide word which is to be inserted: \")\n",
    "in_wrd = int(input(\"Please provide the position where word is to be inserted [integer] [Eg. 1st word - Provide 1]: \"))\n",
    "wrd_lst = string.split(\" \")\n",
    "\n",
    "if rm_wrd < 0 or rm_wrd > len(wrd_lst)+1:\n",
    "    print(\"\\nPlease provide valid word num to be removed.\")\n",
    "else:\n",
    "    wrd_lst.insert(in_wrd-1, word)\n",
    "    print(f\"\\nResulting string: {' '.join(wrd_lst)}\")"
   ]
  },
  {
   "cell_type": "markdown",
   "id": "9dc277e6-c3ec-4e4e-b53c-e1f1fe74953b",
   "metadata": {},
   "source": [
    "Q50. Convert a CSV string to a list of lists."
   ]
  },
  {
   "cell_type": "code",
   "execution_count": 30,
   "id": "cc4025f3-1964-4a49-9696-7787cd9881b9",
   "metadata": {},
   "outputs": [
    {
     "name": "stdin",
     "output_type": "stream",
     "text": [
      "Enter a CSV string:  hello,world\\ngoodbye,america\n"
     ]
    },
    {
     "name": "stdout",
     "output_type": "stream",
     "text": [
      "\n",
      "Final result: [['hello', 'world'], ['goodbye', 'america']]\n"
     ]
    }
   ],
   "source": [
    "string = input(\"Enter a CSV string: \")\n",
    "res = []\n",
    "tmp_list = []\n",
    "lines = string.split(\"\\\\n\")\n",
    "\n",
    "for line in lines:\n",
    "    res.append(line.split(','))\n",
    "    \n",
    "print(f\"\\nFinal result: {res}\")"
   ]
  },
  {
   "cell_type": "markdown",
   "id": "aefad3d8-97a2-46bd-af8e-b17a816b577d",
   "metadata": {},
   "source": [
    "**List Based Practice Problem :**"
   ]
  },
  {
   "cell_type": "markdown",
   "id": "8fcef013-40fb-41e1-8844-648713a3fa60",
   "metadata": {},
   "source": [
    "Q1. Create a list with integers from 1 to 10."
   ]
  },
  {
   "cell_type": "code",
   "execution_count": 2,
   "id": "8e6d21ba-49a6-43e7-900e-555664109b8b",
   "metadata": {},
   "outputs": [
    {
     "data": {
      "text/plain": [
       "[1, 2, 3, 4, 5, 6, 7, 8, 9, 10]"
      ]
     },
     "execution_count": 2,
     "metadata": {},
     "output_type": "execute_result"
    }
   ],
   "source": [
    "list(range(1, 11))"
   ]
  },
  {
   "cell_type": "markdown",
   "id": "38501a21-2a71-4c0f-8021-cd78f6cf3067",
   "metadata": {},
   "source": [
    "Q2. Find the length of a list without using the `len()` function."
   ]
  },
  {
   "cell_type": "code",
   "execution_count": 3,
   "id": "9602c948-4ba1-4722-9f27-3b85413dc417",
   "metadata": {},
   "outputs": [
    {
     "name": "stdout",
     "output_type": "stream",
     "text": [
      "Length of list: 5\n"
     ]
    }
   ],
   "source": [
    "lst = [12, 43, 56, 28, 9]\n",
    "count = 0\n",
    "\n",
    "for item in lst:\n",
    "    count += 1\n",
    "    \n",
    "print(f\"Length of list: {count}\")"
   ]
  },
  {
   "cell_type": "markdown",
   "id": "21307a21-4a50-4aa4-9bea-6edfe52fc771",
   "metadata": {},
   "source": [
    "Q3. Append an element to the end of a list."
   ]
  },
  {
   "cell_type": "code",
   "execution_count": 14,
   "id": "1bee8fc1-a22d-4a5a-80ad-48485c990596",
   "metadata": {},
   "outputs": [
    {
     "name": "stdin",
     "output_type": "stream",
     "text": [
      "Enter an element to append:  Jain\n"
     ]
    },
    {
     "name": "stdout",
     "output_type": "stream",
     "text": [
      "\n",
      "Final list: [12, 43, 56, 28, 9, 'Jain']\n"
     ]
    }
   ],
   "source": [
    "lst = [12, 43, 56, 28, 9]\n",
    "ele = input(\"Enter an element to append: \")\n",
    "\n",
    "lst.append(ele)\n",
    "print(f\"\\nFinal list: {lst}\")"
   ]
  },
  {
   "cell_type": "markdown",
   "id": "b5ad8126-a0e2-4b95-ad96-75afec501a46",
   "metadata": {},
   "source": [
    "Q4. Insert an element at a specific index in a list."
   ]
  },
  {
   "cell_type": "code",
   "execution_count": 15,
   "id": "124988b2-4d3d-43e7-85a5-94a253c367a8",
   "metadata": {},
   "outputs": [
    {
     "name": "stdin",
     "output_type": "stream",
     "text": [
      "Enter an element to insert:  Paras\n",
      "Please enter the index to insert element @:  2\n"
     ]
    },
    {
     "name": "stdout",
     "output_type": "stream",
     "text": [
      "\n",
      "Final list: [12, 43, 'Paras', 56, 28, 9]\n"
     ]
    }
   ],
   "source": [
    "lst = [12, 43, 56, 28, 9]\n",
    "ele = input(\"Enter an element to insert: \")\n",
    "inx = int(input(\"Please enter the index to insert element @: \"))\n",
    "\n",
    "lst.insert(inx, ele)\n",
    "print(f\"\\nFinal list: {lst}\")"
   ]
  },
  {
   "cell_type": "markdown",
   "id": "4ef98732-dbea-4843-922c-922837a8aa0d",
   "metadata": {},
   "source": [
    "Q5. Remove an element from a list by its value."
   ]
  },
  {
   "cell_type": "code",
   "execution_count": 16,
   "id": "04e6356e-3ef1-4210-bd6a-aa844f0b3497",
   "metadata": {},
   "outputs": [
    {
     "name": "stdin",
     "output_type": "stream",
     "text": [
      "Enter an element which is to be removed:  Paras\n"
     ]
    },
    {
     "name": "stdout",
     "output_type": "stream",
     "text": [
      "\n",
      "Final list: [12, 43, 56, 28, 9]\n"
     ]
    }
   ],
   "source": [
    "lst = [12, 43, 'Paras', 56, 28, 9]\n",
    "val = input(\"Enter an element which is to be removed: \")\n",
    "\n",
    "lst.remove(val)\n",
    "print(f\"\\nFinal list: {lst}\")"
   ]
  },
  {
   "cell_type": "markdown",
   "id": "65449ca1-b4ac-4153-8ae0-ad69cf6fe144",
   "metadata": {},
   "source": [
    "Q6. Remove an element from a list by its index."
   ]
  },
  {
   "cell_type": "code",
   "execution_count": 17,
   "id": "51ed24fd-a744-4fb1-b4a5-09003fdc4458",
   "metadata": {},
   "outputs": [
    {
     "name": "stdin",
     "output_type": "stream",
     "text": [
      "Enter index of element which is to be removed:  1\n"
     ]
    },
    {
     "name": "stdout",
     "output_type": "stream",
     "text": [
      "\n",
      "Final list: [12, 'Paras', 56, 28, 9]\n"
     ]
    }
   ],
   "source": [
    "lst = [12, 43, 'Paras', 56, 28, 9]\n",
    "inx = int(input(\"Enter index of element which is to be removed: \"))\n",
    "\n",
    "lst.pop(inx)\n",
    "print(f\"\\nFinal list: {lst}\")"
   ]
  },
  {
   "cell_type": "markdown",
   "id": "d8cddb2c-4dc0-43c0-854e-4bc90012b3a9",
   "metadata": {},
   "source": [
    "Q7. Check if an element exists in a list."
   ]
  },
  {
   "cell_type": "code",
   "execution_count": 20,
   "id": "c7981b52-1c9e-4aca-8c5d-5d85a3085be8",
   "metadata": {},
   "outputs": [
    {
     "name": "stdin",
     "output_type": "stream",
     "text": [
      "Enter an element to check it's existence in list:  Paras\n"
     ]
    },
    {
     "name": "stdout",
     "output_type": "stream",
     "text": [
      "Elements exists.\n"
     ]
    }
   ],
   "source": [
    "[12, 43, 'Paras', 56, 28, 9]\n",
    "ele = input(\"Enter an element to check it's existence in list: \")\n",
    "\n",
    "if ele in lst:\n",
    "    print(\"Elements exists.\")\n",
    "else:\n",
    "    print(\"Element does not exist.\")"
   ]
  },
  {
   "cell_type": "markdown",
   "id": "9f44047b-7d1d-467c-92c9-067fb6752ee6",
   "metadata": {},
   "source": [
    "Q8. Find the index of the first occurrence of an element in a list."
   ]
  },
  {
   "cell_type": "code",
   "execution_count": 21,
   "id": "2d59e1f4-9ff6-4204-9774-5097c8b0912e",
   "metadata": {},
   "outputs": [
    {
     "name": "stdin",
     "output_type": "stream",
     "text": [
      "Enter an element to search:  Jain\n"
     ]
    },
    {
     "data": {
      "text/plain": [
       "7"
      ]
     },
     "execution_count": 21,
     "metadata": {},
     "output_type": "execute_result"
    }
   ],
   "source": [
    "lst = [12, 43, 'Paras', 56, 28, 9, 12, 'Jain', 'Jain']\n",
    "ele = input(\"Enter an element to search: \")\n",
    "\n",
    "lst.index(ele)"
   ]
  },
  {
   "cell_type": "markdown",
   "id": "5963b317-8c58-4df7-92f5-03b07f61537c",
   "metadata": {},
   "source": [
    "Q9. Count the occurrences of an element in a list."
   ]
  },
  {
   "cell_type": "code",
   "execution_count": 22,
   "id": "7931ef5c-1e5e-41f3-b3a8-f860656fa6ab",
   "metadata": {},
   "outputs": [
    {
     "name": "stdin",
     "output_type": "stream",
     "text": [
      "Enter an element to search:  Jain\n"
     ]
    },
    {
     "data": {
      "text/plain": [
       "2"
      ]
     },
     "execution_count": 22,
     "metadata": {},
     "output_type": "execute_result"
    }
   ],
   "source": [
    "lst = [12, 43, 'Paras', 56, 28, 9, 12, 'Jain', 'Jain']\n",
    "ele = input(\"Enter an element to search: \")\n",
    "\n",
    "lst.count(ele)"
   ]
  },
  {
   "cell_type": "markdown",
   "id": "1e1f360d-34bc-4527-8890-b3ecb22ab55b",
   "metadata": {},
   "source": [
    "Q10. Reverse the order of elements in a list."
   ]
  },
  {
   "cell_type": "code",
   "execution_count": 23,
   "id": "3af3e457-b5e2-469d-b325-63a5668d3804",
   "metadata": {},
   "outputs": [
    {
     "name": "stdout",
     "output_type": "stream",
     "text": [
      "Rev list: ['Jain', 'Jain', 12, 9, 28, 56, 'Paras', 43, 12]\n"
     ]
    }
   ],
   "source": [
    "lst = [12, 43, 'Paras', 56, 28, 9, 12, 'Jain', 'Jain']\n",
    "\n",
    "print(f\"Rev list: {lst[::-1]}\")"
   ]
  },
  {
   "cell_type": "markdown",
   "id": "8554ed69-6058-4485-8df9-ccfdf789f808",
   "metadata": {},
   "source": [
    "Q11. Sort a list in ascending order."
   ]
  },
  {
   "cell_type": "code",
   "execution_count": 25,
   "id": "a9544bf0-d16d-4fef-b3da-0b7837e6a7d8",
   "metadata": {},
   "outputs": [
    {
     "name": "stdout",
     "output_type": "stream",
     "text": [
      "[3, 10, 12, 32, 34, 45, 54, 65]\n"
     ]
    }
   ],
   "source": [
    "lst = [12, 3, 45, 32, 65, 34, 54, 10]\n",
    "\n",
    "lst.sort()\n",
    "print(lst)"
   ]
  },
  {
   "cell_type": "markdown",
   "id": "fc925f33-562e-4822-a887-7e6015637d4e",
   "metadata": {},
   "source": [
    "Q12. Sort a list in descending order."
   ]
  },
  {
   "cell_type": "code",
   "execution_count": 26,
   "id": "2a49477b-cb5c-4e74-9892-2524f5fd0029",
   "metadata": {},
   "outputs": [
    {
     "name": "stdout",
     "output_type": "stream",
     "text": [
      "[65, 54, 45, 34, 32, 12, 10, 3]\n"
     ]
    }
   ],
   "source": [
    "lst = [12, 3, 45, 32, 65, 34, 54, 10]\n",
    "\n",
    "lst.sort(reverse=True)\n",
    "print(lst)"
   ]
  },
  {
   "cell_type": "markdown",
   "id": "609153c4-ef29-408f-9fa4-2043b4934cae",
   "metadata": {},
   "source": [
    "Q13. Create a list of even numbers from 1 to 20."
   ]
  },
  {
   "cell_type": "code",
   "execution_count": 27,
   "id": "dc012530-0a62-48d6-86d7-269315a5aba8",
   "metadata": {},
   "outputs": [
    {
     "data": {
      "text/plain": [
       "[2, 4, 6, 8, 10, 12, 14, 16, 18, 20]"
      ]
     },
     "execution_count": 27,
     "metadata": {},
     "output_type": "execute_result"
    }
   ],
   "source": [
    "list(range(2, 21, 2))"
   ]
  },
  {
   "cell_type": "markdown",
   "id": "96661ee6-571f-41f7-902f-feaf3d7b943a",
   "metadata": {},
   "source": [
    "Q14. Create a list of odd numbers from 1 to 20."
   ]
  },
  {
   "cell_type": "code",
   "execution_count": 28,
   "id": "0f68bdec-f4aa-4ddb-b6af-7e26f20b92cd",
   "metadata": {},
   "outputs": [
    {
     "data": {
      "text/plain": [
       "[1, 3, 5, 7, 9, 11, 13, 15, 17, 19]"
      ]
     },
     "execution_count": 28,
     "metadata": {},
     "output_type": "execute_result"
    }
   ],
   "source": [
    "list(range(1, 20, 2))"
   ]
  },
  {
   "cell_type": "markdown",
   "id": "5a29d2bf-a2d1-4d96-b11f-6da77e339cd0",
   "metadata": {},
   "source": [
    "Q15. Find the sum of all elements in a list."
   ]
  },
  {
   "cell_type": "code",
   "execution_count": 29,
   "id": "1c80b65a-a1bd-4bd9-95e7-2ac2d8ce639d",
   "metadata": {},
   "outputs": [
    {
     "name": "stdout",
     "output_type": "stream",
     "text": [
      "Sum: 255\n"
     ]
    }
   ],
   "source": [
    "lst = [12, 3, 45, 32, 65, 34, 54, 10]\n",
    "\n",
    "print(f\"Sum: {sum(lst)}\")"
   ]
  },
  {
   "cell_type": "markdown",
   "id": "5a473833-8031-4137-a66b-0760984ec14f",
   "metadata": {},
   "source": [
    "Q16. Find the maximum value in a list."
   ]
  },
  {
   "cell_type": "code",
   "execution_count": 30,
   "id": "7495c8db-e509-4dd9-9205-1f3e4878eaa4",
   "metadata": {},
   "outputs": [
    {
     "name": "stdout",
     "output_type": "stream",
     "text": [
      "Max number: 65\n"
     ]
    }
   ],
   "source": [
    "lst = [12, 3, 45, 32, 65, 34, 54, 10]\n",
    "\n",
    "print(f\"Max number: {max(lst)}\")"
   ]
  },
  {
   "cell_type": "markdown",
   "id": "8e1658a6-0b59-4efc-b28e-b9d525e9d36b",
   "metadata": {},
   "source": [
    "Q17. Find the minimum value in a list."
   ]
  },
  {
   "cell_type": "code",
   "execution_count": 31,
   "id": "f2d374e6-1958-4b13-afa2-cd022e0e04c5",
   "metadata": {},
   "outputs": [
    {
     "name": "stdout",
     "output_type": "stream",
     "text": [
      "Min number: 3\n"
     ]
    }
   ],
   "source": [
    "lst = [12, 3, 45, 32, 65, 34, 54, 10]\n",
    "\n",
    "print(f\"Min number: {min(lst)}\")"
   ]
  },
  {
   "cell_type": "markdown",
   "id": "9d49f303-d04c-4d12-a366-3a506df15f3e",
   "metadata": {},
   "source": [
    "Q18. Create a list of squares of numbers from 1 to 10."
   ]
  },
  {
   "cell_type": "code",
   "execution_count": 33,
   "id": "9accd47c-3ea0-4f99-9a47-0d3ac5cadf3a",
   "metadata": {},
   "outputs": [
    {
     "data": {
      "text/plain": [
       "[1, 4, 9, 16, 25, 36, 49, 64, 81, 100]"
      ]
     },
     "execution_count": 33,
     "metadata": {},
     "output_type": "execute_result"
    }
   ],
   "source": [
    "list(map(lambda a: a*a, list(range(1, 11))))"
   ]
  },
  {
   "cell_type": "markdown",
   "id": "d03c9c8e-9e4e-4775-a18a-f7a9f91b8b7e",
   "metadata": {},
   "source": [
    "Q19. Create a list of random numbers.   "
   ]
  },
  {
   "cell_type": "code",
   "execution_count": 1,
   "id": "236803d3-b266-49b2-a5f7-f3321222e232",
   "metadata": {},
   "outputs": [],
   "source": [
    "from random import randint"
   ]
  },
  {
   "cell_type": "code",
   "execution_count": 2,
   "id": "307d52f8-3e47-4d6d-bf3d-66f4f83f8aa2",
   "metadata": {},
   "outputs": [
    {
     "name": "stdout",
     "output_type": "stream",
     "text": [
      "Random list: [64, 28, 51, 78, 32, 46, 66, 7, 37, 20]\n"
     ]
    }
   ],
   "source": [
    "lst = []\n",
    "\n",
    "for i in range(10):\n",
    "    lst.append(randint(1, 100))\n",
    "    \n",
    "print(f\"Random list: {lst}\")"
   ]
  },
  {
   "cell_type": "markdown",
   "id": "2bee6eaf-2550-4827-a813-cafbe551d082",
   "metadata": {},
   "source": [
    "Q20. Remove duplicates from a list."
   ]
  },
  {
   "cell_type": "code",
   "execution_count": 3,
   "id": "b984532c-53ec-43b4-97ba-4af78aa542ed",
   "metadata": {},
   "outputs": [
    {
     "name": "stdout",
     "output_type": "stream",
     "text": [
      "Final list after rempving dulpicates: [65, 12, 13, 14, 15, 56]\n"
     ]
    }
   ],
   "source": [
    "lst = [12, 12, 13, 15, 14, 13, 13, 56, 65, 56, 56, 14]\n",
    "\n",
    "print(f\"Final list after rempving dulpicates: {list(set(lst))}\")"
   ]
  },
  {
   "cell_type": "markdown",
   "id": "9edbc0c0-f89f-4e1e-b4cb-f3875028213a",
   "metadata": {},
   "source": [
    "Q21. Find the common elements between two lists."
   ]
  },
  {
   "cell_type": "code",
   "execution_count": 5,
   "id": "a52a98b0-145c-4f5d-b14c-eeeaafa89637",
   "metadata": {},
   "outputs": [
    {
     "name": "stdout",
     "output_type": "stream",
     "text": [
      "Common elements between lists: [32, 20, 28, 78]\n"
     ]
    }
   ],
   "source": [
    "lst1 = [64, 28, 51, 78, 32, 46, 66, 7, 37, 20]\n",
    "lst2 = [28, 56, 10, 78, 19, 20, 65, 32, 9, 85]\n",
    "\n",
    "print(f\"Common elements between lists: {list(set(lst1) & set(lst2))}\")"
   ]
  },
  {
   "cell_type": "markdown",
   "id": "7ea37aa7-3588-415d-8582-e44bf9b25cce",
   "metadata": {},
   "source": [
    "Q22. Find the difference between two lists."
   ]
  },
  {
   "cell_type": "code",
   "execution_count": 7,
   "id": "a41b5e99-8c2d-4310-8c79-ac19c11facd6",
   "metadata": {},
   "outputs": [
    {
     "name": "stdout",
     "output_type": "stream",
     "text": [
      "Difference btw 2 lists: [64, 66, 37, 7, 46, 51]\n"
     ]
    }
   ],
   "source": [
    "lst1 = [64, 28, 51, 78, 32, 46, 66, 7, 37, 20]\n",
    "lst2 = [28, 56, 10, 78, 19, 20, 65, 32, 9, 85]\n",
    "\n",
    "print(f\"Difference btw 2 lists: {list(set(lst1) - set(lst2))}\")"
   ]
  },
  {
   "cell_type": "markdown",
   "id": "81469c01-331d-45a8-831a-72b5d8028b0c",
   "metadata": {},
   "source": [
    "Q23. Merge two lists."
   ]
  },
  {
   "cell_type": "code",
   "execution_count": 9,
   "id": "c9dca475-ec24-4ffd-9443-c88c72025fda",
   "metadata": {},
   "outputs": [
    {
     "name": "stdout",
     "output_type": "stream",
     "text": [
      "Merged list: [64, 28, 51, 78, 32, 46, 66, 7, 37, 20, 28, 56, 10, 78, 19, 20, 65, 32, 9, 85]\n"
     ]
    }
   ],
   "source": [
    "lst1 = [64, 28, 51, 78, 32, 46, 66, 7, 37, 20]\n",
    "lst2 = [28, 56, 10, 78, 19, 20, 65, 32, 9, 85]\n",
    "\n",
    "lst1.extend(lst2)\n",
    "print(f\"Merged list: {lst1}\")"
   ]
  },
  {
   "cell_type": "markdown",
   "id": "b8358969-b188-4eda-829f-c6a14f16ffca",
   "metadata": {},
   "source": [
    "Q24. Multiply all elements in a list by 2."
   ]
  },
  {
   "cell_type": "code",
   "execution_count": 11,
   "id": "96cb5330-e7b5-436b-898d-b8617957de27",
   "metadata": {},
   "outputs": [
    {
     "name": "stdout",
     "output_type": "stream",
     "text": [
      "Final list: [128, 56, 102, 156, 64, 92, 132, 14, 74, 40]\n"
     ]
    }
   ],
   "source": [
    "lst1 = [64, 28, 51, 78, 32, 46, 66, 7, 37, 20]\n",
    "\n",
    "print(f\"Final list: {list(map(lambda a: a*2, lst1))}\")"
   ]
  },
  {
   "cell_type": "markdown",
   "id": "9f01e39b-9e86-4a86-8e47-a45753842080",
   "metadata": {},
   "source": [
    "Q25. Filter out all even numbers from a list."
   ]
  },
  {
   "cell_type": "code",
   "execution_count": 14,
   "id": "b433e541-2c63-4386-a9e0-e394c4e93201",
   "metadata": {},
   "outputs": [
    {
     "name": "stdout",
     "output_type": "stream",
     "text": [
      "Final list: [51, 7, 37, 19, 65, 9, 85]\n"
     ]
    }
   ],
   "source": [
    "lst1 = [64, 28, 51, 78, 32, 46, 66, 7, 37, 20, 28, 56, 10, 78, 19, 20, 65, 32, 9, 85]\n",
    "\n",
    "print(f\"Final list: {list(filter(lambda a: a%2 != 0, lst1))}\")"
   ]
  },
  {
   "cell_type": "markdown",
   "id": "6aeb76d6-0826-49ad-b2e5-a86373d79c28",
   "metadata": {},
   "source": [
    "Q26. Convert a list of strings to a list of integers."
   ]
  },
  {
   "cell_type": "code",
   "execution_count": 16,
   "id": "2f9a9d62-d106-4d94-80aa-faa4fbc1da72",
   "metadata": {},
   "outputs": [
    {
     "name": "stdout",
     "output_type": "stream",
     "text": [
      "Final list: [1, 12, 32, 5, 43, 90]\n"
     ]
    }
   ],
   "source": [
    "lst1 = ['1', '12', '32', '5', '43', '90']\n",
    "\n",
    "print(f\"Final list: {list(map(lambda a: int(a), lst1))}\")"
   ]
  },
  {
   "cell_type": "markdown",
   "id": "304f18b6-9059-4fd1-a036-f23d55a7c3e9",
   "metadata": {},
   "source": [
    "Q27. Convert a list of integers to a list of strings."
   ]
  },
  {
   "cell_type": "code",
   "execution_count": 17,
   "id": "f253a327-5900-4ba6-b581-130d56b2a8bf",
   "metadata": {},
   "outputs": [
    {
     "name": "stdout",
     "output_type": "stream",
     "text": [
      "Final list: ['1', '12', '32', '5', '43', '90']\n"
     ]
    }
   ],
   "source": [
    "lst1 = [1, 12, 32, 5, 43, 90]\n",
    "\n",
    "print(f\"Final list: {list(map(lambda a: str(a), lst1))}\")"
   ]
  },
  {
   "cell_type": "markdown",
   "id": "1b6e0a34-cf6a-4c4d-9106-fe79badeecb4",
   "metadata": {},
   "source": [
    "Q28. Flatten a nested list."
   ]
  },
  {
   "cell_type": "code",
   "execution_count": 22,
   "id": "12986d19-4ae8-4333-86c9-b0009013854a",
   "metadata": {},
   "outputs": [
    {
     "name": "stdout",
     "output_type": "stream",
     "text": [
      "Final list: [1, 12, 32, 5, 43, 90, 64, 28, 51, 78, 32, 46, 66, 7, 37, 20, 'Mon', 'Tue', 'Wed']\n"
     ]
    }
   ],
   "source": [
    "lst1 = [1, 12, 32, 5, [64, 28, 51, 78, 32 ,46, 66, 7, 37, 20], 43, 90, ['Mon', 'Tue', 'Wed']]\n",
    "\n",
    "for inx, ele in enumerate(lst1):\n",
    "    if type(ele) == list:\n",
    "        add_ele = lst1.pop(inx)\n",
    "        lst1.extend(add_ele)\n",
    "        \n",
    "print(f\"Final list: {lst1}\")"
   ]
  },
  {
   "cell_type": "markdown",
   "id": "97607e92-222c-4e46-88f7-aefc980e0f7a",
   "metadata": {},
   "source": [
    "Q29. Create a list of the first 10 Fibonacci numbers"
   ]
  },
  {
   "cell_type": "code",
   "execution_count": 38,
   "id": "d2b4a65c-a457-450d-ad9e-74075a401109",
   "metadata": {
    "tags": []
   },
   "outputs": [
    {
     "name": "stdout",
     "output_type": "stream",
     "text": [
      "Fibonacci list: [0, 1, 1, 2, 3, 5, 8, 13, 21, 34]\n"
     ]
    }
   ],
   "source": [
    "fib = [0, 1]\n",
    "i = 0\n",
    "\n",
    "while i < 8:\n",
    "    fib.append(fib[-1] + fib[-2])\n",
    "    i += 1\n",
    "    \n",
    "print(f\"Fibonacci list: {fib}\")"
   ]
  },
  {
   "cell_type": "markdown",
   "id": "7034c5e6-cc92-447f-a383-9a1b2b661a6a",
   "metadata": {},
   "source": [
    "Q30. Check if a list is sorted."
   ]
  },
  {
   "cell_type": "code",
   "execution_count": 32,
   "id": "41e88d84-cd98-42f5-9e0a-073b705cf1ea",
   "metadata": {},
   "outputs": [
    {
     "name": "stdout",
     "output_type": "stream",
     "text": [
      "List is sorted.\n"
     ]
    }
   ],
   "source": [
    "lst1 = [90, 43, 32, 12, 5, 1]\n",
    "\n",
    "if all(lst1[i] >= lst1[i-1] for i in range(1, len(lst1))) or all(lst1[i] <= lst1[i-1] for i in range(1, len(lst1))):\n",
    "    print(\"List is sorted.\")\n",
    "else:\n",
    "    print(\"List is not sorted.\")"
   ]
  },
  {
   "cell_type": "markdown",
   "id": "8e8500f7-e230-4ca9-a793-7d3940fa06fc",
   "metadata": {},
   "source": [
    "Q31. Rotate a list to the left by `n` positions."
   ]
  },
  {
   "cell_type": "code",
   "execution_count": 35,
   "id": "7782db75-21c2-4eba-8572-32d00f6e5bf1",
   "metadata": {},
   "outputs": [
    {
     "name": "stdin",
     "output_type": "stream",
     "text": [
      "Enter the number of positions to rotate the list to left by:  4\n"
     ]
    },
    {
     "name": "stdout",
     "output_type": "stream",
     "text": [
      "\n",
      "Final list: [[64, 28, 51, 78, 32, 46, 66, 7, 37, 20], 43, 90, ['Mon', 'Tue', 'Wed'], 1, 12, 32, 5]\n"
     ]
    }
   ],
   "source": [
    "npos = int(input(\"Enter the number of positions to rotate the list to left by: \"))\n",
    "lst1 = [1, 12, 32, 5, [64, 28, 51, 78, 32 ,46, 66, 7, 37, 20], 43, 90, ['Mon', 'Tue', 'Wed']]\n",
    "\n",
    "for i in range(npos):\n",
    "    ele = lst1.pop(0)\n",
    "    lst1.append(ele)\n",
    "    \n",
    "print(f\"\\nFinal list: {lst1}\")"
   ]
  },
  {
   "cell_type": "markdown",
   "id": "077fba73-3973-4355-8839-bdb3dca62f11",
   "metadata": {},
   "source": [
    "Q32. Rotate a list to the right by `n` positions."
   ]
  },
  {
   "cell_type": "code",
   "execution_count": 36,
   "id": "41b560b9-cc48-497d-803a-ae5b93e7d7e4",
   "metadata": {},
   "outputs": [
    {
     "name": "stdin",
     "output_type": "stream",
     "text": [
      "Enter the number of positions to rotate the list to right by:  3\n"
     ]
    },
    {
     "name": "stdout",
     "output_type": "stream",
     "text": [
      "\n",
      "Final list: [43, 90, ['Mon', 'Tue', 'Wed'], 1, 12, 32, 5, [64, 28, 51, 78, 32, 46, 66, 7, 37, 20]]\n"
     ]
    }
   ],
   "source": [
    "npos = int(input(\"Enter the number of positions to rotate the list to right by: \"))\n",
    "lst1 = [1, 12, 32, 5, [64, 28, 51, 78, 32 ,46, 66, 7, 37, 20], 43, 90, ['Mon', 'Tue', 'Wed']]\n",
    "\n",
    "for i in range(npos):\n",
    "    ele = lst1.pop()\n",
    "    lst1.insert(0, ele)\n",
    "    \n",
    "print(f\"\\nFinal list: {lst1}\")"
   ]
  },
  {
   "cell_type": "markdown",
   "id": "c8c71556-2c4f-4efa-bbc2-cd3c8f7402d8",
   "metadata": {},
   "source": [
    "Q33. Create a list of prime numbers up to 50."
   ]
  },
  {
   "cell_type": "code",
   "execution_count": 42,
   "id": "52a665d2-19fa-4c03-9a19-46883e5a60e2",
   "metadata": {},
   "outputs": [
    {
     "name": "stdout",
     "output_type": "stream",
     "text": [
      "Prime numbers: [2, 3, 5, 7, 11, 13, 17, 19, 23, 29, 31, 37, 41, 43, 47]\n"
     ]
    }
   ],
   "source": [
    "res = []\n",
    "\n",
    "for n in range(1, 50):\n",
    "    for i in range(1, n//2+1):\n",
    "        if i != 1 and n%i == 0:\n",
    "            break\n",
    "        elif i == n//2:\n",
    "            res.append(n)\n",
    "            \n",
    "print(f\"Prime numbers: {res}\")"
   ]
  },
  {
   "cell_type": "markdown",
   "id": "f2621bda-3ece-47f3-9433-bed9de541597",
   "metadata": {},
   "source": [
    "Q34. Split a list into chunks of size `n`."
   ]
  },
  {
   "cell_type": "code",
   "execution_count": 6,
   "id": "8ddbea08-6f5e-4cd1-a896-9d386009ffe6",
   "metadata": {},
   "outputs": [
    {
     "name": "stdin",
     "output_type": "stream",
     "text": [
      "Please provide the length of sublists:  4\n"
     ]
    },
    {
     "name": "stdout",
     "output_type": "stream",
     "text": [
      "\n",
      "List of chunks: [[2, 3, 5, 7], [11, 13, 17, 19], [23, 29, 31, 37], [41, 43, 47]]\n"
     ]
    }
   ],
   "source": [
    "size = int(input(\"Please provide the length of sublists: \"))\n",
    "lst = [2, 3, 5, 7, 11, 13, 17, 19, 23, 29, 31, 37, 41, 43, 47]\n",
    "chnks_lst = []\n",
    "\n",
    "for i in range(0, len(lst), size):\n",
    "    chnks_lst.append(lst[i:i+size])\n",
    "    \n",
    "print(f\"\\nList of chunks: {chnks_lst}\")"
   ]
  },
  {
   "cell_type": "markdown",
   "id": "eff3455a-c809-4e27-ac26-91c5fc9ec7bb",
   "metadata": {},
   "source": [
    "Q35. Find the second largest number in a list."
   ]
  },
  {
   "cell_type": "code",
   "execution_count": 17,
   "id": "29959d18-1f0c-47ab-984c-2233d17d111f",
   "metadata": {},
   "outputs": [
    {
     "name": "stdout",
     "output_type": "stream",
     "text": [
      "Second largest number: 43\n"
     ]
    }
   ],
   "source": [
    "lst = [2, 3, 5, 7, 11, 13, 17, 19, 23, 29, 31, 37, 41, 43, 47]\n",
    "\n",
    "tmp_set = set(lst)\n",
    "tmp_set.remove(max(lst))\n",
    "tmp_lst = list(tmp_set)\n",
    "\n",
    "print(f\"Second largest number: {max(tmp_lst)}\")"
   ]
  },
  {
   "cell_type": "markdown",
   "id": "aa36d191-da0e-46f3-8ea0-0a2d24571392",
   "metadata": {},
   "source": [
    "Q36. Replace every element in a list with its square"
   ]
  },
  {
   "cell_type": "code",
   "execution_count": 20,
   "id": "3b9e7c18-81d1-47c9-8578-ac7da20f302e",
   "metadata": {},
   "outputs": [
    {
     "name": "stdout",
     "output_type": "stream",
     "text": [
      "Final list: [4, 9, 25, 49, 121, 169, 289, 361, 529, 841, 961, 1369, 1681, 1849, 2209]\n"
     ]
    }
   ],
   "source": [
    "lst = [2, 3, 5, 7, 11, 13, 17, 19, 23, 29, 31, 37, 41, 43, 47]\n",
    "\n",
    "for i in range(len(lst)): \n",
    "    lst[i] = lst[i] ** 2\n",
    "    \n",
    "print(f\"Final list: {lst}\")"
   ]
  },
  {
   "cell_type": "markdown",
   "id": "bc4987d2-fdfd-42ce-9e76-e495535d5702",
   "metadata": {},
   "source": [
    "Q37. Convert a list to a dictionary where list elements become keys and their indices become values."
   ]
  },
  {
   "cell_type": "code",
   "execution_count": 22,
   "id": "f8ea1b34-3919-4f37-ba88-69b9bd7f8e46",
   "metadata": {},
   "outputs": [
    {
     "name": "stdout",
     "output_type": "stream",
     "text": [
      "Final dict: {4: 0, 9: 1, 25: 2, 49: 3, 121: 4, 169: 5, 289: 6, 361: 7, 529: 8, 841: 9, 961: 10, 1369: 11, 1681: 12, 1849: 13, 2209: 14}\n"
     ]
    }
   ],
   "source": [
    "lst = [4, 9, 25, 49, 121, 169, 289, 361, 529, 841, 961, 1369, 1681, 1849, 2209]\n",
    "\n",
    "dct = {value: index for index, value in enumerate(lst)}\n",
    "print(f\"Final dict: {dct}\")"
   ]
  },
  {
   "cell_type": "markdown",
   "id": "0434d6b5-21aa-4155-b8e0-b181bda6d678",
   "metadata": {},
   "source": [
    "Q38. Shuffle the elements of a list randomly."
   ]
  },
  {
   "cell_type": "code",
   "execution_count": 23,
   "id": "72d22cc7-a3e2-4a00-a707-cf6bd0359a3c",
   "metadata": {},
   "outputs": [],
   "source": [
    "import random"
   ]
  },
  {
   "cell_type": "code",
   "execution_count": 26,
   "id": "a8738d42-3a2d-4230-8f84-723204ac942b",
   "metadata": {},
   "outputs": [
    {
     "name": "stdout",
     "output_type": "stream",
     "text": [
      "Shuffled list: [961, 121, 1369, 49, 361, 9, 169, 1681, 289, 4, 1849, 841, 529, 2209, 25]\n"
     ]
    }
   ],
   "source": [
    "lst = [4, 9, 25, 49, 121, 169, 289, 361, 529, 841, 961, 1369, 1681, 1849, 2209]\n",
    "random.shuffle(lst)\n",
    "\n",
    "print(f\"Shuffled list: {lst}\")"
   ]
  },
  {
   "cell_type": "markdown",
   "id": "a332d09c-459d-42f0-808b-c9dadc3b1390",
   "metadata": {},
   "source": [
    "Q39. Create a list of the first 10 factorial numbers."
   ]
  },
  {
   "cell_type": "code",
   "execution_count": 28,
   "id": "8b55467f-e390-4341-94b0-2ba1cc6ba5a4",
   "metadata": {},
   "outputs": [
    {
     "name": "stdout",
     "output_type": "stream",
     "text": [
      "Final list: [0, 1, 2, 6, 24, 120, 720, 5040, 40320, 362880]\n"
     ]
    }
   ],
   "source": [
    "res = []\n",
    "\n",
    "for i in range(10):\n",
    "    if i == 0:\n",
    "        res.append(i)\n",
    "    else:\n",
    "        fct = 1\n",
    "        for j in range(1, i+1):\n",
    "            fct *= j\n",
    "        res.append(fct)\n",
    "        \n",
    "print(f\"Final list: {res}\")"
   ]
  },
  {
   "cell_type": "markdown",
   "id": "d76a8701-c829-42ed-a1e0-a48d8f74e8ee",
   "metadata": {},
   "source": [
    "Q40. Check if two lists have at least one element in common."
   ]
  },
  {
   "cell_type": "code",
   "execution_count": 31,
   "id": "1277eba5-5f96-4663-a3c3-0664b41ef223",
   "metadata": {},
   "outputs": [
    {
     "name": "stdout",
     "output_type": "stream",
     "text": [
      "Atleast one element is common between 2 lists.\n"
     ]
    }
   ],
   "source": [
    "lst1 = [4, 9, 25, 49, 121, 169, 289, 361, 529, 841, 961, 1369, 1681, 1849, 2209]\n",
    "lst2 = [43, 90, 'Mon', 'Tue', 'Wed', 1, 12, 32, 5, 64, 28, 51, 78, 32, 46, 66, 4, 37, 20]\n",
    "\n",
    "if any(ele in lst2 for ele in lst1):\n",
    "    print(\"Atleast one element is common between 2 lists.\")\n",
    "else:\n",
    "    print(\"No element is common between 2 lists.\")"
   ]
  },
  {
   "cell_type": "markdown",
   "id": "4a3d7a42-083e-4280-a545-a282e9a3e991",
   "metadata": {},
   "source": [
    "Q41. Remove all elements from a list."
   ]
  },
  {
   "cell_type": "code",
   "execution_count": 33,
   "id": "036d8efd-553d-48d4-a068-683ac972dc74",
   "metadata": {},
   "outputs": [
    {
     "name": "stdout",
     "output_type": "stream",
     "text": [
      "Post removing all elements, Final list: []\n"
     ]
    }
   ],
   "source": [
    "lst = [43, 90, 'Mon', 'Tue', 'Wed', 1, 12, 32, 5, 64, 28, 51, 78, 32, 46, 66, 4, 37, 20]\n",
    "\n",
    "lst.clear()\n",
    "print(f\"Post removing all elements, Final list: {lst}\")"
   ]
  },
  {
   "cell_type": "markdown",
   "id": "ce33e04a-efab-431f-9886-f1d561aa3e50",
   "metadata": {},
   "source": [
    "Q42. Replace negative numbers in a list with 0."
   ]
  },
  {
   "cell_type": "code",
   "execution_count": 37,
   "id": "98e999a2-7a01-4715-8920-73e42bd3c735",
   "metadata": {},
   "outputs": [
    {
     "name": "stdout",
     "output_type": "stream",
     "text": [
      "Final list: [43, 0, 1, 12, 32, 0, 64, 28, 51, 78, 0, 46, 66, 4, 37, 0]\n"
     ]
    }
   ],
   "source": [
    "lst = [43, -90, 1, 12, 32, -5, 64, 28, 51, 78, -32, 46, 66, 4, 37, -20]\n",
    "\n",
    "for i in range(len(lst)):\n",
    "    if lst[i] < 0:\n",
    "        lst[i] = 0\n",
    "\n",
    "print(f\"Final list: {lst}\")"
   ]
  },
  {
   "cell_type": "markdown",
   "id": "208a06f0-42be-4d2f-8b5b-d183d80bb18c",
   "metadata": {},
   "source": [
    "Q43. Convert a string into a list of words."
   ]
  },
  {
   "cell_type": "code",
   "execution_count": 42,
   "id": "16d4a6ad-563f-445f-abc0-83f9cdedc392",
   "metadata": {},
   "outputs": [
    {
     "name": "stdin",
     "output_type": "stream",
     "text": [
      "Enter a string [multiple words]:  In the waters under the oceans In the fire and In the mountains\n"
     ]
    },
    {
     "name": "stdout",
     "output_type": "stream",
     "text": [
      "\n",
      "List of words: ['In', 'the', 'waters', 'under', 'the', 'oceans', 'In', 'the', 'fire', 'and', 'In', 'the', 'mountains']\n"
     ]
    }
   ],
   "source": [
    "string = input(\"Enter a string [multiple words]: \")\n",
    "wrdlst = string.split()\n",
    "\n",
    "print(f\"\\nList of words: {wrdlst}\")"
   ]
  },
  {
   "cell_type": "markdown",
   "id": "58776516-2886-471f-8d6b-bb2230b7b1a9",
   "metadata": {},
   "source": [
    "Q44. Convert a list of words into a string."
   ]
  },
  {
   "cell_type": "code",
   "execution_count": 43,
   "id": "73ddeca9-977c-4578-835b-7819fb72dbf9",
   "metadata": {},
   "outputs": [
    {
     "name": "stdout",
     "output_type": "stream",
     "text": [
      "Final string: In the waters under the oceans In the fire and In the mountains\n"
     ]
    }
   ],
   "source": [
    "wrdlst = ['In', 'the', 'waters', 'under', 'the', 'oceans', 'In', 'the', 'fire', 'and', 'In', 'the', 'mountains']\n",
    "\n",
    "print(f\"Final string: {' '.join(wrdlst)}\")"
   ]
  },
  {
   "cell_type": "markdown",
   "id": "6e76107b-f403-431e-aa22-8b36dfd36a49",
   "metadata": {},
   "source": [
    "Q45. Create a list of the first `n` powers of 2."
   ]
  },
  {
   "cell_type": "code",
   "execution_count": 46,
   "id": "e50fcdda-0afc-4d49-8de7-37ad41e5d488",
   "metadata": {},
   "outputs": [
    {
     "name": "stdin",
     "output_type": "stream",
     "text": [
      "Enter value of n:  5\n"
     ]
    },
    {
     "name": "stdout",
     "output_type": "stream",
     "text": [
      "Final list: [1, 2, 4, 8, 16]\n"
     ]
    }
   ],
   "source": [
    "n = int(input(\"Enter value of n: \"))\n",
    "res = []\n",
    "\n",
    "for i in range(n):\n",
    "    res.append(2 ** i)\n",
    "    \n",
    "print(f\"Final list: {res}\")"
   ]
  },
  {
   "cell_type": "markdown",
   "id": "afba6ed9-17eb-425f-98e2-5b8ab9632803",
   "metadata": {},
   "source": [
    "Q46. Find the longest string in a list of strings."
   ]
  },
  {
   "cell_type": "code",
   "execution_count": 48,
   "id": "1607e05e-fdd6-48a7-a973-76065583e7c4",
   "metadata": {},
   "outputs": [
    {
     "name": "stdout",
     "output_type": "stream",
     "text": [
      "Longest string: banana with length=6\n"
     ]
    }
   ],
   "source": [
    "list_of_strings = ['apple', 'banana', 'mango']\n",
    "max_l = 0\n",
    "max_str = \"\"\n",
    "\n",
    "for string in list_of_strings:\n",
    "    if len(string) > max_l:\n",
    "        max_l = len(string)\n",
    "        max_str = string\n",
    "        \n",
    "print(f\"Longest string: {max_str} with length={max_l}\")"
   ]
  },
  {
   "cell_type": "markdown",
   "id": "77aa0d49-a344-4870-b049-cd893014b469",
   "metadata": {},
   "source": [
    "Q47. Find the shortest string in a list of strings."
   ]
  },
  {
   "cell_type": "code",
   "execution_count": 51,
   "id": "31bdc2bf-0abb-4f7c-ad92-a0ef821d96bf",
   "metadata": {},
   "outputs": [
    {
     "name": "stdout",
     "output_type": "stream",
     "text": [
      "Shortest string: mango with length=5\n"
     ]
    }
   ],
   "source": [
    "list_of_strings = ['banana', 'mango', 'apple']\n",
    "min_l = len(list_of_strings[0])\n",
    "min_str = list_of_strings[0]\n",
    "\n",
    "for string in list_of_strings:\n",
    "    if len(string) < min_l:\n",
    "        min_l = len(string)\n",
    "        min_str = string\n",
    "        \n",
    "print(f\"Shortest string: {min_str} with length={min_l}\")"
   ]
  },
  {
   "cell_type": "markdown",
   "id": "e8c84450-4ab9-4d56-8b28-e3d7be7902f9",
   "metadata": {},
   "source": [
    "Q48. Create a list of the first `n` triangular numbers."
   ]
  },
  {
   "cell_type": "code",
   "execution_count": 1,
   "id": "2f38624b-4113-446e-9db5-234b020d8827",
   "metadata": {},
   "outputs": [
    {
     "name": "stdin",
     "output_type": "stream",
     "text": [
      "Enter the value of n:  5\n"
     ]
    },
    {
     "name": "stdout",
     "output_type": "stream",
     "text": [
      "First 5 Triangular numbers: [1, 3, 6, 10, 15]\n"
     ]
    }
   ],
   "source": [
    "n = int(input(\"Enter the value of n: \"))\n",
    "\n",
    "k = j = 1\n",
    "tri_list = []\n",
    "for i in range(1, n+1):\n",
    "    tri_list.append(k)\n",
    "    j += 1\n",
    "    k += j\n",
    "    \n",
    "print(f\"First {n} Triangular numbers: {tri_list}\")"
   ]
  },
  {
   "cell_type": "markdown",
   "id": "948e2a73-692b-41a2-bd91-399813d5742f",
   "metadata": {},
   "source": [
    "Q49. Check if a list contains another list as a subsequence."
   ]
  },
  {
   "cell_type": "code",
   "execution_count": 4,
   "id": "707b6d6e-55c1-47c6-a74a-42b509007be3",
   "metadata": {},
   "outputs": [
    {
     "name": "stdout",
     "output_type": "stream",
     "text": [
      "list-2 is a subsequence of list-1.\n"
     ]
    }
   ],
   "source": [
    "lst1 = [1, 10, 2, 20, 3, 30, 4, 40, 5, 50]\n",
    "lst2 = [4, 5, 50]\n",
    "\n",
    "i = j = 0\n",
    "while i < len(lst1):\n",
    "    if lst1[i] == lst2[j]:\n",
    "        j += 1\n",
    "        \n",
    "    i += 1\n",
    "    \n",
    "if j == len(lst2):\n",
    "    print(\"list-2 is a subsequence of list-1.\")\n",
    "else:\n",
    "    print(\"list-2 is not a subsequence of list-1.\")"
   ]
  },
  {
   "cell_type": "markdown",
   "id": "ade30c88-d975-4a04-b332-e55645b653c4",
   "metadata": {},
   "source": [
    "Q50. Swap two elements in a list by their indices."
   ]
  },
  {
   "cell_type": "code",
   "execution_count": 5,
   "id": "2b573f97-52f0-487d-89d2-e42fed42c986",
   "metadata": {},
   "outputs": [
    {
     "name": "stdin",
     "output_type": "stream",
     "text": [
      "Enter the indice 1:  2\n",
      "Enter the indice 2:  6\n"
     ]
    },
    {
     "name": "stdout",
     "output_type": "stream",
     "text": [
      "Final list after swapping: [12, 34, 110, 67, 54, 98, 54]\n"
     ]
    }
   ],
   "source": [
    "lst = [12, 34, 54, 67, 54, 98, 110]\n",
    "\n",
    "inx1 = int(input(\"Enter the indice 1: \"))\n",
    "inx2 = int(input(\"Enter the indice 2: \"))\n",
    "\n",
    "if inx1 < len(lst) and inx2 < len(lst):\n",
    "    lst[inx1] = lst[inx1] + lst[inx2]\n",
    "    lst[inx2] = lst[inx1] - lst[inx2]\n",
    "    lst[inx1] = lst[inx1] - lst[inx2]\n",
    "    \n",
    "print(f\"Final list after swapping: {lst}\")"
   ]
  },
  {
   "cell_type": "markdown",
   "id": "4d593404-3ebf-48fe-b84e-0c7da0c5b477",
   "metadata": {},
   "source": [
    "**Tuple Based Practice Problem :**"
   ]
  },
  {
   "cell_type": "markdown",
   "id": "bdda2552-1850-4713-86eb-b062b0f1295b",
   "metadata": {},
   "source": [
    "Q1. Create a tuple with integers from 1 to 5."
   ]
  },
  {
   "cell_type": "code",
   "execution_count": 3,
   "id": "59463e6c-a0bd-4ba3-8009-43cba2fa647d",
   "metadata": {},
   "outputs": [
    {
     "name": "stdout",
     "output_type": "stream",
     "text": [
      "Final Tuple: (1, 2, 3, 4, 5)\n"
     ]
    }
   ],
   "source": [
    "tpl = tuple(range(1,6))\n",
    "\n",
    "print(f\"Final Tuple: {tpl}\")"
   ]
  },
  {
   "cell_type": "markdown",
   "id": "71d3e845-3005-4074-860e-26efe275a60d",
   "metadata": {},
   "source": [
    "Q2. Access the third element of a tuple."
   ]
  },
  {
   "cell_type": "code",
   "execution_count": 5,
   "id": "7e34554c-bff4-43b0-bc0c-8045f68067f5",
   "metadata": {},
   "outputs": [
    {
     "name": "stdout",
     "output_type": "stream",
     "text": [
      "3rd element in tuple: 3\n"
     ]
    }
   ],
   "source": [
    "tpl = tuple(range(1,6))\n",
    "\n",
    "print(f\"3rd element in tuple: {tpl[2]}\")"
   ]
  },
  {
   "cell_type": "markdown",
   "id": "152597bf-1c47-451b-af81-903e62a01570",
   "metadata": {},
   "source": [
    "Q3. Find the length of a tuple without using the `len()` function."
   ]
  },
  {
   "cell_type": "code",
   "execution_count": 6,
   "id": "b1378f93-fd1b-4209-8e36-1eca1687bb88",
   "metadata": {},
   "outputs": [
    {
     "name": "stdout",
     "output_type": "stream",
     "text": [
      "Length of tuple: 7\n"
     ]
    }
   ],
   "source": [
    "tpl = (12, 43, 23, 56, 67, 54, 90)\n",
    "\n",
    "lngth = 0\n",
    "for i in tpl:\n",
    "    lngth += 1\n",
    "    \n",
    "print(f\"Length of tuple: {lngth}\")"
   ]
  },
  {
   "cell_type": "markdown",
   "id": "8e46c02e-62b1-4d71-8c19-7cc6fc8fac1f",
   "metadata": {},
   "source": [
    "Q4. Count the occurrences of an element in a tuple."
   ]
  },
  {
   "cell_type": "code",
   "execution_count": 12,
   "id": "8cc44ff6-3ddc-4ada-9f09-6efa4cff3cb3",
   "metadata": {},
   "outputs": [
    {
     "name": "stdin",
     "output_type": "stream",
     "text": [
      "Enter the element for which you wish to find frequency:  12\n"
     ]
    },
    {
     "name": "stdout",
     "output_type": "stream",
     "text": [
      "Number of occurences of 12: 2\n"
     ]
    }
   ],
   "source": [
    "tpl = (12, 43, 23, 12, 56, 67, 54, 90)\n",
    "\n",
    "ele = int(input(\"Enter the element for which you wish to find frequency: \"))\n",
    "print(f\"Number of occurences of {ele}: {tpl.count(ele)}\")"
   ]
  },
  {
   "cell_type": "markdown",
   "id": "767e79cd-6eb2-4062-a310-0007f3c4ed51",
   "metadata": {},
   "source": [
    "Q5. Find the index of the first occurrence of an element in a tuple."
   ]
  },
  {
   "cell_type": "code",
   "execution_count": 18,
   "id": "8c133ebd-45da-438c-b17b-d50c2fdfdac8",
   "metadata": {},
   "outputs": [
    {
     "name": "stdin",
     "output_type": "stream",
     "text": [
      "Enter the element for which you wish to find first index:  12\n"
     ]
    },
    {
     "name": "stdout",
     "output_type": "stream",
     "text": [
      "12 first occurs in tuple at 0\n"
     ]
    }
   ],
   "source": [
    "tpl = (12, 43, 23, 12, 56, 67, 54, 90)\n",
    "ele = int(input(\"Enter the element for which you wish to find first index: \"))\n",
    "\n",
    "if ele in tpl:\n",
    "    print(f\"{ele} first occurs in tuple at {tpl.index(ele)}\")\n",
    "else:\n",
    "    print(f\"{ele} does not exist within tuple.\")"
   ]
  },
  {
   "cell_type": "markdown",
   "id": "d134376f-8e87-4c2f-ac8e-7533c779f891",
   "metadata": {},
   "source": [
    "Q6. Check if an element exists in a tuple."
   ]
  },
  {
   "cell_type": "code",
   "execution_count": 2,
   "id": "fdafab71-3a2a-4c96-ab6d-591c67d62ceb",
   "metadata": {},
   "outputs": [
    {
     "name": "stdin",
     "output_type": "stream",
     "text": [
      "Enter the element:  43\n"
     ]
    },
    {
     "name": "stdout",
     "output_type": "stream",
     "text": [
      "43 exists in tuple.\n"
     ]
    }
   ],
   "source": [
    "tpl = (12, 43, 23, 12, 56, 67, 54, 90)\n",
    "ele = int(input(\"Enter the element: \"))\n",
    "\n",
    "if ele in tpl:\n",
    "    print(f\"{ele} exists in tuple.\")\n",
    "else:\n",
    "    print(f\"{ele} does not exist within tuple.\")"
   ]
  },
  {
   "cell_type": "markdown",
   "id": "5dec29ac-f1f2-44ac-a8f3-248a415f2ebd",
   "metadata": {},
   "source": [
    "Q7. Convert a tuple to a list."
   ]
  },
  {
   "cell_type": "code",
   "execution_count": 4,
   "id": "3e1e16c5-f705-4b58-b865-5d06bcd11713",
   "metadata": {},
   "outputs": [
    {
     "name": "stdout",
     "output_type": "stream",
     "text": [
      "List of given tuple: [12, 43, 23, 12, 56, 67, 54, 90]\n"
     ]
    }
   ],
   "source": [
    "tpl = (12, 43, 23, 12, 56, 67, 54, 90)\n",
    "\n",
    "print(f\"List of given tuple: {list(tpl)}\")"
   ]
  },
  {
   "cell_type": "markdown",
   "id": "5cef8569-8eeb-4efd-b6de-d4dee40d61a0",
   "metadata": {},
   "source": [
    "Q8. Convert a list to a tuple."
   ]
  },
  {
   "cell_type": "code",
   "execution_count": 5,
   "id": "57ff3f39-3abf-4b3b-a7cd-22edd7199089",
   "metadata": {},
   "outputs": [
    {
     "name": "stdout",
     "output_type": "stream",
     "text": [
      "Tuple of given list: (12, 43, 23, 12, 56, 67, 54, 90)\n"
     ]
    }
   ],
   "source": [
    "lst = [12, 43, 23, 12, 56, 67, 54, 90]\n",
    "\n",
    "print(f\"Tuple of given list: {tuple(lst)}\")"
   ]
  },
  {
   "cell_type": "markdown",
   "id": "9dea8849-e633-4932-95b0-951ab0779019",
   "metadata": {},
   "source": [
    "Q9. Unpack the elements of a tuple into variables."
   ]
  },
  {
   "cell_type": "code",
   "execution_count": 6,
   "id": "1a05f05a-fc77-4753-b2fd-db4649935048",
   "metadata": {},
   "outputs": [
    {
     "name": "stdout",
     "output_type": "stream",
     "text": [
      "Name: Paras Jain\n",
      "Age: 24\n",
      "Is adult: True\n"
     ]
    }
   ],
   "source": [
    "tpl = (\"Paras Jain\", 24, True)\n",
    "(name, age, isadult) = tpl\n",
    "\n",
    "print(f\"Name: {name}\")\n",
    "print(f\"Age: {age}\")\n",
    "print(f\"Is adult: {isadult}\")"
   ]
  },
  {
   "cell_type": "markdown",
   "id": "d0998c83-e365-4f1c-aa01-44da76b09966",
   "metadata": {},
   "source": [
    "Q10. Create a tuple of even numbers from 1 to 10."
   ]
  },
  {
   "cell_type": "code",
   "execution_count": 7,
   "id": "878c7ab3-4f9d-43b9-826e-9df8d90c382d",
   "metadata": {},
   "outputs": [
    {
     "name": "stdout",
     "output_type": "stream",
     "text": [
      "Tuple of even numbers from 1 to 10: (2, 4, 6, 8, 10)\n"
     ]
    }
   ],
   "source": [
    "tpl = tuple(range(2, 11, 2))\n",
    "\n",
    "print(f\"Tuple of even numbers from 1 to 10: {tpl}\")"
   ]
  },
  {
   "cell_type": "markdown",
   "id": "201e9052-4078-4ebe-88ef-ca18e6022163",
   "metadata": {},
   "source": [
    "Q11. Create a tuple of odd numbers from 1 to 10."
   ]
  },
  {
   "cell_type": "code",
   "execution_count": 8,
   "id": "33180ae8-f23e-4be2-b627-d703c86dd177",
   "metadata": {},
   "outputs": [
    {
     "name": "stdout",
     "output_type": "stream",
     "text": [
      "Tuple of odd numbers from 1 to 10: (1, 3, 5, 7, 9)\n"
     ]
    }
   ],
   "source": [
    "tpl = tuple(range(1, 10, 2))\n",
    "\n",
    "print(f\"Tuple of odd numbers from 1 to 10: {tpl}\")"
   ]
  },
  {
   "cell_type": "markdown",
   "id": "bdb9d3d4-0bf8-49fa-9480-94d6d212bd35",
   "metadata": {},
   "source": [
    "Q12. Concatenate two tuples."
   ]
  },
  {
   "cell_type": "code",
   "execution_count": 10,
   "id": "89c38423-c88b-4611-a377-cda28539e961",
   "metadata": {},
   "outputs": [
    {
     "name": "stdout",
     "output_type": "stream",
     "text": [
      "Concatenated tuple: (2, 4, 6, 8, 10, 1, 3, 5, 7, 90)\n"
     ]
    }
   ],
   "source": [
    "tpl1 = (2, 4, 6, 8, 10)\n",
    "tpl2 = (1, 3, 5, 7, 90)\n",
    "\n",
    "tpl = tpl1 + tpl2\n",
    "print(f\"Concatenated tuple: {tpl}\")"
   ]
  },
  {
   "cell_type": "markdown",
   "id": "f6aa4141-2fd5-416c-a246-b7a1e2e0daa1",
   "metadata": {},
   "source": [
    "Q13. Repeat a tuple three times."
   ]
  },
  {
   "cell_type": "code",
   "execution_count": 13,
   "id": "e6b1f893-2d3c-4026-b76a-2089f01b59bd",
   "metadata": {},
   "outputs": [
    {
     "name": "stdout",
     "output_type": "stream",
     "text": [
      "Final tuple: ((2, 4, 6, 8, 10), (2, 4, 6, 8, 10), (2, 4, 6, 8, 10))\n"
     ]
    }
   ],
   "source": [
    "tpl = (2, 4, 6, 8, 10)\n",
    "\n",
    "print(f\"Final tuple: {(tpl,)*3}\")"
   ]
  },
  {
   "cell_type": "markdown",
   "id": "e63987c6-91bb-461e-b1c7-0e069d7c33fb",
   "metadata": {},
   "source": [
    "Q14. Check if a tuple is empty"
   ]
  },
  {
   "cell_type": "code",
   "execution_count": 16,
   "id": "76b003f5-4f4c-49a9-a3c3-5684959291a5",
   "metadata": {},
   "outputs": [
    {
     "name": "stdout",
     "output_type": "stream",
     "text": [
      "Empty tuple.\n"
     ]
    }
   ],
   "source": [
    "tpl = ()\n",
    "\n",
    "if len(tpl) == 0:\n",
    "    print(\"Empty tuple.\")\n",
    "else:\n",
    "    print(\"Not a empty tuple.\")"
   ]
  },
  {
   "cell_type": "markdown",
   "id": "349438c2-ca44-4021-9dc1-effc43e090c1",
   "metadata": {},
   "source": [
    "Q15. Create a nested tuple."
   ]
  },
  {
   "cell_type": "code",
   "execution_count": 18,
   "id": "738d824e-e92a-448b-96c7-f2effad25e2d",
   "metadata": {},
   "outputs": [
    {
     "name": "stdout",
     "output_type": "stream",
     "text": [
      "(12, 24, 43, 32, 66, ('Paras', 24, True), ('a', 'x', 'y'), 17.85)\n"
     ]
    }
   ],
   "source": [
    "tpl = (12, 24, 43, 32, 66, ('Paras', 24, True), ('a', 'x', 'y'), 17.85)\n",
    "\n",
    "print(tpl)"
   ]
  },
  {
   "cell_type": "markdown",
   "id": "347b17e5-27ae-4813-84df-b4d26574d86a",
   "metadata": {},
   "source": [
    "Q16. Access the first element of a nested tuple."
   ]
  },
  {
   "cell_type": "code",
   "execution_count": 19,
   "id": "e0dac7f2-4f7d-41bb-aeb6-509e2b0837f5",
   "metadata": {},
   "outputs": [
    {
     "name": "stdout",
     "output_type": "stream",
     "text": [
      "First element: 12\n"
     ]
    }
   ],
   "source": [
    "tpl = (12, 24, 43, 32, 66, ('Paras', 24, True), ('a', 'x', 'y'), 17.85)\n",
    "\n",
    "print(f\"First element: {tpl[0]}\")"
   ]
  },
  {
   "cell_type": "markdown",
   "id": "b951bda3-dca9-4173-9fda-fd43dd29d930",
   "metadata": {},
   "source": [
    "Q17. Create a tuple with a single element."
   ]
  },
  {
   "cell_type": "code",
   "execution_count": 23,
   "id": "4b9d3173-cd06-4eb6-a32c-9a39758e1f2c",
   "metadata": {},
   "outputs": [
    {
     "name": "stdout",
     "output_type": "stream",
     "text": [
      "Tuple: (100,)\n"
     ]
    }
   ],
   "source": [
    "tpl = (100,)\n",
    "\n",
    "print(f\"Tuple: {tpl}\")"
   ]
  },
  {
   "cell_type": "markdown",
   "id": "bdf4f4c4-6d67-4c49-9584-63274967c639",
   "metadata": {},
   "source": [
    "Q18. Compare two tuples."
   ]
  },
  {
   "cell_type": "code",
   "execution_count": 8,
   "id": "cd659ed8-5589-44b7-891e-76bf69a9596b",
   "metadata": {},
   "outputs": [
    {
     "name": "stdout",
     "output_type": "stream",
     "text": [
      "(1, 5, 10) > (1, 5, 11): False\n",
      "(1, 5, 10) < (1, 5, 11): True\n",
      "(1, 5, 10) == (1, 5, 11): False\n",
      "(1, 5, 10) != (1, 5, 11): True\n"
     ]
    }
   ],
   "source": [
    "tpl1 = (1, 5, 10)\n",
    "tpl2 = (1, 5, 11)\n",
    "\n",
    "print(f\"{tpl1} > {tpl2}: {tpl1 > tpl2}\")\n",
    "print(f\"{tpl1} < {tpl2}: {tpl1 < tpl2}\")\n",
    "print(f\"{tpl1} == {tpl2}: {tpl1 == tpl2}\")\n",
    "print(f\"{tpl1} != {tpl2}: {tpl1 != tpl2}\")"
   ]
  },
  {
   "cell_type": "markdown",
   "id": "e0ae61c9-5230-4f9d-aa77-6083e9ecf56f",
   "metadata": {},
   "source": [
    "Q19. Delete a tuple."
   ]
  },
  {
   "cell_type": "code",
   "execution_count": 9,
   "id": "1b34923e-fad6-48c9-87d2-0fd873a46452",
   "metadata": {},
   "outputs": [
    {
     "ename": "NameError",
     "evalue": "name 'tpl1' is not defined",
     "output_type": "error",
     "traceback": [
      "\u001b[0;31m---------------------------------------------------------------------------\u001b[0m",
      "\u001b[0;31mNameError\u001b[0m                                 Traceback (most recent call last)",
      "Cell \u001b[0;32mIn[9], line 4\u001b[0m\n\u001b[1;32m      1\u001b[0m tpl1 \u001b[38;5;241m=\u001b[39m (\u001b[38;5;241m1\u001b[39m, \u001b[38;5;241m5\u001b[39m, \u001b[38;5;241m10\u001b[39m)\n\u001b[1;32m      3\u001b[0m \u001b[38;5;28;01mdel\u001b[39;00m tpl1\n\u001b[0;32m----> 4\u001b[0m \u001b[38;5;28mprint\u001b[39m(\u001b[43mtpl1\u001b[49m)\n",
      "\u001b[0;31mNameError\u001b[0m: name 'tpl1' is not defined"
     ]
    }
   ],
   "source": [
    "tpl1 = (1, 5, 10)\n",
    "\n",
    "del tpl1\n",
    "print(tpl1)"
   ]
  },
  {
   "cell_type": "markdown",
   "id": "b1410a36-0e3b-4296-b628-e76e19d94899",
   "metadata": {},
   "source": [
    "Q20. Slice a tuple"
   ]
  },
  {
   "cell_type": "code",
   "execution_count": 11,
   "id": "efd3c03e-232d-49af-842b-e323a2d56bf0",
   "metadata": {},
   "outputs": [
    {
     "name": "stdout",
     "output_type": "stream",
     "text": [
      "Sliced tuple: (1, 5, 10)\n"
     ]
    }
   ],
   "source": [
    "tpl1 = (1, 5, 10, 15, 12, 90)\n",
    "\n",
    "print(f\"Sliced tuple: {tpl1[:3]}\")"
   ]
  },
  {
   "cell_type": "markdown",
   "id": "64df66cc-9d2d-4d3f-b030-d0e3de514abe",
   "metadata": {},
   "source": [
    "Q21. Find the maximum value in a tuple."
   ]
  },
  {
   "cell_type": "code",
   "execution_count": 13,
   "id": "7e26271f-9946-4733-9f8f-6bba9eb290a4",
   "metadata": {},
   "outputs": [
    {
     "name": "stdout",
     "output_type": "stream",
     "text": [
      "Max value in tuple: 90\n"
     ]
    }
   ],
   "source": [
    "tpl1 = (11, 5, 10, 15, 12, 90)\n",
    "\n",
    "print(f\"Max value in tuple: {max(tpl1)}\")"
   ]
  },
  {
   "cell_type": "markdown",
   "id": "1ad404cc-a694-4c13-895d-ba359a5aef5f",
   "metadata": {},
   "source": [
    "Q22. Find the minimum value in a tuple."
   ]
  },
  {
   "cell_type": "code",
   "execution_count": 14,
   "id": "606d7523-e674-4603-96f2-4647bfb0172a",
   "metadata": {},
   "outputs": [
    {
     "name": "stdout",
     "output_type": "stream",
     "text": [
      "Min value in tuple: 5\n"
     ]
    }
   ],
   "source": [
    "tpl1 = (11, 5, 10, 15, 12, 90)\n",
    "\n",
    "print(f\"Min value in tuple: {min(tpl1)}\")"
   ]
  },
  {
   "cell_type": "markdown",
   "id": "7f54dffa-3f3c-43f4-8190-0227185e197b",
   "metadata": {},
   "source": [
    "Q23. Convert a string to a tuple of characters."
   ]
  },
  {
   "cell_type": "code",
   "execution_count": 18,
   "id": "bd088021-b81b-467a-942d-0d605f5c79b4",
   "metadata": {},
   "outputs": [
    {
     "name": "stdin",
     "output_type": "stream",
     "text": [
      "Enter a string:  Data Science\n"
     ]
    },
    {
     "name": "stdout",
     "output_type": "stream",
     "text": [
      "Tuple of chars: ('D', 'a', 't', 'a', ' ', 'S', 'c', 'i', 'e', 'n', 'c', 'e')\n"
     ]
    }
   ],
   "source": [
    "string = input(\"Enter a string: \")\n",
    "\n",
    "print(f\"Tuple of chars: {tuple(string)}\")"
   ]
  },
  {
   "cell_type": "markdown",
   "id": "5e7c9290-bd5c-40a1-95c8-ae9b25969799",
   "metadata": {},
   "source": [
    "Q24. Convert a tuple of characters to a string."
   ]
  },
  {
   "cell_type": "code",
   "execution_count": 20,
   "id": "f9f0543b-7fe8-4625-a852-74f0e52c6a66",
   "metadata": {},
   "outputs": [
    {
     "name": "stdout",
     "output_type": "stream",
     "text": [
      "Final string : Data Science\n"
     ]
    }
   ],
   "source": [
    "tpl = ('D', 'a', 't', 'a', ' ', 'S', 'c', 'i', 'e', 'n', 'c', 'e')\n",
    "\n",
    "print(f\"Final string : {''.join(tpl)}\")"
   ]
  },
  {
   "cell_type": "markdown",
   "id": "b374cd2a-4a0b-46c5-ad92-87ff484ce0b1",
   "metadata": {},
   "source": [
    "Q25. Create a tuple from multiple data types."
   ]
  },
  {
   "cell_type": "code",
   "execution_count": 23,
   "id": "2945a9e7-c798-4575-881c-2ce347b39382",
   "metadata": {},
   "outputs": [
    {
     "name": "stdout",
     "output_type": "stream",
     "text": [
      "Tuple: (12, 15.75, True, 'Jain', 'Paras', 19.95, 100, False)\n"
     ]
    }
   ],
   "source": [
    "tpl = (12, 15.75, True, 'Jain', 'Paras', 19.95, 100, False)\n",
    "\n",
    "print(f\"Tuple: {tpl}\")"
   ]
  },
  {
   "cell_type": "markdown",
   "id": "c20b0e60-d56b-4f02-b4a9-16be2d460090",
   "metadata": {},
   "source": [
    "Q26. Check if two tuples are identical."
   ]
  },
  {
   "cell_type": "code",
   "execution_count": 26,
   "id": "e2448dc8-af35-4a8a-8ec2-3b6193eb1ca1",
   "metadata": {},
   "outputs": [
    {
     "name": "stdout",
     "output_type": "stream",
     "text": [
      "Identical Tuples: True\n"
     ]
    }
   ],
   "source": [
    "tpl1 = (1, 2, 5)\n",
    "tpl2 = (1, 2, 5)\n",
    "\n",
    "print(f\"Identical Tuples: {tpl1==tpl2}\")"
   ]
  },
  {
   "cell_type": "markdown",
   "id": "b0c02c6b-8e00-45a7-80b7-960a935efad2",
   "metadata": {},
   "source": [
    "Q27. Sort the elements of a tuple."
   ]
  },
  {
   "cell_type": "code",
   "execution_count": 28,
   "id": "e0e85d17-8966-42d3-b82d-c336c2f8a804",
   "metadata": {},
   "outputs": [
    {
     "name": "stdout",
     "output_type": "stream",
     "text": [
      "Sorted tuple: [1, 2, 3, 4, 5, 6, 7, 8, 10, 90]\n"
     ]
    }
   ],
   "source": [
    "tpl = (2, 4, 6, 8, 10, 1, 3, 5, 7, 90)\n",
    "\n",
    "print(f\"Sorted tuple: {sorted(tpl)}\")"
   ]
  },
  {
   "cell_type": "markdown",
   "id": "3953346a-6d4d-4c21-919d-bdfe332e96b4",
   "metadata": {},
   "source": [
    "Q28. Convert a tuple of integers to a tuple of strings."
   ]
  },
  {
   "cell_type": "code",
   "execution_count": 31,
   "id": "88e6fe23-9c3a-47cf-af3d-a09a07595398",
   "metadata": {},
   "outputs": [
    {
     "data": {
      "text/plain": [
       "('2', '4', '6', '8', '10', '1', '3', '5', '7', '90')"
      ]
     },
     "execution_count": 31,
     "metadata": {},
     "output_type": "execute_result"
    }
   ],
   "source": [
    "tpl = (2, 4, 6, 8, 10, 1, 3, 5, 7, 90)\n",
    "\n",
    "str_tpl = tuple(str(x) for x in tpl)\n",
    "str_tpl"
   ]
  },
  {
   "cell_type": "markdown",
   "id": "a5a07a9a-ae5e-4c12-92c3-1a2d66bbd5cc",
   "metadata": {},
   "source": [
    "Q29. Convert a tuple of strings to a tuple of integers"
   ]
  },
  {
   "cell_type": "code",
   "execution_count": 33,
   "id": "245ba1b8-b41f-4c95-9f90-6c9778021841",
   "metadata": {},
   "outputs": [
    {
     "data": {
      "text/plain": [
       "(2, 4, 6, 8, 10, 1, 3, 5, 7, 90)"
      ]
     },
     "execution_count": 33,
     "metadata": {},
     "output_type": "execute_result"
    }
   ],
   "source": [
    "tpl = ('2', '4', '6', '8', '10', '1', '3', '5', '7', '90')\n",
    "\n",
    "int_tpl = tuple(int(x) for x in tpl)\n",
    "int_tpl"
   ]
  },
  {
   "cell_type": "markdown",
   "id": "359236e3-f8c0-4e00-89ae-d0cdff1d84fa",
   "metadata": {},
   "source": [
    "Q30. Merge two tuples."
   ]
  },
  {
   "cell_type": "code",
   "execution_count": 35,
   "id": "965bf5d0-912d-4027-b51e-18386d63813c",
   "metadata": {},
   "outputs": [
    {
     "name": "stdout",
     "output_type": "stream",
     "text": [
      "Merged tuple: (1, 2, 3, 'a', 'b', 'c')\n"
     ]
    }
   ],
   "source": [
    "tpl1 = (1, 2, 3)\n",
    "tpl2 = ('a', 'b', 'c')\n",
    "\n",
    "print(f\"Merged tuple: {tpl1+tpl2}\")"
   ]
  },
  {
   "cell_type": "markdown",
   "id": "f0f3230c-6a92-46ba-bac2-3d76498ceca6",
   "metadata": {},
   "source": [
    "Q31. Flatten a nested tuple."
   ]
  },
  {
   "cell_type": "code",
   "execution_count": 3,
   "id": "a4d95ea7-1c0b-436f-91df-5624df3063bb",
   "metadata": {},
   "outputs": [
    {
     "name": "stdout",
     "output_type": "stream",
     "text": [
      "Flattened Tuple: (1, 12, 32, 5, 64, 28, 51, 78, 32, 46, 66, 7, 37, 20, 43, 90, 'Mon', 'Tue', 'Wed')\n"
     ]
    }
   ],
   "source": [
    "tpl = (1, 12, 32, 5, (64, 28, 51, 78, 32 ,46, 66, 7, 37, 20), 43, 90, ('Mon', 'Tue', 'Wed'))\n",
    "tmp = []\n",
    "\n",
    "for ele in tpl:\n",
    "    if type(ele) == tuple:\n",
    "        tmp.extend(ele)\n",
    "    else:\n",
    "        tmp.append(ele)\n",
    "        \n",
    "print(f\"Flattened Tuple: {tuple(tmp)}\")"
   ]
  },
  {
   "cell_type": "markdown",
   "id": "55943348-8981-4492-bf24-e2f0e5f06046",
   "metadata": {},
   "source": [
    "Q32. Create a tuple of the first 5 prime numbers."
   ]
  },
  {
   "cell_type": "code",
   "execution_count": 9,
   "id": "7ae56b24-6895-4077-886b-c0ecbecdf257",
   "metadata": {},
   "outputs": [
    {
     "name": "stdout",
     "output_type": "stream",
     "text": [
      "Tuple of the first 5 prime numbers: (2, 3, 5, 7, 11)\n"
     ]
    }
   ],
   "source": [
    "num = 2\n",
    "res = []\n",
    "\n",
    "while len(res) < 5:\n",
    "    for i in range(1, num//2+1):\n",
    "        if i != 1 and num%i == 0:\n",
    "            break\n",
    "        elif i == num//2:\n",
    "            res.append(num)\n",
    "    num+=1\n",
    "            \n",
    "print(f\"Tuple of the first 5 prime numbers: {tuple(res)}\")"
   ]
  },
  {
   "cell_type": "markdown",
   "id": "a011a53a-0475-4e47-a89b-3d9ae7747347",
   "metadata": {},
   "source": [
    "Q33. Check if a tuple is a palindrome"
   ]
  },
  {
   "cell_type": "code",
   "execution_count": 11,
   "id": "36db077c-45f2-4539-9851-77323f279917",
   "metadata": {},
   "outputs": [
    {
     "name": "stdout",
     "output_type": "stream",
     "text": [
      "Tuples are palindromes.\n"
     ]
    }
   ],
   "source": [
    "tpl1 = ('Mon', 'Tue', 'Wed')\n",
    "tpl2 = ('Wed', 'Tue', 'Mon')\n",
    "\n",
    "if tpl1 == tpl2[::-1]:\n",
    "    print(\"Tuples are palindromes.\")\n",
    "else:\n",
    "    print(\"Tuples are not palindromes.\")"
   ]
  },
  {
   "cell_type": "markdown",
   "id": "132b5e38-5961-4050-9f1a-951e1a67f05b",
   "metadata": {},
   "source": [
    "Q34. Create a tuple of squares of numbers from 1 to 5."
   ]
  },
  {
   "cell_type": "code",
   "execution_count": 14,
   "id": "eac439fd-6226-4029-b80b-39373aaabea8",
   "metadata": {},
   "outputs": [
    {
     "name": "stdout",
     "output_type": "stream",
     "text": [
      "Tuple of squares: (1, 4, 9, 16, 25)\n"
     ]
    }
   ],
   "source": [
    "tpl = tuple([i**2 for i in range(1, 6)])\n",
    "\n",
    "print(f\"Tuple of squares: {tpl}\")"
   ]
  },
  {
   "cell_type": "markdown",
   "id": "f4aa0ded-fce1-4b1a-b507-253b50495a9c",
   "metadata": {},
   "source": [
    "Q35. Filter out all even numbers from a tuple."
   ]
  },
  {
   "cell_type": "code",
   "execution_count": 16,
   "id": "576c2f0d-9dd6-4ce3-a6d8-048dab4074fd",
   "metadata": {},
   "outputs": [
    {
     "name": "stdout",
     "output_type": "stream",
     "text": [
      "Final tuple: (13, 65, 99, 37, 27, 101)\n"
     ]
    }
   ],
   "source": [
    "tpl = (12, 13, 65, 16, 98, 12, 99, 37, 27, 30, 101)\n",
    "\n",
    "print(f\"Final tuple: {tuple(filter(lambda a: a%2!=0, tpl))}\")"
   ]
  },
  {
   "cell_type": "markdown",
   "id": "6f14d191-7788-4de9-b477-7746e597c625",
   "metadata": {},
   "source": [
    "Q36. Multiply all elements in a tuple by 2."
   ]
  },
  {
   "cell_type": "code",
   "execution_count": 21,
   "id": "488fa3e8-b025-4169-bdda-7b9321fde8ce",
   "metadata": {},
   "outputs": [
    {
     "name": "stdout",
     "output_type": "stream",
     "text": [
      "Final tuple: (26, 130, 198, 74, 54, 202)\n"
     ]
    }
   ],
   "source": [
    "tpl = (13, 65, 99, 37, 27, 101)\n",
    "\n",
    "res = tuple([ele*2 for ele in tpl])\n",
    "print(f\"Final tuple: {res}\")"
   ]
  },
  {
   "cell_type": "markdown",
   "id": "d976cdd8-ee04-48eb-9f3d-f800447ba99c",
   "metadata": {},
   "source": [
    "Q37. Create a tuple of random numbers."
   ]
  },
  {
   "cell_type": "code",
   "execution_count": 23,
   "id": "c065c147-43e5-4285-a6b1-43360b5b9e0e",
   "metadata": {},
   "outputs": [],
   "source": [
    "import random"
   ]
  },
  {
   "cell_type": "code",
   "execution_count": 26,
   "id": "0e07b671-7411-4e99-a05d-9d7c7bc6933f",
   "metadata": {},
   "outputs": [
    {
     "name": "stdout",
     "output_type": "stream",
     "text": [
      "Final Tuple: (24, 48, 88, 18, 8, 20, 32, 72, 81, 90)\n"
     ]
    }
   ],
   "source": [
    "rnd_tpl = tuple([random.randint(1, 100) for i in range(10)])\n",
    "\n",
    "print(f\"Final Tuple: {rnd_tpl}\")"
   ]
  },
  {
   "cell_type": "markdown",
   "id": "baaddf7e-f321-45cb-8076-7a578606f0eb",
   "metadata": {},
   "source": [
    "Q38. Check if a tuple is sorted."
   ]
  },
  {
   "cell_type": "code",
   "execution_count": 30,
   "id": "ec25b71b-a4c0-403b-b780-7d1793354cf9",
   "metadata": {},
   "outputs": [
    {
     "name": "stdout",
     "output_type": "stream",
     "text": [
      "Tuple is sorted.\n"
     ]
    }
   ],
   "source": [
    "tpl = (8, 18, 20, 24, 32, 48, 72, 81, 88, 90)\n",
    "\n",
    "if all(tpl[i]>tpl[i-1] for i in range(1, len(tpl))) or all(tpl[i]<tpl[i-1] for i in range(1, len(tpl))):\n",
    "    print(\"Tuple is sorted.\")\n",
    "else:\n",
    "    print(\"Tuple is not sorted.\")"
   ]
  },
  {
   "cell_type": "markdown",
   "id": "616bab78-3c8b-4c29-b756-b8672b5569fd",
   "metadata": {},
   "source": [
    "Q39. Rotate a tuple to the left by `n` positions."
   ]
  },
  {
   "cell_type": "code",
   "execution_count": 32,
   "id": "d091f261-be33-4437-a4c2-a54ffd135888",
   "metadata": {},
   "outputs": [
    {
     "name": "stdin",
     "output_type": "stream",
     "text": [
      "Enter the number of positions to rotate the tuple to left by:  2\n"
     ]
    },
    {
     "name": "stdout",
     "output_type": "stream",
     "text": [
      "Final tuple: (20, 24, 32, 48, 72, 81, 88, 90, 8, 18)\n"
     ]
    }
   ],
   "source": [
    "tpl = (8, 18, 20, 24, 32, 48, 72, 81, 88, 90)\n",
    "npos = int(input(\"Enter the number of positions to rotate the tuple to left by: \"))\n",
    "lst1 = list(tpl)\n",
    "\n",
    "for i in range(npos):\n",
    "    ele = lst1.pop(0)\n",
    "    lst1.append(ele)\n",
    "    \n",
    "print(f\"Final tuple: {tuple(lst1)}\")"
   ]
  },
  {
   "cell_type": "markdown",
   "id": "45ba4fce-7b2d-4e5f-bce0-ad6877db64bb",
   "metadata": {},
   "source": [
    "Q40. Rotate a tuple to the right by `n` positions."
   ]
  },
  {
   "cell_type": "code",
   "execution_count": 33,
   "id": "7e639426-c406-4e41-a6df-8c6bfcf57e45",
   "metadata": {},
   "outputs": [
    {
     "name": "stdin",
     "output_type": "stream",
     "text": [
      "Enter the number of positions to rotate the tuple to right by:  4\n"
     ]
    },
    {
     "name": "stdout",
     "output_type": "stream",
     "text": [
      "Final tuple: (72, 81, 88, 90, 8, 18, 20, 24, 32, 48)\n"
     ]
    }
   ],
   "source": [
    "tpl = (8, 18, 20, 24, 32, 48, 72, 81, 88, 90)\n",
    "npos = int(input(\"Enter the number of positions to rotate the tuple to right by: \"))\n",
    "lst1 = list(tpl)\n",
    "\n",
    "for i in range(npos):\n",
    "    ele = lst1.pop()\n",
    "    lst1.insert(0, ele)\n",
    "    \n",
    "print(f\"Final tuple: {tuple(lst1)}\")"
   ]
  },
  {
   "cell_type": "markdown",
   "id": "df2812b5-366a-4f5f-8b3d-4551d5438646",
   "metadata": {},
   "source": [
    "Q41. Create a tuple of the first 5 Fibonacci numbers."
   ]
  },
  {
   "cell_type": "code",
   "execution_count": 34,
   "id": "62f899ac-c4b4-4da3-a576-38578b5a4ed0",
   "metadata": {},
   "outputs": [
    {
     "name": "stdout",
     "output_type": "stream",
     "text": [
      "Fibonacci tuple: (0, 1, 1, 2, 3)\n"
     ]
    }
   ],
   "source": [
    "fib = [0, 1]\n",
    "i = 0\n",
    "\n",
    "while i < 3:\n",
    "    fib.append(fib[-1] + fib[-2])\n",
    "    i += 1\n",
    "    \n",
    "print(f\"Fibonacci tuple: {tuple(fib)}\")"
   ]
  },
  {
   "cell_type": "markdown",
   "id": "31630aa9-14b7-49ba-b0c5-fe2731e1ce90",
   "metadata": {},
   "source": [
    "Q42. Create a tuple from user input."
   ]
  },
  {
   "cell_type": "code",
   "execution_count": 35,
   "id": "06182cd5-b784-43a0-a962-6b7ab1e0d7a8",
   "metadata": {},
   "outputs": [
    {
     "name": "stdin",
     "output_type": "stream",
     "text": [
      "Enter the first value for tuple:  Paras\n",
      "Enter the next value for tuple [Enter 'n' if you wish to stop]:  1\n",
      "Enter the next value for tuple [Enter 'n' if you wish to stop]:  2\n",
      "Enter the next value for tuple [Enter 'n' if you wish to stop]:  3\n",
      "Enter the next value for tuple [Enter 'n' if you wish to stop]:  4\n",
      "Enter the next value for tuple [Enter 'n' if you wish to stop]:  5\n",
      "Enter the next value for tuple [Enter 'n' if you wish to stop]:  Jain\n",
      "Enter the next value for tuple [Enter 'n' if you wish to stop]:  Have a nice day!\n",
      "Enter the next value for tuple [Enter 'n' if you wish to stop]:  n\n"
     ]
    },
    {
     "name": "stdout",
     "output_type": "stream",
     "text": [
      "Final tuple: ('Paras', '1', '2', '3', '4', '5', 'Jain', 'Have a nice day!')\n"
     ]
    }
   ],
   "source": [
    "tpl = []\n",
    "usrinput = input(\"Enter the first value for tuple: \")\n",
    "\n",
    "while usrinput != \"n\":\n",
    "    tpl.append(usrinput)\n",
    "    usrinput = input(\"Enter the next value for tuple [Enter 'n' if you wish to stop]: \")\n",
    "    \n",
    "print(f\"Final tuple: {tuple(tpl)}\")"
   ]
  },
  {
   "cell_type": "markdown",
   "id": "c0d7ec25-3301-44d5-b998-e92175b13df4",
   "metadata": {},
   "source": [
    "Q43. Swap two elements in a tuple."
   ]
  },
  {
   "cell_type": "code",
   "execution_count": 6,
   "id": "c0bbc42c-d64e-4885-8be2-3e136d5543ef",
   "metadata": {},
   "outputs": [
    {
     "name": "stdin",
     "output_type": "stream",
     "text": [
      "Enter element you wish to swap:  5\n",
      "Enter element you wish to swap with:  Jain\n"
     ]
    },
    {
     "name": "stdout",
     "output_type": "stream",
     "text": [
      "Final tuple: ('Paras', '1', '2', '3', '4', 'Jain', '5', 'Have a nice day!')\n"
     ]
    }
   ],
   "source": [
    "tpl = ('Paras', '1', '2', '3', '4', '5', 'Jain', 'Have a nice day!')\n",
    "\n",
    "ele1 = input(\"Enter element you wish to swap: \")\n",
    "ele2 = input(\"Enter element you wish to swap with: \")\n",
    "\n",
    "if ele1 in tpl and ele2 in tpl:\n",
    "    lst = list(tpl)\n",
    "    el1_inx = lst.index(ele1)\n",
    "    el2_inx = lst.index(ele2)\n",
    "    lst[el1_inx] = ele2\n",
    "    lst[el2_inx] = ele1\n",
    "    print(f\"Final tuple: {tuple(lst)}\")\n",
    "else:\n",
    "    print(\"Provided elements do not exist within tuple.\")"
   ]
  },
  {
   "cell_type": "markdown",
   "id": "19d59645-495b-4517-86d2-71e5743ca7ec",
   "metadata": {},
   "source": [
    "Q44. Reverse the elements of a tuple."
   ]
  },
  {
   "cell_type": "code",
   "execution_count": 7,
   "id": "4e78f431-43a6-46e3-8732-b4f4d3e19de4",
   "metadata": {},
   "outputs": [
    {
     "name": "stdout",
     "output_type": "stream",
     "text": [
      "Reversed tuple: ('Have a nice day!', 'Jain', '5', '4', '3', '2', '1', 'Paras')\n"
     ]
    }
   ],
   "source": [
    "tpl = ('Paras', '1', '2', '3', '4', '5', 'Jain', 'Have a nice day!')\n",
    "\n",
    "print(f\"Reversed tuple: {tpl[::-1]}\")"
   ]
  },
  {
   "cell_type": "markdown",
   "id": "ad12fa28-189e-4f24-8d3b-e15884418fae",
   "metadata": {},
   "source": [
    "Q45. Create a tuple of the first `n` powers of 2."
   ]
  },
  {
   "cell_type": "code",
   "execution_count": 9,
   "id": "668cdad2-3eca-4dd6-922c-c45d006de89e",
   "metadata": {},
   "outputs": [
    {
     "name": "stdin",
     "output_type": "stream",
     "text": [
      "Enter the value for n:  5\n"
     ]
    },
    {
     "name": "stdout",
     "output_type": "stream",
     "text": [
      "Result tuple: (1, 2, 4, 8, 16)\n"
     ]
    }
   ],
   "source": [
    "n = int(input(\"Enter the value for n: \"))\n",
    "lst = []\n",
    "\n",
    "for i in range(n):\n",
    "    lst.append(2**i)\n",
    "    \n",
    "print(f\"Result tuple: {tuple(lst)}\")"
   ]
  },
  {
   "cell_type": "markdown",
   "id": "6e5c002f-2ab4-4bd3-ba93-7533ffc6b7bc",
   "metadata": {},
   "source": [
    "Q46. Find the longest string in a tuple of strings."
   ]
  },
  {
   "cell_type": "code",
   "execution_count": 14,
   "id": "f7f9a54a-30b1-49fb-b018-46ba9de2b333",
   "metadata": {},
   "outputs": [
    {
     "name": "stdout",
     "output_type": "stream",
     "text": [
      "Longest string: `Science` with length=`7`\n"
     ]
    }
   ],
   "source": [
    "str_tpl = (\"Paras\", \"Jain\", \"Zen\", \"Data\", \"Science\", \"Nice\")\n",
    "max_l = 0\n",
    "max_str = \"\"\n",
    "\n",
    "for string in str_tpl:\n",
    "    if len(string) > max_l:\n",
    "        max_l = len(string)\n",
    "        max_str = string\n",
    "        \n",
    "print(f\"Longest string: `{max_str}` with length=`{max_l}`\")"
   ]
  },
  {
   "cell_type": "markdown",
   "id": "f2a9a18e-7e69-4c41-bbe3-d7c7a41b04c1",
   "metadata": {},
   "source": [
    "Q47. Find the shortest string in a tuple of strings."
   ]
  },
  {
   "cell_type": "code",
   "execution_count": 16,
   "id": "e6155583-e8e3-457e-b7ae-901e778f14ba",
   "metadata": {},
   "outputs": [
    {
     "name": "stdout",
     "output_type": "stream",
     "text": [
      "Shortest string: `Jain` with length=`4`\n"
     ]
    }
   ],
   "source": [
    "str_tpl = (\"Paras\", \"Jain\", \"Data\", \"Science\", \"Nice\")\n",
    "min_l = len(str_tpl[0])\n",
    "min_str = str_tpl[0]\n",
    "\n",
    "for string in str_tpl:\n",
    "    if len(string) < min_l:\n",
    "        min_l = len(string)\n",
    "        min_str = string\n",
    "        \n",
    "print(f\"Shortest string: `{min_str}` with length=`{min_l}`\")"
   ]
  },
  {
   "cell_type": "markdown",
   "id": "dc9fc67d-1b93-4342-92ed-b2af908698b8",
   "metadata": {},
   "source": [
    "Q48. Create a tuple of the first `n` triangular numbers."
   ]
  },
  {
   "cell_type": "code",
   "execution_count": 17,
   "id": "d36342bf-9704-492d-b580-1a1023e95bdc",
   "metadata": {},
   "outputs": [
    {
     "name": "stdin",
     "output_type": "stream",
     "text": [
      "Enter the value of n:  10\n"
     ]
    },
    {
     "name": "stdout",
     "output_type": "stream",
     "text": [
      "First 10 Triangular numbers: (1, 3, 6, 10, 15, 21, 28, 36, 45, 55)\n"
     ]
    }
   ],
   "source": [
    "n = int(input(\"Enter the value of n: \"))\n",
    "\n",
    "k = j = 1\n",
    "tri_list = []\n",
    "for i in range(1, n+1):\n",
    "    tri_list.append(k)\n",
    "    j += 1\n",
    "    k += j\n",
    "    \n",
    "print(f\"First {n} Triangular numbers: {tuple(tri_list)}\")"
   ]
  },
  {
   "cell_type": "markdown",
   "id": "79ee6eac-3796-4959-8584-968e2b3f07a3",
   "metadata": {},
   "source": [
    "Q49. Check if a tuple contains another tuple as a subsequence"
   ]
  },
  {
   "cell_type": "code",
   "execution_count": 19,
   "id": "78785528-80c6-4a96-83da-add4c5625951",
   "metadata": {},
   "outputs": [
    {
     "name": "stdout",
     "output_type": "stream",
     "text": [
      "Tuple-2 is a subsequence of Tuple-1.\n"
     ]
    }
   ],
   "source": [
    "tpl1 = (1, 10, 2, 20, 3, 30, 4, 40, 5, 50)\n",
    "tpl2 = (4, 5, 50)\n",
    "\n",
    "i = j = 0\n",
    "while i < len(tpl1):\n",
    "    if tpl1[i] == tpl2[j]:\n",
    "        j += 1\n",
    "        \n",
    "    i += 1\n",
    "    \n",
    "if j == len(tpl2):\n",
    "    print(\"Tuple-2 is a subsequence of Tuple-1.\")\n",
    "else:\n",
    "    print(\"Tuple-2 is not a subsequence of Tuple-1.\")"
   ]
  },
  {
   "cell_type": "markdown",
   "id": "9689a0cc-5470-4777-8f2d-8890d65f290e",
   "metadata": {},
   "source": [
    "Q50. Create a tuple of alternating 1s and 0s of length `n`."
   ]
  },
  {
   "cell_type": "code",
   "execution_count": 22,
   "id": "6d9b9e98-9c79-4613-8ce8-af33ec9a783a",
   "metadata": {},
   "outputs": [
    {
     "name": "stdin",
     "output_type": "stream",
     "text": [
      "Enter value for n:  7\n"
     ]
    },
    {
     "name": "stdout",
     "output_type": "stream",
     "text": [
      "Final tuple: (0, 1, 0, 1, 0, 1, 0)\n"
     ]
    }
   ],
   "source": [
    "num = int(input(\"Enter value for n: \"))\n",
    "tpl_lst = []\n",
    "\n",
    "for i in range(num):\n",
    "    if i%2 == 0:\n",
    "        tpl_lst.append(0)\n",
    "    else:\n",
    "        tpl_lst.append(1)\n",
    "        \n",
    "print(f\"Final tuple: {tuple(tpl_lst)}\")"
   ]
  },
  {
   "cell_type": "markdown",
   "id": "1f15a4c8-8598-434e-a50d-6b9e8d929cbc",
   "metadata": {},
   "source": [
    "**Set Based Practice Problem :**"
   ]
  },
  {
   "cell_type": "markdown",
   "id": "2403e520-b021-442c-a82b-af487ac3ddc5",
   "metadata": {},
   "source": [
    "Q1. Create a set with integers from 1 to 5"
   ]
  },
  {
   "cell_type": "code",
   "execution_count": 25,
   "id": "ea2cf635-fc3a-4bcb-aff3-c48d0a1591a0",
   "metadata": {},
   "outputs": [
    {
     "data": {
      "text/plain": [
       "{1, 2, 3, 4, 5}"
      ]
     },
     "execution_count": 25,
     "metadata": {},
     "output_type": "execute_result"
    }
   ],
   "source": [
    "sets = {1, 2, 3, 4, 5}\n",
    "sets"
   ]
  },
  {
   "cell_type": "markdown",
   "id": "f951012c-9f40-4783-aaaf-b9699140e22a",
   "metadata": {},
   "source": [
    "Q2. Add an element to a set."
   ]
  },
  {
   "cell_type": "code",
   "execution_count": 26,
   "id": "65bcc53f-3566-49b3-952c-21ba8f0c9240",
   "metadata": {},
   "outputs": [
    {
     "name": "stdout",
     "output_type": "stream",
     "text": [
      "{1, 2, 3, 4, 5, 6}\n"
     ]
    }
   ],
   "source": [
    "sets = {1, 2, 3, 4, 5}\n",
    "\n",
    "sets.add(6)\n",
    "print(sets)"
   ]
  },
  {
   "cell_type": "markdown",
   "id": "268169bc-a980-4e73-b775-44d15dadc2d2",
   "metadata": {},
   "source": [
    "Q3. Remove an element from a set."
   ]
  },
  {
   "cell_type": "code",
   "execution_count": 27,
   "id": "80faeaa2-c50c-400f-9126-e9a7f88acfec",
   "metadata": {},
   "outputs": [
    {
     "name": "stdout",
     "output_type": "stream",
     "text": [
      "{1, 2, 3, 4, 5}\n"
     ]
    }
   ],
   "source": [
    "sets = {1, 2, 3, 4, 5, 6}\n",
    "\n",
    "sets.remove(6)\n",
    "print(sets)"
   ]
  },
  {
   "cell_type": "markdown",
   "id": "7f702bf0-14fa-4abe-8ce6-bdfc284a64d3",
   "metadata": {},
   "source": [
    "Q4. Check if an element exists in a set."
   ]
  },
  {
   "cell_type": "code",
   "execution_count": 29,
   "id": "2efcb095-6c46-4fbb-bfcf-5972de329008",
   "metadata": {},
   "outputs": [
    {
     "name": "stdout",
     "output_type": "stream",
     "text": [
      "'5' exists inside '{1, 2, 3, 4, 5, 6}'\n"
     ]
    }
   ],
   "source": [
    "sets = {1, 2, 3, 4, 5, 6}\n",
    "ele = 5\n",
    "\n",
    "if ele in sets:\n",
    "    print(f\"'{ele}' exists inside '{sets}'\")\n",
    "else:\n",
    "    print(f\"'{ele}' does not exist inside '{sets}'\")"
   ]
  },
  {
   "cell_type": "markdown",
   "id": "b926697a-f170-4471-8872-cf096fa71a6d",
   "metadata": {},
   "source": [
    "Q5. Find the length of a set without using the `len()` function."
   ]
  },
  {
   "cell_type": "code",
   "execution_count": 31,
   "id": "0e495eec-120e-4bb0-a636-c1cd6c346b11",
   "metadata": {},
   "outputs": [
    {
     "name": "stdout",
     "output_type": "stream",
     "text": [
      "Length of `{1, 2, 3, 4, 5, 6, 'Paras'}` is `7`\n"
     ]
    }
   ],
   "source": [
    "sets = {1, 2, 3, 4, 5, 6, 'Paras'}\n",
    "lnth = 0\n",
    "\n",
    "for ele in sets:\n",
    "    lnth += 1\n",
    "    \n",
    "print(f\"Length of `{sets}` is `{lnth}`\")"
   ]
  },
  {
   "cell_type": "markdown",
   "id": "5a11e796-88d9-43e9-a6b4-509335f2d14c",
   "metadata": {},
   "source": [
    "Q6. Clear all elements from a set"
   ]
  },
  {
   "cell_type": "code",
   "execution_count": 33,
   "id": "5cecb207-4700-4313-8687-8a8b6c127b10",
   "metadata": {},
   "outputs": [
    {
     "name": "stdout",
     "output_type": "stream",
     "text": [
      "Number of elements in set : 0\n"
     ]
    }
   ],
   "source": [
    "sets = {1, 2, 3, 4, 5, 6, 'Paras'}\n",
    "\n",
    "sets.clear()\n",
    "print(f\"Number of elements in set : {len(sets)}\")"
   ]
  },
  {
   "cell_type": "markdown",
   "id": "cdb558a6-78c1-4377-a616-f5c42a1c378f",
   "metadata": {},
   "source": [
    "Q7. Create a set of even numbers from 1 to 10."
   ]
  },
  {
   "cell_type": "code",
   "execution_count": 36,
   "id": "b839c2ff-4931-4fe9-9a54-f53f97074f93",
   "metadata": {},
   "outputs": [
    {
     "name": "stdout",
     "output_type": "stream",
     "text": [
      "{2, 4, 6, 8, 10}\n"
     ]
    }
   ],
   "source": [
    "print(set(range(2, 11, 2)))"
   ]
  },
  {
   "cell_type": "markdown",
   "id": "40408401-09ac-4eb7-b4fa-c26035054bf7",
   "metadata": {},
   "source": [
    "Q8. Create a set of odd numbers from 1 to 10."
   ]
  },
  {
   "cell_type": "code",
   "execution_count": 37,
   "id": "0baccbae-4994-4157-98e8-957b4ba65534",
   "metadata": {},
   "outputs": [
    {
     "name": "stdout",
     "output_type": "stream",
     "text": [
      "{1, 3, 5, 7, 9}\n"
     ]
    }
   ],
   "source": [
    "print(set(range(1, 10, 2)))"
   ]
  },
  {
   "cell_type": "markdown",
   "id": "c97507d1-649f-4623-b00e-89c42844e5c5",
   "metadata": {},
   "source": [
    "Q9. Find the union of two sets."
   ]
  },
  {
   "cell_type": "code",
   "execution_count": 43,
   "id": "fba5f541-b9a9-4327-a0e7-e3303377335d",
   "metadata": {},
   "outputs": [
    {
     "name": "stdout",
     "output_type": "stream",
     "text": [
      "Union of 2 sets: {2, 3, 4, 5, 6, 7, 8, 9, 10, 11}\n"
     ]
    }
   ],
   "source": [
    "set1 = {3, 5, 7, 9, 11}\n",
    "set2 = {2, 4, 6, 8, 10}\n",
    "\n",
    "print(f\"Union of 2 sets: {set1.union(set2)}\")"
   ]
  },
  {
   "cell_type": "markdown",
   "id": "90cac2cf-83a4-4591-b046-700285a3ea89",
   "metadata": {},
   "source": [
    "Q10. Find the intersection of two sets."
   ]
  },
  {
   "cell_type": "code",
   "execution_count": 45,
   "id": "75aa0a68-b162-4387-be20-b4493a9a5c84",
   "metadata": {},
   "outputs": [
    {
     "name": "stdout",
     "output_type": "stream",
     "text": [
      "Intersection of 2 sets: {8, 4}\n"
     ]
    }
   ],
   "source": [
    "set1 = {3, 4, 7, 8, 11}\n",
    "set2 = {2, 4, 6, 8, 10}\n",
    "\n",
    "print(f\"Intersection of 2 sets: {set1.intersection(set2)}\")"
   ]
  },
  {
   "cell_type": "markdown",
   "id": "41470d27-8a5f-42c0-8783-0a169690cc22",
   "metadata": {},
   "source": [
    "Q11. Find the difference between two sets."
   ]
  },
  {
   "cell_type": "code",
   "execution_count": 46,
   "id": "cdd0b5db-7527-4dea-a6ca-2b324e697296",
   "metadata": {},
   "outputs": [
    {
     "name": "stdout",
     "output_type": "stream",
     "text": [
      "Difference in 2 sets: {11, 3, 7}\n"
     ]
    }
   ],
   "source": [
    "set1 = {3, 4, 7, 8, 11}\n",
    "set2 = {2, 4, 6, 8, 10}\n",
    "\n",
    "print(f\"Difference in 2 sets: {set1-set2}\")"
   ]
  },
  {
   "cell_type": "markdown",
   "id": "0d431f9d-1f8c-4632-a2cc-3bb4ca49767e",
   "metadata": {},
   "source": [
    "Q12. Check if a set is a subset of another set."
   ]
  },
  {
   "cell_type": "code",
   "execution_count": 50,
   "id": "6fc3c04d-5934-4f89-ab7e-9b6d6e4444ea",
   "metadata": {},
   "outputs": [
    {
     "name": "stdout",
     "output_type": "stream",
     "text": [
      "Is set2 subset of set1: True\n"
     ]
    }
   ],
   "source": [
    "set1 = {3, 4, 7, 8, 11}\n",
    "set2 = {4, 7}\n",
    "\n",
    "print(f\"Is set-2 subset of set-1: {set2.issubset(set1)}\")"
   ]
  },
  {
   "cell_type": "markdown",
   "id": "645e6588-e1cf-49b1-a51c-c6f672b88003",
   "metadata": {},
   "source": [
    "Q13. Check if a set is a superset of another set."
   ]
  },
  {
   "cell_type": "code",
   "execution_count": 54,
   "id": "23c51b23-6502-4e34-afe6-e749e8b265f6",
   "metadata": {},
   "outputs": [
    {
     "name": "stdout",
     "output_type": "stream",
     "text": [
      "Is set-1 superset of set-2: True\n"
     ]
    }
   ],
   "source": [
    "set1 = {3, 4, 7, 8, 11}\n",
    "set2 = {4, 7}\n",
    "\n",
    "print(f\"Is set-1 superset of set-2: {set1.issuperset(set2)}\")"
   ]
  },
  {
   "cell_type": "markdown",
   "id": "0f7265e0-f7eb-4e1a-9ec4-18decd3ab711",
   "metadata": {},
   "source": [
    "Q14. Create a set from a list."
   ]
  },
  {
   "cell_type": "code",
   "execution_count": 57,
   "id": "61123042-34cc-417b-b682-4b7d02de0518",
   "metadata": {},
   "outputs": [
    {
     "name": "stdout",
     "output_type": "stream",
     "text": [
      "Set from list: {3, 4, 7, 8, 11, 19, 20}\n"
     ]
    }
   ],
   "source": [
    "lst = [3, 4, 7, 8, 11, 7, 8, 11, 19, 20]\n",
    "\n",
    "print(f\"Set from list: {set(lst)}\")"
   ]
  },
  {
   "cell_type": "markdown",
   "id": "bb2dc10f-694f-4a40-993e-925237cb764b",
   "metadata": {},
   "source": [
    "Q15. Convert a set to a list."
   ]
  },
  {
   "cell_type": "code",
   "execution_count": 56,
   "id": "fb23926a-f0a1-4151-aa2d-ed905189a9fd",
   "metadata": {},
   "outputs": [
    {
     "name": "stdout",
     "output_type": "stream",
     "text": [
      "List from set: [3, 4, 7, 8, 11]\n"
     ]
    }
   ],
   "source": [
    "sets = {3, 4, 7, 8, 11}\n",
    "\n",
    "print(f\"List from set: {list(sets)}\")"
   ]
  },
  {
   "cell_type": "markdown",
   "id": "de34acfa-fa53-4b9b-a347-c63827badee5",
   "metadata": {},
   "source": [
    "Q16. Remove a random element from a set."
   ]
  },
  {
   "cell_type": "code",
   "execution_count": 2,
   "id": "ea0f7af4-f673-47b1-9551-b3a01289c0d5",
   "metadata": {},
   "outputs": [],
   "source": [
    "import random"
   ]
  },
  {
   "cell_type": "code",
   "execution_count": 9,
   "id": "bf315f8a-5284-40cb-8c90-b2215cbc211e",
   "metadata": {},
   "outputs": [
    {
     "name": "stdout",
     "output_type": "stream",
     "text": [
      "Original set: {1, 2, 3, 4, 5, 6, 7, 8, 9, 10, 11, 12, 13, 14}\n",
      "\n",
      "Element removed = 4\n",
      "Final set: {1, 2, 3, 5, 6, 7, 8, 9, 10, 11, 12, 13, 14}\n"
     ]
    }
   ],
   "source": [
    "sets = set(range(1, 15))\n",
    "print(f\"Original set: {sets}\")\n",
    "\n",
    "ele = random.randint(1, 15)\n",
    "sets.remove(ele)\n",
    "print(f\"\\nElement removed = {ele}\")\n",
    "print(f\"Final set: {sets}\")"
   ]
  },
  {
   "cell_type": "markdown",
   "id": "7c686c71-d192-4a2a-ab81-64a1af8f5a5b",
   "metadata": {},
   "source": [
    "Q17. Pop an element from a set."
   ]
  },
  {
   "cell_type": "code",
   "execution_count": 21,
   "id": "b14a7566-a1eb-4df2-a2c9-3c223e92bc6f",
   "metadata": {},
   "outputs": [
    {
     "name": "stdout",
     "output_type": "stream",
     "text": [
      "Original set: {1, 2, 3, 4, 5, 6, 7, 8, 9, 10, 11, 12, 13, 14}\n",
      "\n",
      "Element popped = 1\n",
      "Final set: {2, 3, 4, 5, 6, 7, 8, 9, 10, 11, 12, 13, 14}\n"
     ]
    }
   ],
   "source": [
    "sets = set(range(1, 15))\n",
    "print(f\"Original set: {sets}\")\n",
    "\n",
    "ele = sets.pop()\n",
    "print(f\"\\nElement popped = {ele}\")\n",
    "print(f\"Final set: {sets}\")"
   ]
  },
  {
   "cell_type": "markdown",
   "id": "926fbf7a-3550-4b98-a81b-b789c9424326",
   "metadata": {},
   "source": [
    "Q18. Check if two sets have no elements in common."
   ]
  },
  {
   "cell_type": "code",
   "execution_count": 24,
   "id": "5d4b7840-6e9b-4fc2-95c2-94236fbc0437",
   "metadata": {},
   "outputs": [
    {
     "name": "stdout",
     "output_type": "stream",
     "text": [
      "No elements in common.\n"
     ]
    }
   ],
   "source": [
    "set1 = {3, 4, 7, 8, 11, 7, 8, 11, 19, 20}\n",
    "set2 = {2, 5, 6, 9, 10}\n",
    "\n",
    "if len(set1.intersection(set2)) == 0:\n",
    "    print(\"No elements in common.\")\n",
    "else:\n",
    "    print(\"Atleast 1 element is common.\")"
   ]
  },
  {
   "cell_type": "markdown",
   "id": "2c96c869-1339-46db-b529-de9166816d71",
   "metadata": {},
   "source": [
    "Q19. Find the symmetric difference between two sets."
   ]
  },
  {
   "cell_type": "code",
   "execution_count": 27,
   "id": "931160cf-9bad-4df4-8a2e-d78e9055633d",
   "metadata": {},
   "outputs": [
    {
     "name": "stdout",
     "output_type": "stream",
     "text": [
      "Symmetric difference: {2, 3, 19, 20, 10, 11}\n"
     ]
    }
   ],
   "source": [
    "set1 = {3, 4, 7, 8, 11, 7, 8, 11, 19, 20}\n",
    "set2 = {2, 4, 7, 8, 10}\n",
    "\n",
    "print(f\"Symmetric difference: {set1.symmetric_difference(set2)}\")"
   ]
  },
  {
   "cell_type": "markdown",
   "id": "8e2f1fda-1335-4100-b264-fbc44a4343f9",
   "metadata": {},
   "source": [
    "Q20. Update a set with elements from another set."
   ]
  },
  {
   "cell_type": "code",
   "execution_count": 31,
   "id": "3ea89796-acd8-46fa-a2d4-a699024b7fcd",
   "metadata": {},
   "outputs": [
    {
     "name": "stdout",
     "output_type": "stream",
     "text": [
      "Updated set: {2, 3, 4, 7, 8, 10, 11, 19, 20}\n"
     ]
    }
   ],
   "source": [
    "set1 = {3, 4, 7, 8, 11, 7, 8, 11, 19, 20}\n",
    "set2 = {2, 4, 7, 8, 10}\n",
    "\n",
    "set1.update(set2)\n",
    "print(f\"Updated set: {set1}\")"
   ]
  },
  {
   "cell_type": "markdown",
   "id": "5e3b11c2-0d6a-4ad3-bf36-2ddd328dc604",
   "metadata": {},
   "source": [
    "Q21. Create a set of the first 5 prime numbers."
   ]
  },
  {
   "cell_type": "code",
   "execution_count": 34,
   "id": "f562ea4b-e66f-4908-bdec-718ac139bbc6",
   "metadata": {},
   "outputs": [
    {
     "name": "stdout",
     "output_type": "stream",
     "text": [
      "Set of the first 5 prime numbers: {2, 3, 5, 7, 11}\n"
     ]
    }
   ],
   "source": [
    "num = 2\n",
    "sets = set()\n",
    "\n",
    "while len(sets) < 5:\n",
    "    for i in range(1, num//2+1):\n",
    "        if i != 1 and num%i == 0:\n",
    "            break\n",
    "        elif i == num//2:\n",
    "            sets.add(num)\n",
    "    num+=1\n",
    "            \n",
    "print(f\"Set of the first 5 prime numbers: {sets}\")    "
   ]
  },
  {
   "cell_type": "markdown",
   "id": "3d91f302-935e-4e78-b0f8-32cd333761d1",
   "metadata": {},
   "source": [
    "Q22. Check if two sets are identical."
   ]
  },
  {
   "cell_type": "code",
   "execution_count": 36,
   "id": "8ae43eeb-3896-475a-963e-ecb473a7150a",
   "metadata": {},
   "outputs": [
    {
     "name": "stdout",
     "output_type": "stream",
     "text": [
      "Sets are identical.\n"
     ]
    }
   ],
   "source": [
    "set1 = {2, 4, 7, 8, 10}\n",
    "set2 = {2, 4, 7, 8, 10}\n",
    "\n",
    "if set1 == set2:\n",
    "    print(\"Sets are identical.\")\n",
    "else:\n",
    "    print(\"Sets are not identical.\")"
   ]
  },
  {
   "cell_type": "markdown",
   "id": "a7552983-3222-4b32-8b48-79902037d22d",
   "metadata": {},
   "source": [
    "Q23. Create a frozen set."
   ]
  },
  {
   "cell_type": "code",
   "execution_count": 40,
   "id": "5dbdbaac-ee78-4ab9-b034-3ab4b83929a9",
   "metadata": {},
   "outputs": [
    {
     "name": "stdout",
     "output_type": "stream",
     "text": [
      "Frozen set: frozenset({2, 4, 7, 8, 9})\n"
     ]
    }
   ],
   "source": [
    "sets = {2, 4, 7, 8, 9}\n",
    "fset = frozenset(sets)\n",
    "\n",
    "print(f\"Frozen set: {fset}\")"
   ]
  },
  {
   "cell_type": "code",
   "execution_count": 41,
   "id": "404b7db0-4298-4793-abef-5b120bc43bfa",
   "metadata": {},
   "outputs": [
    {
     "ename": "TypeError",
     "evalue": "'frozenset' object does not support item assignment",
     "output_type": "error",
     "traceback": [
      "\u001b[0;31m---------------------------------------------------------------------------\u001b[0m",
      "\u001b[0;31mTypeError\u001b[0m                                 Traceback (most recent call last)",
      "Cell \u001b[0;32mIn[41], line 1\u001b[0m\n\u001b[0;32m----> 1\u001b[0m \u001b[43mfset\u001b[49m\u001b[43m[\u001b[49m\u001b[38;5;241;43m0\u001b[39;49m\u001b[43m]\u001b[49m \u001b[38;5;241m=\u001b[39m \u001b[38;5;241m1\u001b[39m\n",
      "\u001b[0;31mTypeError\u001b[0m: 'frozenset' object does not support item assignment"
     ]
    }
   ],
   "source": [
    "fset[0] = 1"
   ]
  },
  {
   "cell_type": "markdown",
   "id": "2f739e08-7894-484d-a937-3962b7ad2bab",
   "metadata": {},
   "source": [
    "This shows a `frozenset` has been successfully created."
   ]
  },
  {
   "cell_type": "markdown",
   "id": "40ab9cae-28d6-4360-b4d6-7eff51e63adb",
   "metadata": {},
   "source": [
    "Q24. Check if a set is disjoint with another set."
   ]
  },
  {
   "cell_type": "code",
   "execution_count": 53,
   "id": "a1fc5135-a140-49b2-ac14-7a4c9badbae9",
   "metadata": {},
   "outputs": [
    {
     "name": "stdout",
     "output_type": "stream",
     "text": [
      "Is sets disjoint: True\n"
     ]
    }
   ],
   "source": [
    "set1 = {2, 4, 7, 8, 9}\n",
    "set2 = {1, 3, 6, 5, 10}\n",
    "\n",
    "print(f\"Is sets disjoint: {set1.isdisjoint(set2)}\")"
   ]
  },
  {
   "cell_type": "markdown",
   "id": "542139b9-4f79-40fe-9eea-c7886f0030c2",
   "metadata": {},
   "source": [
    "Q25. Create a set of squares of numbers from 1 to 5."
   ]
  },
  {
   "cell_type": "code",
   "execution_count": 44,
   "id": "3cd80ad7-5205-4310-b431-b65bf6e6ef5e",
   "metadata": {},
   "outputs": [
    {
     "name": "stdout",
     "output_type": "stream",
     "text": [
      "Set of squares: {1, 4, 9, 16, 25}\n"
     ]
    }
   ],
   "source": [
    "sets = set([i**2 for i in range(1, 6)])\n",
    "\n",
    "print(f\"Set of squares: {sets}\")"
   ]
  },
  {
   "cell_type": "markdown",
   "id": "98fd4159-0569-435b-aee7-915d8ac101b4",
   "metadata": {},
   "source": [
    "Q26. Filter out all even numbers from a set."
   ]
  },
  {
   "cell_type": "code",
   "execution_count": 46,
   "id": "a99ce712-3fdd-4a3b-a332-c3a36e3983a4",
   "metadata": {},
   "outputs": [
    {
     "name": "stdout",
     "output_type": "stream",
     "text": [
      "Filtered set: {65, 99, 37, 101, 13, 27}\n"
     ]
    }
   ],
   "source": [
    "sets = {12, 13, 65, 16, 98, 12, 99, 37, 27, 30, 101}\n",
    "\n",
    "print(f\"Filtered set: {set(filter(lambda a: a%2!=0, sets))}\")"
   ]
  },
  {
   "cell_type": "markdown",
   "id": "6346e4b4-5e3f-4d47-8192-31dd573e7983",
   "metadata": {},
   "source": [
    "Q27. Multiply all elements in a set by 2."
   ]
  },
  {
   "cell_type": "code",
   "execution_count": 48,
   "id": "a6bf77cc-fad7-4c61-8ed1-ff8f08e34349",
   "metadata": {},
   "outputs": [
    {
     "name": "stdout",
     "output_type": "stream",
     "text": [
      "Final set: {130, 198, 202, 74, 54, 26}\n"
     ]
    }
   ],
   "source": [
    "sets = {13, 65, 99, 37, 27, 101}\n",
    "\n",
    "res = set([ele*2 for ele in sets])\n",
    "print(f\"Final set: {res}\")"
   ]
  },
  {
   "cell_type": "markdown",
   "id": "b5405836-7268-4fa8-815c-462b109fe6bd",
   "metadata": {},
   "source": [
    "Q28. Create a set of random numbers."
   ]
  },
  {
   "cell_type": "code",
   "execution_count": 49,
   "id": "572bcc0b-2e47-4591-a3db-972e95eb8c54",
   "metadata": {},
   "outputs": [],
   "source": [
    "import random"
   ]
  },
  {
   "cell_type": "code",
   "execution_count": 52,
   "id": "7deaf120-2aec-4149-ab74-66405c71df84",
   "metadata": {},
   "outputs": [
    {
     "name": "stdout",
     "output_type": "stream",
     "text": [
      "Final set: {33, 99, 11, 43, 78, 85, 86, 24, 91, 93}\n"
     ]
    }
   ],
   "source": [
    "rnd_set = set([random.randint(1, 100) for i in range(10)])\n",
    "\n",
    "print(f\"Final set: {rnd_set}\")"
   ]
  },
  {
   "cell_type": "markdown",
   "id": "40288ad9-1e6f-4044-be6d-7d56fa65343e",
   "metadata": {},
   "source": [
    "Q29. Check if a set is empty."
   ]
  },
  {
   "cell_type": "code",
   "execution_count": 56,
   "id": "c8703372-3d99-4763-a614-dc28243782da",
   "metadata": {},
   "outputs": [
    {
     "name": "stdout",
     "output_type": "stream",
     "text": [
      "Set is not empty.\n"
     ]
    }
   ],
   "source": [
    "sets = set([1, 12, 133, 43, 4565])\n",
    "\n",
    "if len(sets) == 0:\n",
    "    print(\"Set is empty.\")\n",
    "else:\n",
    "    print(\"Set is not empty.\")"
   ]
  },
  {
   "cell_type": "markdown",
   "id": "d88e713f-2cf9-46e5-8dad-4635baef94cd",
   "metadata": {},
   "source": [
    "Q30. Create a nested set (hint: use frozenset)."
   ]
  },
  {
   "cell_type": "code",
   "execution_count": 3,
   "id": "9d41ce0f-0e45-47f8-9d5e-4b858d9e362c",
   "metadata": {},
   "outputs": [
    {
     "name": "stdout",
     "output_type": "stream",
     "text": [
      "Nested set: {1, 40, 10, frozenset({19, 20, 10, 12, 14, 15}), 20, 30}\n"
     ]
    }
   ],
   "source": [
    "set1 = frozenset({10, 12, 15, 19, 20, 14})\n",
    "\n",
    "nst_set = {1, 10, 20, 30, 40, set1}\n",
    "print(f\"Nested set: {nst_set}\")"
   ]
  },
  {
   "cell_type": "markdown",
   "id": "b8582f08-5731-4e9a-b699-2df835e17e00",
   "metadata": {},
   "source": [
    "Q31. Remove an element from a set using the discard method."
   ]
  },
  {
   "cell_type": "code",
   "execution_count": 7,
   "id": "744399f9-98b4-4c11-9232-5f415b1a9ded",
   "metadata": {},
   "outputs": [
    {
     "name": "stdout",
     "output_type": "stream",
     "text": [
      "Original set: {19, 20, 10, 12, 14, 15}\n",
      "Final set: {20, 10, 12, 14, 15}\n"
     ]
    }
   ],
   "source": [
    "sets = {10, 12, 15, 19, 20, 14}\n",
    "print(f\"Original set: {sets}\")\n",
    "\n",
    "sets.discard(19)\n",
    "print(f\"Final set: {sets}\")"
   ]
  },
  {
   "cell_type": "markdown",
   "id": "423e05e5-f652-4aaf-b944-fab8dcfa8e82",
   "metadata": {},
   "source": [
    "Q32. Compare two sets."
   ]
  },
  {
   "cell_type": "code",
   "execution_count": 9,
   "id": "f1843719-11cb-4e53-9bf8-e891e6ae9e34",
   "metadata": {},
   "outputs": [
    {
     "name": "stdout",
     "output_type": "stream",
     "text": [
      "{1, 10, 5}  > {1, 11, 5}: False\n",
      "{1, 10, 5}  < {1, 11, 5}: False\n",
      "{1, 10, 5} == {1, 11, 5}: False\n",
      "{1, 10, 5} != {1, 11, 5}: True\n"
     ]
    }
   ],
   "source": [
    "set1 = {1, 5, 10}\n",
    "set2 = {1, 5, 11}\n",
    "\n",
    "print(f\"{set1}  > {set2}: {set1 > set2}\")\n",
    "print(f\"{set1}  < {set2}: {set1 < set2}\")\n",
    "print(f\"{set1} == {set2}: {set1 == set2}\")\n",
    "print(f\"{set1} != {set2}: {set1 != set2}\")"
   ]
  },
  {
   "cell_type": "markdown",
   "id": "c422683d-3784-479a-8519-e1d0ccbd292f",
   "metadata": {},
   "source": [
    "Q33. Create a set from a string."
   ]
  },
  {
   "cell_type": "code",
   "execution_count": 10,
   "id": "9b72b3c5-986e-4402-b495-2aa1a74cdd64",
   "metadata": {},
   "outputs": [
    {
     "name": "stdout",
     "output_type": "stream",
     "text": [
      "Set: {'i', 'c', 'n', 'y', '!', 'd', ' ', 'a', 'v', 'H', 'e'}\n"
     ]
    }
   ],
   "source": [
    "string = \"Have a nice day !\"\n",
    "\n",
    "print(f\"Set: {set(string)}\")"
   ]
  },
  {
   "cell_type": "markdown",
   "id": "a2280b96-81cb-4575-81f0-dd1b6213204b",
   "metadata": {},
   "source": [
    "Q34. Convert a set of strings to a set of integers."
   ]
  },
  {
   "cell_type": "code",
   "execution_count": 12,
   "id": "2583f3a6-a155-45e8-91a2-72d9a433e32a",
   "metadata": {},
   "outputs": [
    {
     "name": "stdout",
     "output_type": "stream",
     "text": [
      "Set of integers: {1, 2, 3, 4, 5, 6, 7}\n"
     ]
    }
   ],
   "source": [
    "sets = {'1', '2', '3', '4', '5', '6', '7'}\n",
    "\n",
    "int_set = set(map(lambda a: int(a), sets))\n",
    "print(f\"Set of integers: {int_set}\")"
   ]
  },
  {
   "cell_type": "markdown",
   "id": "d610f638-9c45-422c-9600-33426e89dbd4",
   "metadata": {},
   "source": [
    "Q35. Convert a set of integers to a set of strings."
   ]
  },
  {
   "cell_type": "code",
   "execution_count": 13,
   "id": "a83aa73e-ecff-44ff-a932-cea2dc8fc334",
   "metadata": {},
   "outputs": [
    {
     "name": "stdout",
     "output_type": "stream",
     "text": [
      "Set of strings: {'3', '5', '2', '4', '6', '7', '1'}\n"
     ]
    }
   ],
   "source": [
    "sets = {1, 2, 3, 4, 5, 6, 7}\n",
    "\n",
    "str_set = set(map(lambda a: str(a), sets))\n",
    "print(f\"Set of strings: {str_set}\")"
   ]
  },
  {
   "cell_type": "markdown",
   "id": "5fe94139-0a44-491b-8fea-4cba45c789fc",
   "metadata": {},
   "source": [
    "Q36. Create a set from a tuple."
   ]
  },
  {
   "cell_type": "code",
   "execution_count": 16,
   "id": "558faf01-4f6a-413f-8e7d-ebe19dc80c0a",
   "metadata": {},
   "outputs": [
    {
     "name": "stdout",
     "output_type": "stream",
     "text": [
      "Set from tuple: {1, 2, 3, 4, 5, 6, 7, 8, 9, 10}\n"
     ]
    }
   ],
   "source": [
    "tpl = (1, 2, 1, 3, 4, 5, 6, 7, 3, 8, 1, 3, 9, 10)\n",
    "\n",
    "set_tpl = set(tpl)\n",
    "print(f\"Set from tuple: {set_tpl}\")"
   ]
  },
  {
   "cell_type": "markdown",
   "id": "658e1784-9490-479b-afca-6675d7680dcb",
   "metadata": {},
   "source": [
    "Q37. Convert a set to a tuple."
   ]
  },
  {
   "cell_type": "code",
   "execution_count": 17,
   "id": "df59f42a-d52b-4950-b037-62795dda8cea",
   "metadata": {},
   "outputs": [
    {
     "name": "stdout",
     "output_type": "stream",
     "text": [
      "Tuple from set: (1, 2, 3, 4, 5, 6, 7, 8, 9, 10)\n"
     ]
    }
   ],
   "source": [
    "sets = {1, 2, 3, 4, 5, 6, 7, 8, 9, 10}\n",
    "\n",
    "print(f\"Tuple from set: {tuple(sets)}\")"
   ]
  },
  {
   "cell_type": "markdown",
   "id": "90b13c32-bc1a-4cbc-8c89-1fd7c7bfaea3",
   "metadata": {},
   "source": [
    "Q38. Find the maximum value in a set"
   ]
  },
  {
   "cell_type": "code",
   "execution_count": 18,
   "id": "93bb5ec1-7297-44e6-b3bb-3625db7067fe",
   "metadata": {},
   "outputs": [
    {
     "name": "stdout",
     "output_type": "stream",
     "text": [
      "Max value in set: 10\n"
     ]
    }
   ],
   "source": [
    "inp_sets = {1, 2, 3, 4, 5, 6, 7, 8, 9, 10}\n",
    "\n",
    "print(f\"Max value in set: {max(inp_sets)}\")"
   ]
  },
  {
   "cell_type": "markdown",
   "id": "11649468-ec1e-4db7-8882-ca8daf7270d1",
   "metadata": {},
   "source": [
    "Q39. Find the minimum value in a set."
   ]
  },
  {
   "cell_type": "code",
   "execution_count": 19,
   "id": "ab30e3ed-0a78-4a11-aa28-b5f748751e03",
   "metadata": {},
   "outputs": [
    {
     "name": "stdout",
     "output_type": "stream",
     "text": [
      "Min value in set: 1\n"
     ]
    }
   ],
   "source": [
    "inp_sets = {1, 2, 3, 4, 5, 6, 7, 8, 9, 10}\n",
    "\n",
    "print(f\"Min value in set: {min(inp_sets)}\")"
   ]
  },
  {
   "cell_type": "markdown",
   "id": "aa1ea144-89c3-4f2a-bf2c-f8c248d1a27e",
   "metadata": {},
   "source": [
    "Q40. Create a set from user input."
   ]
  },
  {
   "cell_type": "code",
   "execution_count": 22,
   "id": "b15efd6f-29af-4c73-bb10-122ea23717b7",
   "metadata": {},
   "outputs": [
    {
     "name": "stdin",
     "output_type": "stream",
     "text": [
      "Enter the first value for set:  1\n",
      "Enter the next value for set [Enter 'n' if you wish to stop]:  2\n",
      "Enter the next value for set [Enter 'n' if you wish to stop]:  3\n",
      "Enter the next value for set [Enter 'n' if you wish to stop]:  4\n",
      "Enter the next value for set [Enter 'n' if you wish to stop]:  1\n",
      "Enter the next value for set [Enter 'n' if you wish to stop]:  2\n",
      "Enter the next value for set [Enter 'n' if you wish to stop]:  3\n",
      "Enter the next value for set [Enter 'n' if you wish to stop]:  4\n",
      "Enter the next value for set [Enter 'n' if you wish to stop]:  1\n",
      "Enter the next value for set [Enter 'n' if you wish to stop]:  2\n",
      "Enter the next value for set [Enter 'n' if you wish to stop]:  3\n",
      "Enter the next value for set [Enter 'n' if you wish to stop]:  4\n",
      "Enter the next value for set [Enter 'n' if you wish to stop]:  n\n"
     ]
    },
    {
     "name": "stdout",
     "output_type": "stream",
     "text": [
      "Final set: {'2', '4', '3', '1'}\n"
     ]
    }
   ],
   "source": [
    "sets = set()\n",
    "usrinput = input(\"Enter the first value for set: \")\n",
    "\n",
    "while usrinput != \"n\":\n",
    "    sets.add(usrinput)\n",
    "    usrinput = input(\"Enter the next value for set [Enter 'n' if you wish to stop]: \")\n",
    "    \n",
    "print(f\"Final set: {sets}\")"
   ]
  },
  {
   "cell_type": "markdown",
   "id": "c90ee7e9-6922-414e-8d50-8847abcf4480",
   "metadata": {},
   "source": [
    "Q41. Check if the intersection of two sets is empty."
   ]
  },
  {
   "cell_type": "code",
   "execution_count": 24,
   "id": "c8cd2a74-ed8d-41a5-9bfb-4f93408b29d2",
   "metadata": {},
   "outputs": [
    {
     "name": "stdout",
     "output_type": "stream",
     "text": [
      "Intersection of 2 sets is empty.\n"
     ]
    }
   ],
   "source": [
    "set1 = {1, 2, 3, 4, 5, 6, 7, 8, 9, 10}\n",
    "set2 = {11, 12, 13, 14, 15, 16, 20, 0}\n",
    "\n",
    "if len(set1.intersection(set2)) == 0:\n",
    "    print(\"Intersection of 2 sets is empty.\")\n",
    "else:\n",
    "    print(\"Intersection of 2 sets is not empty.\")"
   ]
  },
  {
   "cell_type": "markdown",
   "id": "7f99d8fe-82dc-494e-9aba-684aebf0b6d0",
   "metadata": {},
   "source": [
    "Q42. Create a set of the first 5 Fibonacci numbers."
   ]
  },
  {
   "cell_type": "code",
   "execution_count": 26,
   "id": "c6d421de-c65c-4c23-a831-56dc9a3431fa",
   "metadata": {},
   "outputs": [
    {
     "name": "stdout",
     "output_type": "stream",
     "text": [
      "Fibonacci set: {0, 1, 2, 3}\n"
     ]
    }
   ],
   "source": [
    "fib = [0, 1]\n",
    "i = 0\n",
    "\n",
    "while i < 3:\n",
    "    fib.append(fib[-1] + fib[-2])\n",
    "    i += 1\n",
    "    \n",
    "print(f\"Fibonacci set: {set(fib)}\")"
   ]
  },
  {
   "cell_type": "markdown",
   "id": "93fd965f-b296-40b4-af6f-f9a32cef257a",
   "metadata": {},
   "source": [
    "Q43. Remove duplicates from a list using sets."
   ]
  },
  {
   "cell_type": "code",
   "execution_count": 27,
   "id": "35eb7a0a-1952-4ff1-bca5-426dc3e86c41",
   "metadata": {},
   "outputs": [
    {
     "name": "stdout",
     "output_type": "stream",
     "text": [
      "Unique nums in list: {1, 2, 3, 4, 5, 6, 7, 8, 9, 10}\n"
     ]
    }
   ],
   "source": [
    "lst = [1, 1, 1, 1, 2, 3, 4, 4, 4, 4, 5, 6, 7, 6, 6, 6, 8, 9, 9, 10]\n",
    "\n",
    "print(f\"Unique nums in list: {set(lst)}\")"
   ]
  },
  {
   "cell_type": "markdown",
   "id": "97a6c623-0324-4cc2-bde9-1f9e61a6dd86",
   "metadata": {},
   "source": [
    "Q44. Check if two sets have the same elements, regardless of their count."
   ]
  },
  {
   "cell_type": "code",
   "execution_count": 31,
   "id": "a167fb8f-87db-4d28-b721-4b6d83b8b4f4",
   "metadata": {},
   "outputs": [
    {
     "name": "stdout",
     "output_type": "stream",
     "text": [
      "Both sets have same elements.\n"
     ]
    }
   ],
   "source": [
    "set1 = {1, 5, 10, 11, 20, 20, 20, 20} \n",
    "set2 = {11, 10, 5, 20, 1, 1, 1, 1, 1, 1}\n",
    "\n",
    "if set1 == set2:\n",
    "    print(\"Both sets have same elements.\")\n",
    "else:\n",
    "    print(\"Both sets dont have same elements.\")"
   ]
  },
  {
   "cell_type": "markdown",
   "id": "e00407cf-ccde-478d-aa32-038def8c08d6",
   "metadata": {},
   "source": [
    "Q45. Create a set of the first `n` powers of 2"
   ]
  },
  {
   "cell_type": "code",
   "execution_count": 33,
   "id": "8bd0e831-4565-4e4d-83c8-0f0524b62e9a",
   "metadata": {},
   "outputs": [
    {
     "name": "stdin",
     "output_type": "stream",
     "text": [
      "Enter the value for n:  10\n"
     ]
    },
    {
     "name": "stdout",
     "output_type": "stream",
     "text": [
      "Result set: {32, 1, 2, 64, 4, 128, 256, 512, 8, 16}\n"
     ]
    }
   ],
   "source": [
    "n = int(input(\"Enter the value for n: \"))\n",
    "sets = set()\n",
    "\n",
    "for i in range(n):\n",
    "    sets.add(2**i)\n",
    "    \n",
    "print(f\"Result set: {sets}\")"
   ]
  },
  {
   "cell_type": "markdown",
   "id": "450a52de-7ace-44a5-a745-08e87f0378d4",
   "metadata": {},
   "source": [
    "Q46. Find the common elements between a set and a list."
   ]
  },
  {
   "cell_type": "code",
   "execution_count": 46,
   "id": "c09b06c0-9ba1-46d4-8e1f-7a5e5ff5185c",
   "metadata": {},
   "outputs": [
    {
     "name": "stdout",
     "output_type": "stream",
     "text": [
      "Common elements: {10, 30}\n"
     ]
    }
   ],
   "source": [
    "lst = [1, 10, 20, 30, 40, 50, 10, 25, 95]\n",
    "sts = {11, 22, 34, 10, 90, 87, 30, 45, 8}\n",
    "\n",
    "print(f\"Common elements: {set(lst).intersection(sts)}\")"
   ]
  },
  {
   "cell_type": "markdown",
   "id": "9151f5b3-a977-4655-8591-e160ff70027a",
   "metadata": {},
   "source": [
    "Q47. Create a set of the first `n` triangular numbers."
   ]
  },
  {
   "cell_type": "code",
   "execution_count": 36,
   "id": "87a5fef1-dc7e-4d1b-9061-636e06dd7750",
   "metadata": {},
   "outputs": [
    {
     "name": "stdin",
     "output_type": "stream",
     "text": [
      "Enter the value of n:  10\n"
     ]
    },
    {
     "name": "stdout",
     "output_type": "stream",
     "text": [
      "First 10 Triangular numbers: {1, 3, 36, 6, 10, 45, 15, 21, 55, 28}\n"
     ]
    }
   ],
   "source": [
    "n = int(input(\"Enter the value of n: \"))\n",
    "\n",
    "k = j = 1\n",
    "tri_set = set()\n",
    "for i in range(1, n+1):\n",
    "    tri_set.add(k)\n",
    "    j += 1\n",
    "    k += j\n",
    "    \n",
    "print(f\"First {n} Triangular numbers: {tri_set}\")"
   ]
  },
  {
   "cell_type": "markdown",
   "id": "84ebfe1c-e51b-4908-9e7e-7db268afc188",
   "metadata": {},
   "source": [
    "Q48. Check if a set contains another set as a subset."
   ]
  },
  {
   "cell_type": "code",
   "execution_count": 37,
   "id": "5d30e434-01bb-4b67-9a75-1b6f6deb1112",
   "metadata": {},
   "outputs": [
    {
     "name": "stdout",
     "output_type": "stream",
     "text": [
      "Does set1 contains set2 as a subset: True\n"
     ]
    }
   ],
   "source": [
    "set1 = {3, 4, 7, 8, 11}\n",
    "set2 = {4, 7}\n",
    "\n",
    "print(f\"Does set1 contains set2 as a subset: {set1.issuperset(set2)}\")"
   ]
  },
  {
   "cell_type": "markdown",
   "id": "a8c16840-6cdc-443c-b0f5-e65309b9a410",
   "metadata": {},
   "source": [
    "Q49. Create a set of alternating 1s and 0s of length `n`."
   ]
  },
  {
   "cell_type": "code",
   "execution_count": null,
   "id": "a827ad8b-0bda-4759-a071-8541387a22fd",
   "metadata": {},
   "outputs": [
    {
     "name": "stdin",
     "output_type": "stream",
     "text": [
      "Enter value for n:  100\n"
     ]
    },
    {
     "name": "stdout",
     "output_type": "stream",
     "text": [
      "Final set: {0, 1}\n"
     ]
    }
   ],
   "source": [
    "num = int(input(\"Enter value for n: \"))\n",
    "sets = set()\n",
    "\n",
    "for i in range(num):\n",
    "    if i%2 == 0:\n",
    "        sets.add(0)\n",
    "    else:\n",
    "        sets.add(1)\n",
    "        \n",
    "print(f\"Final set: {sets}\")"
   ]
  },
  {
   "cell_type": "markdown",
   "id": "89b3a97f-98b6-4dd3-8be2-9523208cdffc",
   "metadata": {},
   "source": [
    "Q50. Merge multiple sets into one."
   ]
  },
  {
   "cell_type": "code",
   "execution_count": null,
   "id": "7e54cf1f-9517-4a17-aad9-2722cd978a0a",
   "metadata": {},
   "outputs": [
    {
     "name": "stdout",
     "output_type": "stream",
     "text": [
      "Merged set: {0, 1, 2, 38, 40, 10, 45, 15, 50, 18, 25, 28, 30}\n"
     ]
    }
   ],
   "source": [
    "set1 = {0, 10, 25, 30, 40, 50}\n",
    "set2 = {1, 15, 25, 30, 45, 50}\n",
    "set3 = {2, 18, 28, 38, 45, 50}\n",
    "\n",
    "print(f\"Merged set: {set.union(set1, set2, set3)}\")"
   ]
  }
 ],
 "metadata": {
  "kernelspec": {
   "display_name": "Python 3 (ipykernel)",
   "language": "python",
   "name": "python3"
  },
  "language_info": {
   "codemirror_mode": {
    "name": "ipython",
    "version": 3
   },
   "file_extension": ".py",
   "mimetype": "text/x-python",
   "name": "python",
   "nbconvert_exporter": "python",
   "pygments_lexer": "ipython3",
   "version": "3.10.8"
  }
 },
 "nbformat": 4,
 "nbformat_minor": 5
}
